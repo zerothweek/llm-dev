{
 "cells": [
  {
   "cell_type": "code",
   "execution_count": 1,
   "id": "99a62876-aca7-4ae5-8ba9-f45bde864e7f",
   "metadata": {},
   "outputs": [
    {
     "name": "stdout",
     "output_type": "stream",
     "text": [
      "The token has not been saved to the git credentials helper. Pass `add_to_git_credential=True` in this function directly or `--add-to-git-credential` if using via `huggingface-cli` if you want to set the git credential as well.\n",
      "Token is valid (permission: fineGrained).\n",
      "Your token has been saved to /root/.cache/huggingface/token\n",
      "Login successful\n"
     ]
    }
   ],
   "source": [
    "import huggingface_hub\n",
    "\n",
    "huggingface_hub.login(\"Your_Huggingface_Token\")"
   ]
  },
  {
   "cell_type": "code",
   "execution_count": 2,
   "id": "40e30194-4e61-4b4d-b772-d53ae83ab7fc",
   "metadata": {},
   "outputs": [
    {
     "name": "stdout",
     "output_type": "stream",
     "text": [
      "INFO 09-14 23:45:03 llm_engine.py:223] Initializing an LLM engine (v0.6.1.post2) with config: model='allganize/Llama-3-Alpha-Ko-8B-Instruct', speculative_config=None, tokenizer='allganize/Llama-3-Alpha-Ko-8B-Instruct', skip_tokenizer_init=False, tokenizer_mode=auto, revision=None, override_neuron_config=None, rope_scaling=None, rope_theta=None, tokenizer_revision=None, trust_remote_code=False, dtype=torch.bfloat16, max_seq_len=8192, download_dir=None, load_format=LoadFormat.AUTO, tensor_parallel_size=1, pipeline_parallel_size=1, disable_custom_all_reduce=False, quantization=None, enforce_eager=False, kv_cache_dtype=auto, quantization_param_path=None, device_config=cuda, decoding_config=DecodingConfig(guided_decoding_backend='outlines'), observability_config=ObservabilityConfig(otlp_traces_endpoint=None, collect_model_forward_time=False, collect_model_execute_time=False), seed=0, served_model_name=allganize/Llama-3-Alpha-Ko-8B-Instruct, use_v2_block_manager=False, num_scheduler_steps=1, enable_prefix_caching=False, use_async_output_proc=True)\n",
      "INFO 09-14 23:45:05 model_runner.py:997] Starting to load model allganize/Llama-3-Alpha-Ko-8B-Instruct...\n",
      "INFO 09-14 23:45:06 weight_utils.py:242] Using model weights format ['*.safetensors']\n"
     ]
    },
    {
     "data": {
      "application/vnd.jupyter.widget-view+json": {
       "model_id": "ecdd9a10b87a4b91964c1c44cd93e981",
       "version_major": 2,
       "version_minor": 0
      },
      "text/plain": [
       "Loading safetensors checkpoint shards:   0% Completed | 0/4 [00:00<?, ?it/s]\n"
      ]
     },
     "metadata": {},
     "output_type": "display_data"
    },
    {
     "name": "stdout",
     "output_type": "stream",
     "text": [
      "INFO 09-14 23:45:10 model_runner.py:1008] Loading model weights took 14.9634 GB\n",
      "INFO 09-14 23:45:28 gpu_executor.py:122] # GPU blocks: 27190, # CPU blocks: 2048\n",
      "INFO 09-14 23:45:34 model_runner.py:1311] Capturing the model for CUDA graphs. This may lead to unexpected consequences if the model is not static. To run the model in eager mode, set 'enforce_eager=True' or use '--enforce-eager' in the CLI.\n",
      "INFO 09-14 23:45:34 model_runner.py:1315] CUDA graphs can take additional 1~3 GiB memory per GPU. If you are running out of memory, consider decreasing `gpu_memory_utilization` or enforcing eager mode. You can also reduce the `max_num_seqs` as needed to decrease memory usage.\n",
      "INFO 09-14 23:45:55 model_runner.py:1430] Graph capturing finished in 20 secs.\n"
     ]
    }
   ],
   "source": [
    "from vllm import LLM, SamplingParams\n",
    "from vllm.lora.request import LoRARequest\n",
    "from huggingface_hub import snapshot_download\n",
    "\n",
    "model_id = \"allganize/Llama-3-Alpha-Ko-8B-Instruct\"\n",
    "\n",
    "llm = LLM(model=model_id, enable_lora=True, max_lora_rank=256)"
   ]
  },
  {
   "cell_type": "code",
   "execution_count": 3,
   "id": "036f4f9f-78fa-4c10-afd7-c174bf3ff419",
   "metadata": {},
   "outputs": [
    {
     "data": {
      "application/vnd.jupyter.widget-view+json": {
       "model_id": "6ccd9bbbd25d4bb69ddc4d6049d1c403",
       "version_major": 2,
       "version_minor": 0
      },
      "text/plain": [
       "Fetching 8 files:   0%|          | 0/8 [00:00<?, ?it/s]"
      ]
     },
     "metadata": {},
     "output_type": "display_data"
    },
    {
     "name": "stderr",
     "output_type": "stream",
     "text": [
      "/tmp/ipykernel_1578/1501373901.py:4: DeprecationWarning: The 'lora_local_path' attribute is deprecated and will be removed in a future version. Please use 'lora_path' instead.\n",
      "  lora1 = LoRARequest(\"lora1\", 1, lora_adapter1_path)\n"
     ]
    }
   ],
   "source": [
    "sampling_params_lora1 = SamplingParams(temperature=0.7, top_p=0.9, max_tokens=50)\n",
    "lora_adapter1 = \"daje/chapter5_psychological_chatbots\"\n",
    "lora_adapter1_path = snapshot_download(repo_id=lora_adapter1)\n",
    "lora1 = LoRARequest(\"lora1\", 1, lora_adapter1_path)"
   ]
  },
  {
   "cell_type": "code",
   "execution_count": 4,
   "id": "d406d225-3b1e-4502-8e64-89c2aa961335",
   "metadata": {},
   "outputs": [
    {
     "data": {
      "application/vnd.jupyter.widget-view+json": {
       "model_id": "57e677e3082344fe8fe59288caaaa367",
       "version_major": 2,
       "version_minor": 0
      },
      "text/plain": [
       "Fetching 7 files:   0%|          | 0/7 [00:00<?, ?it/s]"
      ]
     },
     "metadata": {},
     "output_type": "display_data"
    },
    {
     "name": "stderr",
     "output_type": "stream",
     "text": [
      "/tmp/ipykernel_1578/1020445224.py:4: DeprecationWarning: The 'lora_local_path' attribute is deprecated and will be removed in a future version. Please use 'lora_path' instead.\n",
      "  lora2 = LoRARequest(\"lora2\", 2, lora_adapter2_path)\n"
     ]
    }
   ],
   "source": [
    "sampling_params_lora2 = SamplingParams(temperature=0.1, max_tokens=50)\n",
    "lora_adapter2 = \"daje/chapter5_code-llama3-8B-text-to-sql-ver0.1\"\n",
    "lora_adapter2_path = snapshot_download(repo_id=lora_adapter2)\n",
    "lora2 = LoRARequest(\"lora2\", 2, lora_adapter2_path)"
   ]
  },
  {
   "cell_type": "code",
   "execution_count": 5,
   "id": "ffb14158-e714-429a-956f-19610cdc6999",
   "metadata": {},
   "outputs": [
    {
     "name": "stderr",
     "output_type": "stream",
     "text": [
      "Processed prompts: 100%|██████████| 2/2 [01:13<00:00, 36.77s/it, est. speed input: 0.39 toks/s, output: 1.36 toks/s]"
     ]
    },
    {
     "name": "stdout",
     "output_type": "stream",
     "text": [
      ". 평소에는 매일 일어나는 것이 힘들었는데 요즘은 정말 힘들어요. 아침에 일어나기 싫은 마음이 너무 커서 밤에도 잠을 잘 못자고, 주말이 되면 정말 기\n",
      "------\n",
      ". 이제는 매일 밤마다 눈이 따가워지고, 눈 앞이 흐려지고, 눈이 불편해져서 일도 제대로 못하고, 집에서도 편하게 쉬지도 못하고, 잠도 못자고,\n",
      "------\n"
     ]
    },
    {
     "name": "stderr",
     "output_type": "stream",
     "text": [
      "\n"
     ]
    }
   ],
   "source": [
    "prompts_lora1 = [\n",
    "    \"일요일인데 새벽6시에 일어났어 ㅜㅜ\",\n",
    "    \"요즘 대상포진이 걸려서 고생했어\",\n",
    "]\n",
    "\n",
    "outputs = llm.generate(prompts_lora1, sampling_params_lora1, lora_request=lora1)\n",
    "\n",
    "for output in outputs:\n",
    "    generated_text = output.outputs[0].text\n",
    "    print(generated_text)\n",
    "    print('------')"
   ]
  },
  {
   "cell_type": "code",
   "execution_count": 6,
   "id": "7ba70c54-930b-44ed-9111-333b815aa456",
   "metadata": {},
   "outputs": [
    {
     "name": "stderr",
     "output_type": "stream",
     "text": [
      "Processed prompts: 100%|██████████| 2/2 [00:48<00:00, 24.44s/it, est. speed input: 0.45 toks/s, output: 2.05 toks/s]"
     ]
    },
    {
     "name": "stdout",
     "output_type": "stream",
     "text": [
      " 그리고 그룹화도 해줘.\n",
      "SQL table: CREATE TABLE table_203_203 (\n",
      "    id number,\n",
      "    \"rank\" number,\n",
      "    \"name\" text,\n",
      "    \"nationality\" text,\n",
      "    \"result\" text,\n",
      "   \n",
      "------\n",
      " 그리고 이름을 내림차순으로 정렬해줘.\n",
      "SQL table: CREATE TABLE table_203_203 (\n",
      "    id number,\n",
      "    \"rank\" number,\n",
      "    \"name\" text,\n",
      "    \"nationality\" text,\n",
      "    \"\n",
      "------\n"
     ]
    },
    {
     "name": "stderr",
     "output_type": "stream",
     "text": [
      "\n"
     ]
    }
   ],
   "source": [
    "prompts_lora2 = [\n",
    "    \"\"\"Task:최고 총액을 말해줘.'\n",
    "SQL table: CREATE TABLE table_12014 (\n",
    "    \"Rider\" text,\n",
    "    \"Horse\" text,\n",
    "    \"Faults\" text,\n",
    "    \"Round 1 + 2A Points\" text,\n",
    "    \"Total\" real\n",
    ")\n",
    "SQL query:\"\"\",\n",
    "    \"sql로 평균 구하는거 알려줘.\",\n",
    "]\n",
    "\n",
    "outputs = llm.generate(prompts_lora2, sampling_params_lora2, lora_request=lora2)\n",
    "\n",
    "for output in outputs:\n",
    "    generated_text = output.outputs[0].text\n",
    "    print(generated_text)\n",
    "    print('------')"
   ]
  },
  {
   "cell_type": "code",
   "execution_count": null,
   "id": "341fe4d4-faa4-4828-a9ee-f540151e5bd7",
   "metadata": {},
   "outputs": [],
   "source": []
  }
 ],
 "metadata": {
  "kernelspec": {
   "display_name": "Python 3 (ipykernel)",
   "language": "python",
   "name": "python3"
  },
  "language_info": {
   "codemirror_mode": {
    "name": "ipython",
    "version": 3
   },
   "file_extension": ".py",
   "mimetype": "text/x-python",
   "name": "python",
   "nbconvert_exporter": "python",
   "pygments_lexer": "ipython3",
   "version": "3.11.9"
  }
 },
 "nbformat": 4,
 "nbformat_minor": 5
}

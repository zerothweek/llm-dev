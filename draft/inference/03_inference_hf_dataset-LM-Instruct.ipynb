{
 "cells": [
  {
   "cell_type": "markdown",
   "metadata": {},
   "source": [
    "`goal`\n",
    "we have a dataset named \"example_LM-Instruct_input\" which has two columns. \n",
    "1. `id` column: representing the id number of each data\n",
    "2. `prompt` column: the input of each data. \n",
    "\n",
    "\n",
    "we're going to make a script that \n",
    "1. can batch inference of the datas(inputs) to the model.  \n",
    "2. save the (batched) model output to a column named `output`.   \n",
    "3. and just make an additional column `input_output` which is just the concatenation of input & output.  \n",
    " -> We'll save the enw dataset as \"example_LM-Instruct_input_output\".   \n",
    " -> We'll implement it for both cpu & gpu. "
   ]
  },
  {
   "cell_type": "markdown",
   "metadata": {},
   "source": [
    "### Settings 1"
   ]
  },
  {
   "cell_type": "code",
   "execution_count": 1,
   "metadata": {},
   "outputs": [],
   "source": [
    "import os\n",
    "import torch\n",
    "from datasets import load_from_disk\n",
    "from transformers import AutoTokenizer, AutoModelForCausalLM, \\\n",
    "    BitsAndBytesConfig, GenerationConfig\n",
    "from accelerate.test_utils.testing import get_backend\n",
    "from multiprocess import set_start_method\n",
    "\n",
    "\n",
    "# Automatically detects the underlying device type (CUDA, CPU, XPU, MPS, etc.)\n",
    "device, _, _ = get_backend()\n",
    "# Define the base model directory and model ID\n",
    "MODEL_DIR = '/home/zerothweek/llm/models'\n",
    "model_id = 'Llama-3.2-1B-Instruct'\n",
    "# Construct the full path to the model\n",
    "model_path = os.path.join(MODEL_DIR, model_id)"
   ]
  },
  {
   "cell_type": "markdown",
   "metadata": {},
   "source": [
    "### Settings 2"
   ]
  },
  {
   "cell_type": "code",
   "execution_count": 2,
   "metadata": {},
   "outputs": [],
   "source": [
    "# Loading and Setting model\n",
    "from transformers import BitsAndBytesConfig\n",
    "quantization_config = BitsAndBytesConfig(\n",
    "    load_in_4bit=True,\n",
    "    bnb_4bit_use_double_quant=True,\n",
    "    bnb_4bit_quant_type=\"nf4\",\n",
    "    bnb_4bit_comput_dtype=torch.bfloat16\n",
    ")\n",
    "model = AutoModelForCausalLM.from_pretrained(\n",
    "    model_path, \n",
    "    device_map=\"auto\",\n",
    "    torch_dtype=torch.float16,\n",
    "    #quantization_config = quantization_config,\n",
    "    trust_remote_code=False\n",
    ")\n",
    "\n",
    "# Loading and Setting tokenizer\n",
    "tokenizer = AutoTokenizer.from_pretrained(\n",
    "    model_path, \n",
    "    padding_side=\"left\")\n",
    "tokenizer.pad_token = tokenizer.eos_token # Most LLMs don't have a pad token by default\n",
    "\n",
    "# Setting the Generationg Config\n",
    "generation_config = GenerationConfig.from_pretrained(model_path)"
   ]
  },
  {
   "cell_type": "markdown",
   "metadata": {},
   "source": [
    "### Settings 3"
   ]
  },
  {
   "cell_type": "code",
   "execution_count": 4,
   "metadata": {},
   "outputs": [],
   "source": [
    "dataset = load_from_disk('./datasets/example_LM-Instruct_input')"
   ]
  },
  {
   "cell_type": "code",
   "execution_count": 5,
   "metadata": {},
   "outputs": [
    {
     "data": {
      "text/plain": [
       "DatasetDict({\n",
       "    train: Dataset({\n",
       "        features: ['act', 'prompt'],\n",
       "        num_rows: 16\n",
       "    })\n",
       "    test: Dataset({\n",
       "        features: ['act', 'prompt'],\n",
       "        num_rows: 2\n",
       "    })\n",
       "    validation: Dataset({\n",
       "        features: ['act', 'prompt'],\n",
       "        num_rows: 2\n",
       "    })\n",
       "})"
      ]
     },
     "execution_count": 5,
     "metadata": {},
     "output_type": "execute_result"
    }
   ],
   "source": [
    "dataset"
   ]
  },
  {
   "cell_type": "markdown",
   "metadata": {},
   "source": [
    "### CPU computation"
   ]
  },
  {
   "cell_type": "code",
   "execution_count": null,
   "metadata": {},
   "outputs": [
    {
     "data": {
      "application/vnd.jupyter.widget-view+json": {
       "model_id": "e9e4c3a8db6545e897fbef856a6ef1dd",
       "version_major": 2,
       "version_minor": 0
      },
      "text/plain": [
       "Map:   0%|          | 0/16 [00:00<?, ? examples/s]"
      ]
     },
     "metadata": {},
     "output_type": "display_data"
    },
    {
     "name": "stderr",
     "output_type": "stream",
     "text": [
      "Setting `pad_token_id` to `eos_token_id`:128001 for open-end generation.\n",
      "Setting `pad_token_id` to `eos_token_id`:128001 for open-end generation.\n",
      "Setting `pad_token_id` to `eos_token_id`:128001 for open-end generation.\n",
      "Setting `pad_token_id` to `eos_token_id`:128001 for open-end generation.\n"
     ]
    },
    {
     "data": {
      "application/vnd.jupyter.widget-view+json": {
       "model_id": "2cebf2c5eb224138985c56bfa4afe085",
       "version_major": 2,
       "version_minor": 0
      },
      "text/plain": [
       "Map:   0%|          | 0/2 [00:00<?, ? examples/s]"
      ]
     },
     "metadata": {},
     "output_type": "display_data"
    },
    {
     "name": "stderr",
     "output_type": "stream",
     "text": [
      "Setting `pad_token_id` to `eos_token_id`:128001 for open-end generation.\n"
     ]
    },
    {
     "data": {
      "application/vnd.jupyter.widget-view+json": {
       "model_id": "0f765b044e7745389c37b4d9bd0707a0",
       "version_major": 2,
       "version_minor": 0
      },
      "text/plain": [
       "Map:   0%|          | 0/2 [00:00<?, ? examples/s]"
      ]
     },
     "metadata": {},
     "output_type": "display_data"
    },
    {
     "name": "stderr",
     "output_type": "stream",
     "text": [
      "Setting `pad_token_id` to `eos_token_id`:128001 for open-end generation.\n"
     ]
    }
   ],
   "source": [
    "def inference_dataset_cpu(batch):\n",
    "    \n",
    "    chats = [[\n",
    "        {\"role\": \"system\", \"content\": \"You are a helpful assistant.\"},\n",
    "        {\"role\": \"user\", \"content\": prompt}\n",
    "    ] for prompt in batch[\"prompt\"]]\n",
    "    \n",
    "    texts = [tokenizer.apply_chat_template(\n",
    "        chat,\n",
    "        tokenize=False,\n",
    "        add_generation_prompt=True\n",
    "    ) for chat in chats]\n",
    "    \n",
    "    model_inputs = tokenizer(texts, padding=True, return_tensors=\"pt\").to(device)\n",
    "\n",
    "    with torch.no_grad():\n",
    "        outputs = model.generate(**model_inputs, max_new_tokens=1)\n",
    "    \n",
    "    batch[\"output\"] = tokenizer.batch_decode(outputs, skip_special_tokens=True)\n",
    "\n",
    "    #batch[\"input_output\"] = [input + \" \" + output for input, output in zip(batch['input'], batch['output'])]\n",
    "    return batch\n",
    "\n",
    "if __name__ == \"__main__\":\n",
    "    updated_dataset = dataset.map(\n",
    "        inference_dataset_cpu,\n",
    "        batched=True,\n",
    "        batch_size=4\n",
    "    )"
   ]
  },
  {
   "cell_type": "markdown",
   "metadata": {},
   "source": [
    "### GPU computation"
   ]
  },
  {
   "cell_type": "code",
   "execution_count": null,
   "metadata": {},
   "outputs": [],
   "source": [
    "def inference_dataset_gpu(batch, rank):\n",
    "    '''\n",
    "    The `AutoModelForCausalLM.from_pretrained(device_map=\"auto\",..)\n",
    "    should be removed to work properly\n",
    "    '''\n",
    "    # Move the model on the right GPU if it's not there already.\n",
    "    device = f\"cuda:{(rank or 0) % torch.cuda.device_count()}\"\n",
    "    model.to(device)\n",
    "    \n",
    "\n",
    "    chats = [[\n",
    "        {\"role\": \"system\", \"content\": \"You are a helpful assistant.\"},\n",
    "        {\"role\": \"user\", \"content\": prompt}\n",
    "    ] for prompt in batch[\"prompt\"]]\n",
    "    \n",
    "    texts = [tokenizer.apply_chat_template(\n",
    "        chat,\n",
    "        tokenize=False,\n",
    "        add_generation_prompt=True\n",
    "    ) for chat in chats]\n",
    "    \n",
    "    model_inputs = tokenizer(texts, padding=True, return_tensors=\"pt\").to(device)\n",
    "\n",
    "\n",
    "    with torch.no_grad():\n",
    "        outputs = model.generate(**model_inputs, max_new_tokens=1)\n",
    "    \n",
    "    batch[\"output\"] = tokenizer.batch_decode(outputs, skip_special_tokens=True)\n",
    "\n",
    "    #batch[\"input_output\"] = [input + \" \" + output for input, output in zip(batch['input'], batch['output'])]\n",
    "    return batch\n",
    "\n",
    "if __name__ == \"__main__\":\n",
    "    set_start_method(\"spawn\")\n",
    "    updated_dataset = dataset.map(\n",
    "        inference_dataset_gpu,\n",
    "        batched=True,\n",
    "        batch_size=16,\n",
    "        with_rank=True,\n",
    "        num_proc=torch.cuda.device_count() # one process per GPU\n",
    "    )"
   ]
  }
 ],
 "metadata": {
  "kernelspec": {
   "display_name": "llm_study",
   "language": "python",
   "name": "python3"
  },
  "language_info": {
   "codemirror_mode": {
    "name": "ipython",
    "version": 3
   },
   "file_extension": ".py",
   "mimetype": "text/x-python",
   "name": "python",
   "nbconvert_exporter": "python",
   "pygments_lexer": "ipython3",
   "version": "3.13.2"
  }
 },
 "nbformat": 4,
 "nbformat_minor": 2
}

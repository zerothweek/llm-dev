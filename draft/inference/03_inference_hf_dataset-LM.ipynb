{
 "cells": [
  {
   "cell_type": "markdown",
   "metadata": {},
   "source": [
    "`goal`\n",
    "we have a dataset named \"example_LM_input\" which has three columns. \n",
    "1. `id` column: representing the id number of each data\n",
    "2. `input` column: the input of each data. \n",
    "3. `output_example` column: an example what might the output look like.  \n",
    "\n",
    "we're going to make a script that \n",
    "1. can batch inference of the datas(inputs) to the model.  \n",
    "2. save the (batched) model output to a column named `output`.   \n",
    "3. and just make an additional column `input_output` which is just the concatenation of input & output.  \n",
    " -> We'll save the enw dataset as \"example_LM_input_output\".   \n",
    " -> We'll implement it for both cpu & gpu. "
   ]
  },
  {
   "cell_type": "markdown",
   "metadata": {},
   "source": [
    "### Settings 1"
   ]
  },
  {
   "cell_type": "code",
   "execution_count": 1,
   "metadata": {},
   "outputs": [],
   "source": [
    "import os\n",
    "import torch\n",
    "from datasets import load_from_disk\n",
    "from transformers import AutoTokenizer, AutoModelForCausalLM, \\\n",
    "    BitsAndBytesConfig, GenerationConfig\n",
    "from accelerate.test_utils.testing import get_backend\n",
    "from multiprocess import set_start_method\n",
    "\n",
    "\n",
    "# Automatically detects the underlying device type (CUDA, CPU, XPU, MPS, etc.)\n",
    "device, _, _ = get_backend()\n",
    "# Define the base model directory and model ID\n",
    "MODEL_DIR = '/home/zerothweek/llm/models'\n",
    "model_id = 'Llama-3.2-1B'\n",
    "# Construct the full path to the model\n",
    "model_path = os.path.join(MODEL_DIR, model_id)"
   ]
  },
  {
   "cell_type": "markdown",
   "metadata": {},
   "source": [
    "### Settings 2"
   ]
  },
  {
   "cell_type": "code",
   "execution_count": 2,
   "metadata": {},
   "outputs": [],
   "source": [
    "# Loading and Setting model\n",
    "from transformers import BitsAndBytesConfig\n",
    "quantization_config = BitsAndBytesConfig(\n",
    "    load_in_4bit=True,\n",
    "    bnb_4bit_use_double_quant=True,\n",
    "    bnb_4bit_quant_type=\"nf4\",\n",
    "    bnb_4bit_comput_dtype=torch.bfloat16\n",
    ")\n",
    "model = AutoModelForCausalLM.from_pretrained(\n",
    "    model_path, \n",
    "    device_map=\"auto\",\n",
    "    torch_dtype=torch.float16,\n",
    "    #quantization_config = quantization_config,\n",
    "    trust_remote_code=False\n",
    ")\n",
    "\n",
    "# Loading and Setting tokenizer\n",
    "tokenizer = AutoTokenizer.from_pretrained(\n",
    "    model_path, \n",
    "    padding_side=\"left\")\n",
    "tokenizer.pad_token = tokenizer.eos_token # Most LLMs don't have a pad token by default\n",
    "\n",
    "# Setting the Generationg Config\n",
    "generation_config = GenerationConfig.from_pretrained(model_path)"
   ]
  },
  {
   "cell_type": "markdown",
   "metadata": {},
   "source": [
    "### Settings 3"
   ]
  },
  {
   "cell_type": "code",
   "execution_count": 3,
   "metadata": {},
   "outputs": [],
   "source": [
    "dataset = load_from_disk('./datasets/example_LM_input')"
   ]
  },
  {
   "cell_type": "markdown",
   "metadata": {},
   "source": [
    "### CPU computation"
   ]
  },
  {
   "cell_type": "code",
   "execution_count": 17,
   "metadata": {},
   "outputs": [
    {
     "data": {
      "application/vnd.jupyter.widget-view+json": {
       "model_id": "303d7ae921864690920850e6d59f0a8c",
       "version_major": 2,
       "version_minor": 0
      },
      "text/plain": [
       "Map:   0%|          | 0/28 [00:00<?, ? examples/s]"
      ]
     },
     "metadata": {},
     "output_type": "display_data"
    },
    {
     "name": "stderr",
     "output_type": "stream",
     "text": [
      "Setting `pad_token_id` to `eos_token_id`:128001 for open-end generation.\n",
      "Setting `pad_token_id` to `eos_token_id`:128001 for open-end generation.\n",
      "Setting `pad_token_id` to `eos_token_id`:128001 for open-end generation.\n",
      "Setting `pad_token_id` to `eos_token_id`:128001 for open-end generation.\n",
      "Setting `pad_token_id` to `eos_token_id`:128001 for open-end generation.\n",
      "Setting `pad_token_id` to `eos_token_id`:128001 for open-end generation.\n",
      "Setting `pad_token_id` to `eos_token_id`:128001 for open-end generation.\n"
     ]
    },
    {
     "data": {
      "application/vnd.jupyter.widget-view+json": {
       "model_id": "22e72daaf1c3493ba205b4714cf9c34d",
       "version_major": 2,
       "version_minor": 0
      },
      "text/plain": [
       "Map:   0%|          | 0/1 [00:00<?, ? examples/s]"
      ]
     },
     "metadata": {},
     "output_type": "display_data"
    },
    {
     "name": "stderr",
     "output_type": "stream",
     "text": [
      "Setting `pad_token_id` to `eos_token_id`:128001 for open-end generation.\n"
     ]
    },
    {
     "data": {
      "application/vnd.jupyter.widget-view+json": {
       "model_id": "e5a81dd9b5044b05aff9b1680724f650",
       "version_major": 2,
       "version_minor": 0
      },
      "text/plain": [
       "Map:   0%|          | 0/1 [00:00<?, ? examples/s]"
      ]
     },
     "metadata": {},
     "output_type": "display_data"
    },
    {
     "name": "stderr",
     "output_type": "stream",
     "text": [
      "Setting `pad_token_id` to `eos_token_id`:128001 for open-end generation.\n"
     ]
    }
   ],
   "source": [
    "def inference_dataset_cpu(batch):\n",
    "\n",
    "    model_inputs = tokenizer(batch[\"input\"], return_tensors=\"pt\", padding=True).to(device) # tokenize model input\n",
    "\n",
    "    with torch.no_grad():\n",
    "        outputs = model.generate(**model_inputs, max_new_tokens=1)\n",
    "    \n",
    "    batch[\"output\"] = tokenizer.batch_decode(outputs, skip_special_tokens=True)\n",
    "\n",
    "    #batch[\"input_output\"] = [input + \" \" + output for input, output in zip(batch['input'], batch['output'])]\n",
    "    return batch\n",
    "\n",
    "if __name__ == \"__main__\":\n",
    "    updated_dataset = dataset.map(\n",
    "        inference_dataset_cpu,\n",
    "        batched=True,\n",
    "        batch_size=4\n",
    "    )"
   ]
  },
  {
   "cell_type": "markdown",
   "metadata": {},
   "source": [
    "### GPU computation"
   ]
  },
  {
   "cell_type": "code",
   "execution_count": null,
   "metadata": {},
   "outputs": [],
   "source": [
    "def inference_dataset_gpu(batch, rank):\n",
    "    '''\n",
    "    The `AutoModelForCausalLM.from_pretrained(device_map=\"auto\",..)\n",
    "    should be removed to work properly\n",
    "    '''\n",
    "    # Move the model on the right GPU if it's not there already.\n",
    "    device = f\"cuda:{(rank or 0) % torch.cuda.device_count()}\"\n",
    "    model.to(device)\n",
    "    model_inputs = tokenizer(batch[\"input\"], return_tensors=\"pt\", padding=True).to(device) # tokenize model input\n",
    "\n",
    "    with torch.no_grad():\n",
    "        outputs = model.generate(**model_inputs, max_new_tokens=1)\n",
    "    \n",
    "    batch[\"output\"] = tokenizer.batch_decode(outputs, skip_special_tokens=True)\n",
    "\n",
    "    #batch[\"input_output\"] = [input + \" \" + output for input, output in zip(batch['input'], batch['output'])]\n",
    "    return batch\n",
    "\n",
    "if __name__ == \"__main__\":\n",
    "    set_start_method(\"spawn\")\n",
    "    updated_dataset = dataset.map(\n",
    "        inference_dataset_gpu,\n",
    "        batched=True,\n",
    "        batch_size=16,\n",
    "        with_rank=True,\n",
    "        num_proc=torch.cuda.device_count() # one process per GPU\n",
    "    )"
   ]
  }
 ],
 "metadata": {
  "kernelspec": {
   "display_name": "llm_study",
   "language": "python",
   "name": "python3"
  },
  "language_info": {
   "codemirror_mode": {
    "name": "ipython",
    "version": 3
   },
   "file_extension": ".py",
   "mimetype": "text/x-python",
   "name": "python",
   "nbconvert_exporter": "python",
   "pygments_lexer": "ipython3",
   "version": "3.13.2"
  }
 },
 "nbformat": 4,
 "nbformat_minor": 2
}

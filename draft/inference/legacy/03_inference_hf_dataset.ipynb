{
 "cells": [
  {
   "cell_type": "markdown",
   "metadata": {},
   "source": [
    "import torch"
   ]
  },
  {
   "cell_type": "code",
   "execution_count": 34,
   "metadata": {},
   "outputs": [],
   "source": [
    "import torch"
   ]
  },
  {
   "cell_type": "markdown",
   "metadata": {},
   "source": [
    "reference: `https://huggingface.co/docs/datasets/process`"
   ]
  },
  {
   "cell_type": "code",
   "execution_count": 12,
   "metadata": {},
   "outputs": [],
   "source": [
    "from datasets import load_dataset\n",
    "\n",
    "ds = load_dataset(\"abisee/cnn_dailymail\", \"3.0.0\")"
   ]
  },
  {
   "cell_type": "code",
   "execution_count": 16,
   "metadata": {},
   "outputs": [
    {
     "data": {
      "text/plain": [
       "DatasetDict({\n",
       "    train: Dataset({\n",
       "        features: ['highlights'],\n",
       "        num_rows: 287113\n",
       "    })\n",
       "    validation: Dataset({\n",
       "        features: ['highlights'],\n",
       "        num_rows: 13368\n",
       "    })\n",
       "    test: Dataset({\n",
       "        features: ['highlights'],\n",
       "        num_rows: 11490\n",
       "    })\n",
       "})"
      ]
     },
     "execution_count": 16,
     "metadata": {},
     "output_type": "execute_result"
    }
   ],
   "source": [
    "ds"
   ]
  },
  {
   "cell_type": "code",
   "execution_count": 15,
   "metadata": {},
   "outputs": [
    {
     "data": {
      "text/plain": [
       "DatasetDict({\n",
       "    train: Dataset({\n",
       "        features: ['highlights'],\n",
       "        num_rows: 287113\n",
       "    })\n",
       "    validation: Dataset({\n",
       "        features: ['highlights'],\n",
       "        num_rows: 13368\n",
       "    })\n",
       "    test: Dataset({\n",
       "        features: ['highlights'],\n",
       "        num_rows: 11490\n",
       "    })\n",
       "})"
      ]
     },
     "execution_count": 15,
     "metadata": {},
     "output_type": "execute_result"
    }
   ],
   "source": [
    "# remove columns\n",
    "ds = ds.remove_columns([\"article\", \"id\"])\n",
    "ds"
   ]
  },
  {
   "cell_type": "code",
   "execution_count": 17,
   "metadata": {},
   "outputs": [],
   "source": [
    "# rename columns\n",
    "ds = ds.rename_column(\"highlights\", \"input\")"
   ]
  },
  {
   "cell_type": "code",
   "execution_count": null,
   "metadata": {},
   "outputs": [],
   "source": [
    "# mapping \n",
    "from datasets import Dataset\n",
    "\n",
    "# Function to split the string without breaking words\n",
    "def split_example(example):\n",
    "    text = example[\"input\"]\n",
    "    words = text.split()\n",
    "    mid = len(words) // 2  # Find the midpoint by words\n",
    "    return {\"input\": \" \".join(words[:mid]), \"output_example\": \" \".join(words[mid:])}\n",
    "\n",
    "updated_ds = ds.map(split_example, with_indices=True)\n",
    "updated_ds\n",
    "\n",
    "\n"
   ]
  },
  {
   "cell_type": "code",
   "execution_count": 32,
   "metadata": {},
   "outputs": [
    {
     "data": {
      "application/vnd.jupyter.widget-view+json": {
       "model_id": "0b5cdbb0662a4f688323f0667b545f76",
       "version_major": 2,
       "version_minor": 0
      },
      "text/plain": [
       "Map (num_proc=100):   0%|          | 0/287113 [00:00<?, ? examples/s]"
      ]
     },
     "metadata": {},
     "output_type": "display_data"
    },
    {
     "data": {
      "application/vnd.jupyter.widget-view+json": {
       "model_id": "ac90aaa1476d4a439c80af08f0df090b",
       "version_major": 2,
       "version_minor": 0
      },
      "text/plain": [
       "Map (num_proc=100):   0%|          | 0/13368 [00:00<?, ? examples/s]"
      ]
     },
     "metadata": {},
     "output_type": "display_data"
    },
    {
     "data": {
      "application/vnd.jupyter.widget-view+json": {
       "model_id": "bf4f5b04a591437b9ac841a21a8a07dd",
       "version_major": 2,
       "version_minor": 0
      },
      "text/plain": [
       "Map (num_proc=100):   0%|          | 0/11490 [00:00<?, ? examples/s]"
      ]
     },
     "metadata": {},
     "output_type": "display_data"
    },
    {
     "data": {
      "text/plain": [
       "DatasetDict({\n",
       "    train: Dataset({\n",
       "        features: ['input', 'id', 'output_example'],\n",
       "        num_rows: 287113\n",
       "    })\n",
       "    validation: Dataset({\n",
       "        features: ['input', 'id', 'output_example'],\n",
       "        num_rows: 13368\n",
       "    })\n",
       "    test: Dataset({\n",
       "        features: ['input', 'id', 'output_example'],\n",
       "        num_rows: 11490\n",
       "    })\n",
       "})"
      ]
     },
     "execution_count": 32,
     "metadata": {},
     "output_type": "execute_result"
    }
   ],
   "source": [
    "# mapping (+ how to set id column)\n",
    "from datasets import Dataset\n",
    "\n",
    "\n",
    "\n",
    "# Function to split the string without breaking words\n",
    "def split_example(example, idx):\n",
    "    text = example[\"input\"]\n",
    "    words = text.split()\n",
    "    mid = len(words) // 2  # Find the midpoint by words\n",
    "    return {\"id\": idx,\"input\": \" \".join(words[:mid]), \"output_example\": \" \".join(words[mid:])}\n",
    "\n",
    "updated_ds = ds.map(split_example, with_indices=True, num_proc=100)\n",
    "updated_ds\n",
    "\n",
    "\n"
   ]
  },
  {
   "cell_type": "code",
   "execution_count": 43,
   "metadata": {},
   "outputs": [
    {
     "data": {
      "text/plain": [
       "DatasetDict({\n",
       "    train: Dataset({\n",
       "        features: ['input', 'id', 'output_example'],\n",
       "        num_rows: 287113\n",
       "    })\n",
       "    validation: Dataset({\n",
       "        features: ['input', 'id', 'output_example'],\n",
       "        num_rows: 13368\n",
       "    })\n",
       "    test: Dataset({\n",
       "        features: ['input', 'id', 'output_example'],\n",
       "        num_rows: 11490\n",
       "    })\n",
       "})"
      ]
     },
     "execution_count": 43,
     "metadata": {},
     "output_type": "execute_result"
    }
   ],
   "source": [
    "updated_ds"
   ]
  },
  {
   "cell_type": "code",
   "execution_count": 47,
   "metadata": {},
   "outputs": [
    {
     "name": "stdout",
     "output_type": "stream",
     "text": [
      "New Train dataset size: 28\n",
      "New Test dataset size: 1\n",
      "New Validation dataset size: 1\n"
     ]
    }
   ],
   "source": [
    "\n",
    "from datasets import load_dataset, DatasetDict\n",
    "\n",
    "\n",
    "# 데이터셋의 각 부분에서 원하는 퍼센트만 선택\n",
    "percentage = 0.0001  # 예: 전체 데이터에서 30%만 남기기\n",
    "\n",
    "def sample_dataset(dataset, percentage):\n",
    "    sampled = dataset.shuffle(seed=42).select(range(int(len(dataset) * percentage)))\n",
    "    return sampled\n",
    "\n",
    "# train, test, validation 각각에 대해 적용\n",
    "train_dataset = sample_dataset(updated_ds['train'], percentage)\n",
    "test_dataset = sample_dataset(updated_ds['test'], percentage)\n",
    "val_dataset = sample_dataset(updated_ds['validation'], percentage)\n",
    "\n",
    "# 새로운 DatasetDict로 결합\n",
    "new_dataset_dict = DatasetDict({\n",
    "    'train': train_dataset,\n",
    "    'test': test_dataset,\n",
    "    'validation': val_dataset\n",
    "})\n",
    "\n",
    "# 결과 확인\n",
    "print(f\"New Train dataset size: {len(new_dataset_dict['train'])}\")\n",
    "print(f\"New Test dataset size: {len(new_dataset_dict['test'])}\")\n",
    "print(f\"New Validation dataset size: {len(new_dataset_dict['validation'])}\")"
   ]
  },
  {
   "cell_type": "code",
   "execution_count": 48,
   "metadata": {},
   "outputs": [
    {
     "data": {
      "application/vnd.jupyter.widget-view+json": {
       "model_id": "37bfeea632684902a18bc5a23f85fd70",
       "version_major": 2,
       "version_minor": 0
      },
      "text/plain": [
       "Saving the dataset (0/1 shards):   0%|          | 0/28 [00:00<?, ? examples/s]"
      ]
     },
     "metadata": {},
     "output_type": "display_data"
    },
    {
     "data": {
      "application/vnd.jupyter.widget-view+json": {
       "model_id": "576c0b12fc7b4f25bb015e4da4333721",
       "version_major": 2,
       "version_minor": 0
      },
      "text/plain": [
       "Saving the dataset (0/1 shards):   0%|          | 0/1 [00:00<?, ? examples/s]"
      ]
     },
     "metadata": {},
     "output_type": "display_data"
    },
    {
     "data": {
      "application/vnd.jupyter.widget-view+json": {
       "model_id": "1b18aac3e5da41fe830dd991c8091549",
       "version_major": 2,
       "version_minor": 0
      },
      "text/plain": [
       "Saving the dataset (0/1 shards):   0%|          | 0/1 [00:00<?, ? examples/s]"
      ]
     },
     "metadata": {},
     "output_type": "display_data"
    }
   ],
   "source": [
    "# 저장\n",
    "new_dataset_dict.save_to_disk('./datasets/example_LM_input')"
   ]
  },
  {
   "cell_type": "code",
   "execution_count": null,
   "metadata": {},
   "outputs": [],
   "source": [
    "import torch\n",
    "from multiprocess import set_start_method\n",
    "from transformers import AutoTokenizer, AutoModelForCausalLM \n",
    "from datasets import load_dataset\n",
    "\n",
    "# Get an example dataset\n",
    "dataset = load_dataset(\"fka/awesome-chatgpt-prompts\", split=\"train\")\n",
    "\n",
    "# Get an example model and its tokenizer \n",
    "model = AutoModelForCausalLM.from_pretrained(\"Qwen/Qwen1.5-0.5B-Chat\").eval()\n",
    "tokenizer = AutoTokenizer.from_pretrained(\"Qwen/Qwen1.5-0.5B-Chat\")\n",
    "def gpu_computation(batch, rank):\n",
    "    # Move the model on the right GPU if it's not there already\n",
    "    device = f\"cuda:{(rank or 0) % torch.cuda.device_count()}\"\n",
    "    model.to(device)\n",
    "    \n",
    "    # Your big GPU call goes here, for example:\n",
    "    chats = [[\n",
    "        {\"role\": \"system\", \"content\": \"You are a helpful assistant.\"},\n",
    "        {\"role\": \"user\", \"content\": prompt}\n",
    "    ] for prompt in batch[\"prompt\"]]\n",
    "    texts = [tokenizer.apply_chat_template(\n",
    "        chat,\n",
    "        tokenize=False,\n",
    "        add_generation_prompt=True\n",
    "    ) for chat in chats]\n",
    "    model_inputs = tokenizer(texts, padding=True, return_tensors=\"pt\").to(device)\n",
    "    with torch.no_grad():\n",
    "        outputs = model.generate(**model_inputs, max_new_tokens=512)\n",
    "    batch[\"output\"] = tokenizer.batch_decode(outputs, skip_special_tokens=True)\n",
    "    return batch\n",
    "if __name__ == \"__main__\":\n",
    "    set_start_method(\"spawn\")\n",
    "    updated_dataset = dataset.map(\n",
    "        gpu_computation,\n",
    "        batched=True,\n",
    "        batch_size=16,\n",
    "        with_rank=True,\n",
    "        num_proc=torch.cuda.device_count(),  # one process per GPU\n",
    "    )"
   ]
  },
  {
   "cell_type": "code",
   "execution_count": 36,
   "metadata": {},
   "outputs": [
    {
     "data": {
      "text/plain": [
       "0"
      ]
     },
     "execution_count": 36,
     "metadata": {},
     "output_type": "execute_result"
    }
   ],
   "source": [
    "torch.cuda.device_count()"
   ]
  },
  {
   "cell_type": "code",
   "execution_count": null,
   "metadata": {},
   "outputs": [],
   "source": [
    "import torch\n",
    "import os\n",
    "from multiprocess import set_start_method\n",
    "from transformers import AutoTokenizer, AutoModelForCausalLM \n",
    "from datasets import load_dataset\n",
    "\n",
    "# Get an example dataset\n",
    "dataset = load_dataset(\"fka/awesome-chatgpt-prompts\", split=\"train\")\n",
    "\n",
    "# Get an example model and its tokenizer\n",
    "model = AutoModelForCausalLM.from_pretrained(\"Qwen/Qwen1.5-0.5B-Chat\").eval()\n",
    "tokenizer = AutoTokenizer.from_pretrained(\"Qwen/Qwen1.5-0.5B-Chat\")\n",
    "\n",
    "def cpu_computation(batch, rank=None):\n",
    "    # Use CPU (no GPU involved here)\n",
    "    device = torch.device(\"cpu\")\n",
    "    model.to(device)\n",
    "    \n",
    "    # Your computation goes here\n",
    "    chats = [[\n",
    "        {\"role\": \"system\", \"content\": \"You are a helpful assistant.\"},\n",
    "        {\"role\": \"user\", \"content\": prompt}\n",
    "    ] for prompt in batch[\"prompt\"]]\n",
    "    \n",
    "    texts = [tokenizer.apply_chat_template(\n",
    "        chat,\n",
    "        tokenize=False,\n",
    "        add_generation_prompt=True\n",
    "    ) for chat in chats]\n",
    "    \n",
    "    model_inputs = tokenizer(texts, padding=True, return_tensors=\"pt\").to(device)\n",
    "    \n",
    "    with torch.no_grad():\n",
    "        outputs = model.generate(**model_inputs, max_new_tokens=512)\n",
    "    \n",
    "    batch[\"output\"] = tokenizer.batch_decode(outputs, skip_special_tokens=True)\n",
    "    return batch\n",
    "\n",
    "if __name__ == \"__main__\":\n",
    "    set_start_method(\"spawn\")\n",
    "    \n",
    "    # Get the number of CPU cores\n",
    "    num_cpu_cores = os.cpu_count()\n",
    "\n",
    "    updated_dataset = dataset.map(\n",
    "        cpu_computation,\n",
    "        batched=True,\n",
    "        batch_size=16,\n",
    "        num_proc=num_cpu_cores,  # Use all CPU cores\n",
    "    )"
   ]
  },
  {
   "cell_type": "code",
   "execution_count": 40,
   "metadata": {},
   "outputs": [
    {
     "data": {
      "text/plain": [
       "16"
      ]
     },
     "execution_count": 40,
     "metadata": {},
     "output_type": "execute_result"
    }
   ],
   "source": [
    "import os\n",
    "os.cpu_count()"
   ]
  },
  {
   "cell_type": "code",
   "execution_count": null,
   "metadata": {},
   "outputs": [],
   "source": []
  }
 ],
 "metadata": {
  "kernelspec": {
   "display_name": "llm_study",
   "language": "python",
   "name": "python3"
  },
  "language_info": {
   "codemirror_mode": {
    "name": "ipython",
    "version": 3
   },
   "file_extension": ".py",
   "mimetype": "text/x-python",
   "name": "python",
   "nbconvert_exporter": "python",
   "pygments_lexer": "ipython3",
   "version": "3.13.2"
  }
 },
 "nbformat": 4,
 "nbformat_minor": 2
}

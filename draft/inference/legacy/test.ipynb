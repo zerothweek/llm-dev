{
 "cells": [
  {
   "cell_type": "code",
   "execution_count": 7,
   "metadata": {},
   "outputs": [],
   "source": [
    "from datasets import load_dataset\n",
    "\n",
    "dataset = load_dataset(\"fka/awesome-chatgpt-prompts\")"
   ]
  },
  {
   "cell_type": "code",
   "execution_count": 8,
   "metadata": {},
   "outputs": [
    {
     "name": "stdout",
     "output_type": "stream",
     "text": [
      "DatasetDict({\n",
      "    train: Dataset({\n",
      "        features: ['act', 'prompt'],\n",
      "        num_rows: 162\n",
      "    })\n",
      "    validation: Dataset({\n",
      "        features: ['act', 'prompt'],\n",
      "        num_rows: 20\n",
      "    })\n",
      "    test: Dataset({\n",
      "        features: ['act', 'prompt'],\n",
      "        num_rows: 21\n",
      "    })\n",
      "})\n"
     ]
    }
   ],
   "source": [
    "from datasets import load_dataset\n",
    "from datasets import DatasetDict\n",
    "\n",
    "\n",
    "# Split the train dataset into train and val\n",
    "train_val_split = dataset['train'].train_test_split(test_size=0.2, seed=42)\n",
    "train_dataset = train_val_split['train']\n",
    "val_dataset = train_val_split['test']\n",
    "\n",
    "# Further split the val dataset into val and test\n",
    "val_test_split = val_dataset.train_test_split(test_size=0.5, seed=42)\n",
    "val_dataset = val_test_split['train']\n",
    "test_dataset = val_test_split['test']\n",
    "\n",
    "# Now your DatasetDict should have 'train', 'val', and 'test'\n",
    "dataset = DatasetDict({\n",
    "    'train': train_dataset,\n",
    "    'validation': val_dataset,\n",
    "    'test': test_dataset\n",
    "})\n",
    "\n",
    "# Optional: Check the splits\n",
    "print(dataset)"
   ]
  },
  {
   "cell_type": "code",
   "execution_count": 9,
   "metadata": {},
   "outputs": [
    {
     "name": "stdout",
     "output_type": "stream",
     "text": [
      "New Train dataset size: 16\n",
      "New Test dataset size: 2\n",
      "New Validation dataset size: 2\n"
     ]
    }
   ],
   "source": [
    "\n",
    "from datasets import load_dataset, DatasetDict\n",
    "\n",
    "\n",
    "# 데이터셋의 각 부분에서 원하는 퍼센트만 선택\n",
    "percentage = 0.1  # 예: 전체 데이터에서 30%만 남기기\n",
    "\n",
    "def sample_dataset(dataset, percentage):\n",
    "    sampled = dataset.shuffle(seed=42).select(range(int(len(dataset) * percentage)))\n",
    "    return sampled\n",
    "\n",
    "# train, test, validation 각각에 대해 적용\n",
    "train_dataset = sample_dataset(dataset['train'], percentage)\n",
    "test_dataset = sample_dataset(dataset['test'], percentage)\n",
    "val_dataset = sample_dataset(dataset['validation'], percentage)\n",
    "\n",
    "# 새로운 DatasetDict로 결합\n",
    "new_dataset_dict = DatasetDict({\n",
    "    'train': train_dataset,\n",
    "    'test': test_dataset,\n",
    "    'validation': val_dataset\n",
    "})\n",
    "\n",
    "# 결과 확인\n",
    "print(f\"New Train dataset size: {len(new_dataset_dict['train'])}\")\n",
    "print(f\"New Test dataset size: {len(new_dataset_dict['test'])}\")\n",
    "print(f\"New Validation dataset size: {len(new_dataset_dict['validation'])}\")"
   ]
  },
  {
   "cell_type": "code",
   "execution_count": 10,
   "metadata": {},
   "outputs": [
    {
     "data": {
      "application/vnd.jupyter.widget-view+json": {
       "model_id": "2f40e86935d841f4994fa9834e8f8e1c",
       "version_major": 2,
       "version_minor": 0
      },
      "text/plain": [
       "Saving the dataset (0/1 shards):   0%|          | 0/16 [00:00<?, ? examples/s]"
      ]
     },
     "metadata": {},
     "output_type": "display_data"
    },
    {
     "data": {
      "application/vnd.jupyter.widget-view+json": {
       "model_id": "084a16c818334080b98d47771861c4b7",
       "version_major": 2,
       "version_minor": 0
      },
      "text/plain": [
       "Saving the dataset (0/1 shards):   0%|          | 0/2 [00:00<?, ? examples/s]"
      ]
     },
     "metadata": {},
     "output_type": "display_data"
    },
    {
     "data": {
      "application/vnd.jupyter.widget-view+json": {
       "model_id": "72e7179329634199b1c2e6289726e446",
       "version_major": 2,
       "version_minor": 0
      },
      "text/plain": [
       "Saving the dataset (0/1 shards):   0%|          | 0/2 [00:00<?, ? examples/s]"
      ]
     },
     "metadata": {},
     "output_type": "display_data"
    }
   ],
   "source": [
    "new_dataset_dict.save_to_disk('./datasets/example_LM-Instruct_input')"
   ]
  },
  {
   "cell_type": "code",
   "execution_count": null,
   "metadata": {},
   "outputs": [],
   "source": []
  }
 ],
 "metadata": {
  "kernelspec": {
   "display_name": "llm_study",
   "language": "python",
   "name": "python3"
  },
  "language_info": {
   "codemirror_mode": {
    "name": "ipython",
    "version": 3
   },
   "file_extension": ".py",
   "mimetype": "text/x-python",
   "name": "python",
   "nbconvert_exporter": "python",
   "pygments_lexer": "ipython3",
   "version": "3.13.2"
  }
 },
 "nbformat": 4,
 "nbformat_minor": 2
}

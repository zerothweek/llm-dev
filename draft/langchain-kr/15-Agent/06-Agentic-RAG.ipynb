{
 "cells": [
  {
   "cell_type": "markdown",
   "id": "d904ebb6",
   "metadata": {},
   "source": [
    "# Agentic RAG\n",
    "\n",
    "이번 챕터에서는 문서 검색을 통해 최신 정보에 접근하여 검색 결과를 가지고 답변을 생성하는 에이전트를 만들어 보겠습니다.\n",
    "\n",
    "질문에 따라 문서를 검색하여 답변하거나, 인터넷 검색 도구를 활용하여 답변하는 에이전트를 만들어 보겠습니다.\n",
    "\n",
    "**참고**\n",
    "\n",
    "- RAG 를 수행하되, Agent 를 활용하여 RAG 를 수행한다면 이를 **Agentic RAG** 라고 부릅니다.\n",
    "\n",
    "## 도구(Tools)\n",
    "\n",
    "Agent 가 활용할 도구를 정의하여 Agent 가 추론(reasoning)을 수행할 때 활용하도록 만들 수 있습니다.\n",
    "\n",
    "Tavily Search 는 그 중 대표적인 **검색 도구** 입니다. 검색을 통해 최신 정보에 접근하여 검색 결과를 가지고 답변을 생성할 수 있습니다. 도구는 이처럼 검색 도구 뿐만아니라 Python 코드를 실행할 수 있는 도구, 직접 정의한 함수를 실행하는 도구 등 다양한 종류와 방법론을 제공합니다.\n"
   ]
  },
  {
   "cell_type": "markdown",
   "id": "27328084",
   "metadata": {},
   "source": [
    "### 웹 검색도구: Tavily Search\n",
    "\n",
    "LangChain에는 Tavily 검색 엔진을 도구로 쉽게 사용할 수 있는 내장 도구가 있습니다.\n",
    "\n",
    "Tavily Search 를 사용하기 위해서는 API KEY를 발급 받아야 합니다.\n",
    "\n",
    "- [Tavily Search API 발급받기](https://app.tavily.com/sign-in)\n",
    "\n",
    "발급 받은 API KEY 를 다음과 같이 환경변수에 등록 합니다.\n",
    "\n",
    "`.env` 파일에 다음과 같이 등록합니다.\n",
    "\n",
    "- `TAVILY_API_KEY=발급 받은 Tavily API KEY 입력`"
   ]
  },
  {
   "cell_type": "code",
   "execution_count": null,
   "id": "c0bce178",
   "metadata": {},
   "outputs": [],
   "source": [
    "# API 키를 환경변수로 관리하기 위한 설정 파일\n",
    "from dotenv import load_dotenv\n",
    "\n",
    "# API 키 정보 로드\n",
    "load_dotenv()"
   ]
  },
  {
   "cell_type": "code",
   "execution_count": null,
   "id": "50d1b459",
   "metadata": {},
   "outputs": [],
   "source": [
    "# LangSmith 추적을 설정합니다. https://smith.langchain.com\n",
    "# !pip install -qU langchain-teddynote\n",
    "from langchain_teddynote import logging\n",
    "\n",
    "# 프로젝트 이름을 입력합니다.\n",
    "logging.langsmith(\"CH15-Agentic-RAG\")"
   ]
  },
  {
   "cell_type": "code",
   "execution_count": 3,
   "id": "9ecdb860",
   "metadata": {},
   "outputs": [],
   "source": [
    "# TavilySearchResults 클래스를 langchain_community.tools.tavily_search 모듈에서 가져옵니다.\n",
    "from langchain_community.tools.tavily_search import TavilySearchResults\n",
    "\n",
    "# TavilySearchResults 클래스의 인스턴스를 생성합니다\n",
    "# k=6은 검색 결과를 6개까지 가져오겠다는 의미입니다\n",
    "search = TavilySearchResults(k=6)"
   ]
  },
  {
   "cell_type": "markdown",
   "id": "2e659b03",
   "metadata": {},
   "source": [
    "`search.invoke` 함수는 주어진 문자열에 대한 검색을 실행합니다.\n",
    "\n",
    "`invoke()` 함수에 검색하고 싶은 검색어를 넣어 검색을 수행합니다.\n"
   ]
  },
  {
   "cell_type": "code",
   "execution_count": null,
   "id": "7d65db4b",
   "metadata": {},
   "outputs": [],
   "source": [
    "# 검색 결과를 가져옵니다.\n",
    "search.invoke(\"판교 카카오 프렌즈샵 아지트점의 전화번호는 무엇인가요?\")"
   ]
  },
  {
   "cell_type": "markdown",
   "id": "eb5d738f",
   "metadata": {},
   "source": [
    "### 문서 기반 문서 검색 도구: Retriever\n",
    "\n",
    "우리의 데이터에 대해 조회를 수행할 retriever도 생성합니다.\n",
    "\n",
    "**실습에 활용한 문서**\n",
    "\n",
    "소프트웨어정책연구소(SPRi) - 2023년 12월호\n",
    "\n",
    "- 저자: 유재흥(AI정책연구실 책임연구원), 이지수(AI정책연구실 위촉연구원)\n",
    "- 링크: https://spri.kr/posts/view/23669\n",
    "- 파일명: `SPRI_AI_Brief_2023년12월호_F.pdf`\n",
    "\n",
    "_실습을 위해 다운로드 받은 파일을 `data` 폴더로 복사해 주시기 바랍니다_\n"
   ]
  },
  {
   "cell_type": "markdown",
   "id": "f63d9f73",
   "metadata": {},
   "source": [
    "이 코드는 웹 기반 문서 로더, 문서 분할기, 벡터 저장소, 그리고 OpenAI 임베딩을 사용하여 문서 검색 시스템을 구축합니다.\n",
    "\n",
    "여기서는 PDF 문서를 `FAISS` DB 에 저장하고 조회하는 retriever 를 생성합니다.\n"
   ]
  },
  {
   "cell_type": "code",
   "execution_count": 5,
   "id": "68f2a3c9",
   "metadata": {},
   "outputs": [],
   "source": [
    "from langchain.text_splitter import RecursiveCharacterTextSplitter\n",
    "from langchain_community.vectorstores import FAISS\n",
    "from langchain_openai import OpenAIEmbeddings\n",
    "from langchain.document_loaders import PyPDFLoader\n",
    "\n",
    "# PDF 파일 로드. 파일의 경로 입력\n",
    "loader = PyPDFLoader(\"data/SPRI_AI_Brief_2023년12월호_F.pdf\")\n",
    "\n",
    "# 텍스트 분할기를 사용하여 문서를 분할합니다.\n",
    "text_splitter = RecursiveCharacterTextSplitter(chunk_size=1000, chunk_overlap=100)\n",
    "\n",
    "# 문서를 로드하고 분할합니다.\n",
    "split_docs = loader.load_and_split(text_splitter)\n",
    "\n",
    "# VectorStore를 생성합니다.\n",
    "vector = FAISS.from_documents(split_docs, OpenAIEmbeddings())\n",
    "\n",
    "# Retriever를 생성합니다.\n",
    "retriever = vector.as_retriever()"
   ]
  },
  {
   "cell_type": "markdown",
   "id": "458a2b03",
   "metadata": {},
   "source": [
    "이 함수는 `retriever` 객체의 `invoke()` 를 사용하여 사용자의 질문에 대한 가장 **관련성 높은 문서** 를 찾는 데 사용됩니다.\n"
   ]
  },
  {
   "cell_type": "code",
   "execution_count": null,
   "id": "2dab83e0",
   "metadata": {},
   "outputs": [],
   "source": [
    "# 문서에서 관련성 높은 문서를 가져옵니다.\n",
    "retriever.invoke(\"삼성전자가 개발한 생성형 AI 관련 내용을 문서에서 찾아줘\")"
   ]
  },
  {
   "cell_type": "markdown",
   "id": "98528482",
   "metadata": {},
   "source": [
    "이제 우리가 검색을 수행할 인덱스를 채웠으므로, 이를 에이전트가 제대로 사용할 수 있는 도구로 쉽게 변환할 수 있습니다.\n"
   ]
  },
  {
   "cell_type": "markdown",
   "id": "6006cbc9",
   "metadata": {},
   "source": [
    "`create_retriever_tool` 함수로 `retriever` 를 도구로 변환합니다."
   ]
  },
  {
   "cell_type": "code",
   "execution_count": 7,
   "id": "683b1878",
   "metadata": {},
   "outputs": [],
   "source": [
    "from langchain.tools.retriever import create_retriever_tool\n",
    "\n",
    "retriever_tool = create_retriever_tool(\n",
    "    retriever,\n",
    "    name=\"pdf_search\",  # 도구의 이름을 입력합니다.\n",
    "    description=\"use this tool to search information from the PDF document\",  # 도구에 대한 설명을 자세히 기입해야 합니다!!\n",
    ")"
   ]
  },
  {
   "cell_type": "markdown",
   "id": "24519b31",
   "metadata": {},
   "source": [
    "### Agent 가 사용할 도구 목록 정의\n",
    "\n",
    "이제 두 가지를 모두 만들었으므로, Agent 가 사용할 도구 목록을 만들 수 있습니다.\n",
    "\n",
    "`tools` 리스트는 `search`와 `retriever_tool`을 포함합니다. "
   ]
  },
  {
   "cell_type": "code",
   "execution_count": 8,
   "id": "1984dd66",
   "metadata": {},
   "outputs": [],
   "source": [
    "# tools 리스트에 search와 retriever_tool을 추가합니다.\n",
    "tools = [search, retriever_tool]"
   ]
  },
  {
   "cell_type": "markdown",
   "id": "e7891219",
   "metadata": {},
   "source": [
    "## Agent 생성\n",
    "\n",
    "이제 도구를 정의했으니 에이전트를 생성할 수 있습니다. \n",
    "\n",
    "먼저, Agent 가 활용할 LLM을 정의하고, Agent 가 참고할 Prompt 를 정의합니다.\n",
    "\n",
    "**참고**\n",
    "- 멀티턴 대화를 지원하지 않는다면 \"chat_history\" 를 제거해도 좋습니다."
   ]
  },
  {
   "cell_type": "code",
   "execution_count": 9,
   "id": "f6e6cbfd",
   "metadata": {},
   "outputs": [],
   "source": [
    "from langchain_openai import ChatOpenAI\n",
    "from langchain_core.prompts import ChatPromptTemplate\n",
    "\n",
    "# LLM 정의\n",
    "llm = ChatOpenAI(model=\"gpt-4o-mini\", temperature=0)\n",
    "\n",
    "# Prompt 정의\n",
    "prompt = ChatPromptTemplate.from_messages(\n",
    "    [\n",
    "        (\n",
    "            \"system\",\n",
    "            \"You are a helpful assistant. \"\n",
    "            \"Make sure to use the `pdf_search` tool for searching information from the PDF document. \"\n",
    "            \"If you can't find the information from the PDF document, use the `search` tool for searching information from the web.\",\n",
    "        ),\n",
    "        (\"placeholder\", \"{chat_history}\"),\n",
    "        (\"human\", \"{input}\"),\n",
    "        (\"placeholder\", \"{agent_scratchpad}\"),\n",
    "    ]\n",
    ")"
   ]
  },
  {
   "cell_type": "markdown",
   "id": "25a7a1d0",
   "metadata": {},
   "source": [
    "다음으로는 Tool Calling Agent 를 생성합니다."
   ]
  },
  {
   "cell_type": "code",
   "execution_count": 10,
   "id": "ce2cdda8",
   "metadata": {},
   "outputs": [],
   "source": [
    "from langchain.agents import create_tool_calling_agent\n",
    "\n",
    "# tool calling agent 생성\n",
    "agent = create_tool_calling_agent(llm, tools, prompt)"
   ]
  },
  {
   "cell_type": "markdown",
   "id": "5592f1b3",
   "metadata": {},
   "source": [
    "마지막으로, 생성한 `agent` 를 실행하는 `AgentExecutor` 를 생성합니다.\n",
    "\n",
    "**참고**\n",
    "\n",
    "- `verbose=False` 로 설정하여 중간 단계 출력을 생략하였습니다."
   ]
  },
  {
   "cell_type": "code",
   "execution_count": 11,
   "id": "88bb3aab",
   "metadata": {},
   "outputs": [],
   "source": [
    "from langchain.agents import AgentExecutor\n",
    "\n",
    "# AgentExecutor 생성\n",
    "agent_executor = AgentExecutor(agent=agent, tools=tools, verbose=False)"
   ]
  },
  {
   "cell_type": "markdown",
   "id": "614375b3",
   "metadata": {},
   "source": [
    "## 에이전트 실행하기\n",
    "\n",
    "이제 몇 가지 질의에 대해 에이전트를 실행할 수 있습니다!\n",
    "\n",
    "현재 이러한 모든 질의는 **상태(Stateless) 가 없는** 질의입니다(이전 상호작용을 기억하지 않습니다).\n"
   ]
  },
  {
   "cell_type": "markdown",
   "id": "d8120a9e",
   "metadata": {},
   "source": [
    "`agent_executor` 객체의 `invoke` 메소드는 딕셔너리 형태의 인자를 받아 처리합니다. 이 예제에서는 `input` 키에 `hi!` 값을 할당한 딕셔너리를 인자로 전달하고 있습니다. 이는 일반적으로 AI 에이전트, 함수 실행기, 또는 명령 처리기 등의 객체에서 입력을 처리하기 위해 사용됩니다.\n"
   ]
  },
  {
   "cell_type": "code",
   "execution_count": 12,
   "id": "40529899",
   "metadata": {},
   "outputs": [],
   "source": [
    "from langchain_teddynote.messages import AgentStreamParser\n",
    "\n",
    "# 각 단계별 출력을 위한 파서 생성\n",
    "agent_stream_parser = AgentStreamParser()"
   ]
  },
  {
   "cell_type": "code",
   "execution_count": null,
   "id": "9cfbad15",
   "metadata": {},
   "outputs": [],
   "source": [
    "# 질의에 대한 답변을 스트리밍으로 출력 요청\n",
    "result = agent_executor.stream(\n",
    "    {\"input\": \"2024년 프로야구 플레이오프 진출한 5개 팀을 검색하여 알려주세요.\"}\n",
    ")\n",
    "\n",
    "for step in result:\n",
    "    # 중간 단계를 parser 를 사용하여 단계별로 출력\n",
    "    agent_stream_parser.process_agent_steps(step)"
   ]
  },
  {
   "cell_type": "markdown",
   "id": "604b2a9c",
   "metadata": {},
   "source": [
    "`agent_executor` 객체의 `invoke` 메소드를 사용하여, 질문을 입력으로 제공합니다.\n"
   ]
  },
  {
   "cell_type": "code",
   "execution_count": null,
   "id": "4a0582ab",
   "metadata": {},
   "outputs": [],
   "source": [
    "# 질의에 대한 답변을 스트리밍으로 출력 요청\n",
    "result = agent_executor.stream(\n",
    "    {\"input\": \"삼성전자가 자체 개발한 생성형 AI 관련된 정보를 문서에서 찾아주세요.\"}\n",
    ")\n",
    "\n",
    "for step in result:\n",
    "    # 중간 단계를 parser 를 사용하여 단계별로 출력\n",
    "    agent_stream_parser.process_agent_steps(step)"
   ]
  },
  {
   "cell_type": "markdown",
   "id": "6d836bd5",
   "metadata": {},
   "source": [
    "## 이전 대화내용 기억하는 Agent\n",
    "\n",
    "이전의 대화내용을 기억하기 위해서는 `RunnableWithMessageHistory` 를 사용하여 `AgentExecutor` 를 감싸줍니다.\n",
    "\n",
    "`RunnableWithMessageHistory` 에 대한 자세한 내용은 아래 링크를 참고해 주세요.\n",
    "\n",
    "**참고**\n",
    "- [RunnableWithMessageHistory](https://wikidocs.net/254682)"
   ]
  },
  {
   "cell_type": "code",
   "execution_count": 15,
   "id": "39cc359c",
   "metadata": {},
   "outputs": [],
   "source": [
    "from langchain_community.chat_message_histories import ChatMessageHistory\n",
    "from langchain_core.runnables.history import RunnableWithMessageHistory\n",
    "\n",
    "# session_id 를 저장할 딕셔너리 생성\n",
    "store = {}\n",
    "\n",
    "\n",
    "# session_id 를 기반으로 세션 기록을 가져오는 함수\n",
    "def get_session_history(session_ids):\n",
    "    if session_ids not in store:  # session_id 가 store에 없는 경우\n",
    "        # 새로운 ChatMessageHistory 객체를 생성하여 store에 저장\n",
    "        store[session_ids] = ChatMessageHistory()\n",
    "    return store[session_ids]  # 해당 세션 ID에 대한 세션 기록 반환\n",
    "\n",
    "\n",
    "# 채팅 메시지 기록이 추가된 에이전트를 생성합니다.\n",
    "agent_with_chat_history = RunnableWithMessageHistory(\n",
    "    agent_executor,\n",
    "    # 대화 session_id\n",
    "    get_session_history,\n",
    "    # 프롬프트의 질문이 입력되는 key: \"input\"\n",
    "    input_messages_key=\"input\",\n",
    "    # 프롬프트의 메시지가 입력되는 key: \"chat_history\"\n",
    "    history_messages_key=\"chat_history\",\n",
    ")"
   ]
  },
  {
   "cell_type": "code",
   "execution_count": null,
   "id": "697c803f",
   "metadata": {},
   "outputs": [],
   "source": [
    "# 질의에 대한 답변을 스트리밍으로 출력 요청\n",
    "response = agent_with_chat_history.stream(\n",
    "    {\"input\": \"삼성전자가 개발한 생성형 AI 관련된 정보를 문서에서 찾아주세요.\"},\n",
    "    # session_id 설정\n",
    "    config={\"configurable\": {\"session_id\": \"abc123\"}},\n",
    ")\n",
    "\n",
    "# 출력 확인\n",
    "for step in response:\n",
    "    agent_stream_parser.process_agent_steps(step)"
   ]
  },
  {
   "cell_type": "code",
   "execution_count": null,
   "id": "7d96ac8e",
   "metadata": {},
   "outputs": [],
   "source": [
    "response = agent_with_chat_history.stream(\n",
    "    {\"input\": \"이전의 답변을 영어로 번역해 주세요.\"},\n",
    "    # session_id 설정\n",
    "    config={\"configurable\": {\"session_id\": \"abc123\"}},\n",
    ")\n",
    "\n",
    "# 출력 확인\n",
    "for step in response:\n",
    "    agent_stream_parser.process_agent_steps(step)"
   ]
  },
  {
   "cell_type": "markdown",
   "id": "a1970203",
   "metadata": {},
   "source": [
    "## Agent 템플릿\n",
    "\n",
    "다음은 전체 템플릿 코드 입니다.\n"
   ]
  },
  {
   "cell_type": "code",
   "execution_count": 18,
   "id": "4d261a21",
   "metadata": {},
   "outputs": [],
   "source": [
    "# 필요한 모듈 import\n",
    "from langchain_core.prompts import ChatPromptTemplate\n",
    "from langchain_community.tools.tavily_search import TavilySearchResults\n",
    "from langchain_community.vectorstores import FAISS\n",
    "from langchain_community.chat_message_histories import ChatMessageHistory\n",
    "from langchain.text_splitter import RecursiveCharacterTextSplitter\n",
    "from langchain_openai import OpenAIEmbeddings, ChatOpenAI\n",
    "from langchain.document_loaders import PyMuPDFLoader\n",
    "from langchain.tools.retriever import create_retriever_tool\n",
    "from langchain.agents import create_tool_calling_agent, AgentExecutor\n",
    "from langchain_core.runnables.history import RunnableWithMessageHistory\n",
    "from langchain_teddynote.messages import AgentStreamParser\n",
    "\n",
    "########## 1. 도구를 정의합니다 ##########\n",
    "\n",
    "### 1-1. Search 도구 ###\n",
    "# TavilySearchResults 클래스의 인스턴스를 생성합니다\n",
    "# k=6은 검색 결과를 6개까지 가져오겠다는 의미입니다\n",
    "search = TavilySearchResults(k=6)\n",
    "\n",
    "### 1-2. PDF 문서 검색 도구 (Retriever) ###\n",
    "# PDF 파일 로드. 파일의 경로 입력\n",
    "loader = PyMuPDFLoader(\"data/SPRI_AI_Brief_2023년12월호_F.pdf\")\n",
    "\n",
    "# 텍스트 분할기를 사용하여 문서를 분할합니다.\n",
    "text_splitter = RecursiveCharacterTextSplitter(chunk_size=1000, chunk_overlap=100)\n",
    "\n",
    "# 문서를 로드하고 분할합니다.\n",
    "split_docs = loader.load_and_split(text_splitter)\n",
    "\n",
    "# VectorStore를 생성합니다.\n",
    "vector = FAISS.from_documents(split_docs, OpenAIEmbeddings())\n",
    "\n",
    "# Retriever를 생성합니다.\n",
    "retriever = vector.as_retriever()\n",
    "\n",
    "retriever_tool = create_retriever_tool(\n",
    "    retriever,\n",
    "    name=\"pdf_search\",  # 도구의 이름을 입력합니다.\n",
    "    description=\"use this tool to search information from the PDF document\",  # 도구에 대한 설명을 자세히 기입해야 합니다!!\n",
    ")\n",
    "\n",
    "### 1-3. tools 리스트에 도구 목록을 추가합니다 ###\n",
    "# tools 리스트에 search와 retriever_tool을 추가합니다.\n",
    "tools = [search, retriever_tool]\n",
    "\n",
    "########## 2. LLM 을 정의합니다 ##########\n",
    "# LLM 모델을 생성합니다.\n",
    "llm = ChatOpenAI(model=\"gpt-4o\", temperature=0)\n",
    "\n",
    "########## 3. Prompt 를 정의합니다 ##########\n",
    "\n",
    "# Prompt 를 정의합니다 - 이 부분을 수정할 수 있습니다!\n",
    "# Prompt 정의\n",
    "prompt = ChatPromptTemplate.from_messages(\n",
    "    [\n",
    "        (\n",
    "            \"system\",\n",
    "            \"You are a helpful assistant. \"\n",
    "            \"Make sure to use the `pdf_search` tool for searching information from the PDF document. \"\n",
    "            \"If you can't find the information from the PDF document, use the `search` tool for searching information from the web.\",\n",
    "        ),\n",
    "        (\"placeholder\", \"{chat_history}\"),\n",
    "        (\"human\", \"{input}\"),\n",
    "        (\"placeholder\", \"{agent_scratchpad}\"),\n",
    "    ]\n",
    ")\n",
    "\n",
    "########## 4. Agent 를 정의합니다 ##########\n",
    "\n",
    "# 에이전트를 생성합니다.\n",
    "# llm, tools, prompt를 인자로 사용합니다.\n",
    "agent = create_tool_calling_agent(llm, tools, prompt)\n",
    "\n",
    "########## 5. AgentExecutor 를 정의합니다 ##########\n",
    "\n",
    "# AgentExecutor 클래스를 사용하여 agent와 tools를 설정하고, 상세한 로그를 출력하도록 verbose를 True로 설정합니다.\n",
    "agent_executor = AgentExecutor(agent=agent, tools=tools, verbose=False)\n",
    "\n",
    "########## 6. 채팅 기록을 수행하는 메모리를 추가합니다. ##########\n",
    "\n",
    "# session_id 를 저장할 딕셔너리 생성\n",
    "store = {}\n",
    "\n",
    "\n",
    "# session_id 를 기반으로 세션 기록을 가져오는 함수\n",
    "def get_session_history(session_ids):\n",
    "    if session_ids not in store:  # session_id 가 store에 없는 경우\n",
    "        # 새로운 ChatMessageHistory 객체를 생성하여 store에 저장\n",
    "        store[session_ids] = ChatMessageHistory()\n",
    "    return store[session_ids]  # 해당 세션 ID에 대한 세션 기록 반환\n",
    "\n",
    "\n",
    "# 채팅 메시지 기록이 추가된 에이전트를 생성합니다.\n",
    "agent_with_chat_history = RunnableWithMessageHistory(\n",
    "    agent_executor,\n",
    "    # 대화 session_id\n",
    "    get_session_history,\n",
    "    # 프롬프트의 질문이 입력되는 key: \"input\"\n",
    "    input_messages_key=\"input\",\n",
    "    # 프롬프트의 메시지가 입력되는 key: \"chat_history\"\n",
    "    history_messages_key=\"chat_history\",\n",
    ")\n",
    "\n",
    "########## 7. Agent 파서를 정의합니다. ##########\n",
    "agent_stream_parser = AgentStreamParser()"
   ]
  },
  {
   "cell_type": "code",
   "execution_count": null,
   "id": "3e2666f0",
   "metadata": {},
   "outputs": [],
   "source": [
    "########## 8. 에이전트를 실행하고 결과를 확인합니다. ##########\n",
    "\n",
    "# 질의에 대한 답변을 출력합니다.\n",
    "response = agent_with_chat_history.stream(\n",
    "    {\"input\": \"구글이 앤스로픽에 투자한 금액을 문서에서 찾아줘\"},\n",
    "    # 세션 ID를 설정합니다.\n",
    "    # 여기서는 간단한 메모리 내 ChatMessageHistory를 사용하기 때문에 실제로 사용되지 않습니다\n",
    "    config={\"configurable\": {\"session_id\": \"abc123\"}},\n",
    ")\n",
    "\n",
    "for step in response:\n",
    "    agent_stream_parser.process_agent_steps(step)"
   ]
  },
  {
   "cell_type": "code",
   "execution_count": null,
   "id": "bc28b7c4",
   "metadata": {},
   "outputs": [],
   "source": [
    "########## 8. 에이전트를 실행하고 결과를 확인합니다. ##########\n",
    "\n",
    "# 질의에 대한 답변을 출력합니다.\n",
    "response = agent_with_chat_history.stream(\n",
    "    {\"input\": \"이전의 답변을 영어로 번역해 주세요\"},\n",
    "    # 세션 ID를 설정합니다.\n",
    "    # 여기서는 간단한 메모리 내 ChatMessageHistory를 사용하기 때문에 실제로 사용되지 않습니다\n",
    "    config={\"configurable\": {\"session_id\": \"abc123\"}},\n",
    ")\n",
    "\n",
    "for step in response:\n",
    "    agent_stream_parser.process_agent_steps(step)"
   ]
  },
  {
   "cell_type": "code",
   "execution_count": null,
   "id": "54697845",
   "metadata": {},
   "outputs": [],
   "source": [
    "########## 8. 에이전트를 실행하고 결과를 확인합니다. ##########\n",
    "\n",
    "# 질의에 대한 답변을 출력합니다.\n",
    "response = agent_with_chat_history.stream(\n",
    "    {\n",
    "        \"input\": \"2024년 프로야구 플레이오프 진출 5개팀을 검색해서 알려주세요. 한글로 답변하세요\"\n",
    "    },\n",
    "    # 세션 ID를 설정합니다.\n",
    "    # 여기서는 간단한 메모리 내 ChatMessageHistory를 사용하기 때문에 실제로 사용되지 않습니다\n",
    "    config={\"configurable\": {\"session_id\": \"abc456\"}},\n",
    ")\n",
    "\n",
    "for step in response:\n",
    "    agent_stream_parser.process_agent_steps(step)"
   ]
  },
  {
   "cell_type": "code",
   "execution_count": null,
   "id": "7e3d1607",
   "metadata": {},
   "outputs": [],
   "source": [
    "########## 8. 에이전트를 실행하고 결과를 확인합니다. ##########\n",
    "\n",
    "# 질의에 대한 답변을 출력합니다.\n",
    "response = agent_with_chat_history.stream(\n",
    "    {\"input\": \"이전의 답변을 SNS 게시글 형태로 100자 내외로 작성하세요.\"},\n",
    "    # 세션 ID를 설정합니다.\n",
    "    # 여기서는 간단한 메모리 내 ChatMessageHistory를 사용하기 때문에 실제로 사용되지 않습니다\n",
    "    config={\"configurable\": {\"session_id\": \"abc456\"}},\n",
    ")\n",
    "\n",
    "for step in response:\n",
    "    agent_stream_parser.process_agent_steps(step)"
   ]
  },
  {
   "cell_type": "code",
   "execution_count": null,
   "id": "72d99d59",
   "metadata": {},
   "outputs": [],
   "source": [
    "########## 8. 에이전트를 실행하고 결과를 확인합니다. ##########\n",
    "\n",
    "# 질의에 대한 답변을 출력합니다.\n",
    "response = agent_with_chat_history.stream(\n",
    "    {\"input\": \"이전의 답변에 한국 시리즈 일정을 추가하세요.\"},\n",
    "    # 세션 ID를 설정합니다.\n",
    "    # 여기서는 간단한 메모리 내 ChatMessageHistory를 사용하기 때문에 실제로 사용되지 않습니다\n",
    "    config={\"configurable\": {\"session_id\": \"abc456\"}},\n",
    ")\n",
    "\n",
    "for step in response:\n",
    "    agent_stream_parser.process_agent_steps(step)"
   ]
  }
 ],
 "metadata": {
  "kernelspec": {
   "display_name": "py-test",
   "language": "python",
   "name": "python3"
  },
  "language_info": {
   "codemirror_mode": {
    "name": "ipython",
    "version": 3
   },
   "file_extension": ".py",
   "mimetype": "text/x-python",
   "name": "python",
   "nbconvert_exporter": "python",
   "pygments_lexer": "ipython3",
   "version": "3.11.9"
  }
 },
 "nbformat": 4,
 "nbformat_minor": 5
}

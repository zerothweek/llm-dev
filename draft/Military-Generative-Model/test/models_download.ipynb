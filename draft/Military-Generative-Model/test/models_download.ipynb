{
 "cells": [
  {
   "cell_type": "code",
   "execution_count": 1,
   "metadata": {},
   "outputs": [
    {
     "name": "stderr",
     "output_type": "stream",
     "text": [
      "Cloning into 'llama-3.2-Korean-Bllossom-3B'...\n",
      "Filtering content:  66% (2/3)\n",
      "Filtering content:  66% (2/3), 1.37 GiB | 4.40 MiB/s\n",
      "Filtering content: 100% (3/3), 1.37 GiB | 4.40 MiB/s\n",
      "Filtering content: 100% (3/3), 2.00 GiB | 2.73 MiB/s\n",
      "Filtering content: 100% (3/3), 2.00 GiB | 2.73 MiB/s, done.\n"
     ]
    }
   ],
   "source": [
    "!git clone https://huggingface.co/Bllossom/llama-3.2-Korean-Bllossom-3B"
   ]
  },
  {
   "cell_type": "code",
   "execution_count": 2,
   "metadata": {},
   "outputs": [
    {
     "name": "stderr",
     "output_type": "stream",
     "text": [
      "Cloning into 'EXAONE-3.5-7.8B-Instruct'...\n",
      "Filtering content:  28% (2/7)\n",
      "Filtering content:  28% (2/7), 2.21 GiB | 1.67 MiB/s\n",
      "Filtering content:  42% (3/7), 2.21 GiB | 1.67 MiB/s\n",
      "Filtering content:  42% (3/7), 2.71 GiB | 707.00 KiB/s\n",
      "Filtering content:  57% (4/7), 2.71 GiB | 707.00 KiB/s\n",
      "Filtering content:  57% (4/7), 3.37 GiB | 1.07 MiB/s  \n",
      "Filtering content:  71% (5/7), 3.37 GiB | 1.07 MiB/s\n",
      "Filtering content:  71% (5/7), 3.87 GiB | 944.00 KiB/s\n",
      "Filtering content:  85% (6/7), 3.87 GiB | 944.00 KiB/s\n",
      "Filtering content:  85% (6/7), 4.46 GiB | 1.15 MiB/s  \n",
      "Filtering content: 100% (7/7), 4.46 GiB | 1.15 MiB/s\n",
      "Filtering content: 100% (7/7), 5.12 GiB | 1.40 MiB/s\n",
      "Filtering content: 100% (7/7), 5.12 GiB | 1.33 MiB/s, done.\n"
     ]
    }
   ],
   "source": [
    "!git clone https://huggingface.co/LGAI-EXAONE/EXAONE-3.5-7.8B-Instruct"
   ]
  },
  {
   "cell_type": "code",
   "execution_count": null,
   "metadata": {},
   "outputs": [],
   "source": [
    "!git clone https://huggingface.co/yanolja/EEVE-Korean-Instruct-10.8B-v1.0"
   ]
  }
 ],
 "metadata": {
  "kernelspec": {
   "display_name": "iislab",
   "language": "python",
   "name": "python3"
  },
  "language_info": {
   "codemirror_mode": {
    "name": "ipython",
    "version": 3
   },
   "file_extension": ".py",
   "mimetype": "text/x-python",
   "name": "python",
   "nbconvert_exporter": "python",
   "pygments_lexer": "ipython3",
   "version": "3.9.16 (main, Jan 11 2023, 16:16:36) [MSC v.1916 64 bit (AMD64)]"
  },
  "vscode": {
   "interpreter": {
    "hash": "4c15f37f947291669b0901139f1c500aceae2af0fe46402cc65bf7b48a4c2811"
   }
  }
 },
 "nbformat": 4,
 "nbformat_minor": 2
}

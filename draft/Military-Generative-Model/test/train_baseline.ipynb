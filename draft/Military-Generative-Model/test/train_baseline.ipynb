{
 "cells": [
  {
   "attachments": {},
   "cell_type": "markdown",
   "metadata": {},
   "source": [
    "### !중요! GPU 초기화"
   ]
  },
  {
   "cell_type": "code",
   "execution_count": 1,
   "metadata": {},
   "outputs": [],
   "source": [
    "import gc\n",
    "import torch\n",
    "gc.collect()\n",
    "torch.cuda.empty_cache()"
   ]
  },
  {
   "attachments": {},
   "cell_type": "markdown",
   "metadata": {},
   "source": [
    "###"
   ]
  },
  {
   "cell_type": "code",
   "execution_count": null,
   "metadata": {},
   "outputs": [],
   "source": [
    "import argparse\n",
    "\n",
    "from datasets import load_dataset, load_from_disk\n",
    "from transformers import AutoTokenizer\n",
    "\n",
    "from trl import (\n",
    "    ModelConfig,\n",
    "    ScriptArguments,\n",
    "    SFTConfig,\n",
    "    SFTTrainer,\n",
    "    TrlParser,\n",
    "    get_kbit_device_map,\n",
    "    get_peft_config,\n",
    "    get_quantization_config\n",
    ")"
   ]
  },
  {
   "cell_type": "code",
   "execution_count": 3,
   "metadata": {},
   "outputs": [],
   "source": [
    "model_args = ModelConfig(\n",
    "    model_name_or_path='./models/EXAONE-3.5-7.8B-Instruct/',\n",
    "    torch_dtype=\"bfloat16\",\n",
    "    trust_remote_code=True,\n",
    "    \n",
    "    \n",
    "    ####################\n",
    "    # lora \n",
    "    ####################\n",
    "    use_peft= True,\n",
    "    lora_r=8,\n",
    "    lora_alpha=16,\n",
    "    lora_dropout=0.05,\n",
    "    lora_target_modules=[\n",
    "        \"q_proj\",\n",
    "        \"k_proj\",\n",
    "        \"v_proj\",\n",
    "        \"o_proj\",\n",
    "        \"gate_proj\",\n",
    "        \"up_proj\",\n",
    "        \"down_proj\",\n",
    "        \"lm_head\"\n",
    "    ],\n",
    "    lora_task_type=\"CAUSAL_LM\",\n",
    "    \n",
    "    ####################\n",
    "    # quantization\n",
    "    ####################\n",
    "    load_in_4bit=True,\n",
    "    bnb_4bit_quant_type=\"nf4\",\n",
    "    use_bnb_nested_quant= False    \n",
    ")"
   ]
  },
  {
   "cell_type": "code",
   "execution_count": 4,
   "metadata": {},
   "outputs": [],
   "source": [
    "training_args = SFTConfig(\n",
    "    output_dir = './models/EXAONE-3.5-7.8B-Instruct-SFT/',\n",
    "    eval_strategy='no',\n",
    "    push_to_hub=False,\n",
    "    per_device_train_batch_size=8,\n",
    "    gradient_accumulation_steps=16,\n",
    "    optim=\"paged_adamw_32bit\",\n",
    "    learning_rate=2e-4,\n",
    "    lr_scheduler_type=\"cosine\",\n",
    "    save_strategy=\"epoch\",\n",
    "    logging_steps=10,\n",
    "    num_train_epochs=100,\n",
    "    # max_steps=,\n",
    "    fp16=True,\n",
    "    packing = False,\n",
    "    max_seq_length = 1024\n",
    "    # packing=True\n",
    ")"
   ]
  },
  {
   "cell_type": "code",
   "execution_count": 5,
   "metadata": {},
   "outputs": [],
   "source": [
    "script_args = ScriptArguments(\n",
    "    dataset_name='./datasets/base_data2',\n",
    "    dataset_config = None,\n",
    "    dataset_train_split='train'\n",
    ")"
   ]
  },
  {
   "cell_type": "code",
   "execution_count": 6,
   "metadata": {},
   "outputs": [],
   "source": [
    "def train_llm(script_args, training_args, model_args):\n",
    "    quantization_config = get_quantization_config(model_args)\n",
    "    \n",
    "    model_kwargs = dict(\n",
    "        revision = model_args.model_revision,\n",
    "        trust_remote_code = model_args.trust_remote_code,\n",
    "        attn_implementation = model_args.attn_implementation,\n",
    "        torch_dtype = model_args.torch_dtype,\n",
    "        use_cache=False if training_args.gradient_checkpointing else True,\n",
    "        device_map = get_kbit_device_map() if quantization_config is not None else None,\n",
    "        quantization_config = quantization_config,\n",
    "    )\n",
    "    \n",
    "    training_args.model_init_kwargs = model_kwargs\n",
    "    tokenizer = AutoTokenizer.from_pretrained(\n",
    "        model_args.model_name_or_path, trust_remote_code=model_args.trust_remote_code, use_fast=True\n",
    "    )\n",
    "    tokenizer.pad_token = tokenizer.eos_token\n",
    "    \n",
    "    dataset = load_from_disk(script_args.dataset_name)\n",
    "    \n",
    "    trainer = SFTTrainer(\n",
    "        model = model_args.model_name_or_path,\n",
    "        args = training_args,\n",
    "        train_dataset = dataset[script_args.dataset_train_split],\n",
    "        processing_class = tokenizer,\n",
    "        peft_config = get_peft_config(model_args),\n",
    "    )\n",
    "    \n",
    "    trainer.train()\n",
    "    \n",
    "    trainer.save_model(training_args.output_dir)\n",
    "    if training_args.push_to_hub:\n",
    "        trainer.push_to_hub(dataset_name=script_args.dataset_name)"
   ]
  },
  {
   "cell_type": "code",
   "execution_count": 7,
   "metadata": {},
   "outputs": [
    {
     "name": "stderr",
     "output_type": "stream",
     "text": [
      "Loading checkpoint shards: 100%|██████████| 7/7 [00:33<00:00,  4.73s/it]\n",
      "  1%|          | 1/100 [02:59<4:56:04, 179.44s/it]c:\\ProgramData\\Anaconda3\\envs\\llm_final\\Lib\\site-packages\\peft\\utils\\save_and_load.py:230: UserWarning: Setting `save_embedding_layers` to `True` as embedding layers found in `target_modules`.\n",
      "  warnings.warn(\"Setting `save_embedding_layers` to `True` as embedding layers found in `target_modules`.\")\n",
      "  2%|▏         | 2/100 [05:52<4:46:28, 175.40s/it]c:\\ProgramData\\Anaconda3\\envs\\llm_final\\Lib\\site-packages\\peft\\utils\\save_and_load.py:230: UserWarning: Setting `save_embedding_layers` to `True` as embedding layers found in `target_modules`.\n",
      "  warnings.warn(\"Setting `save_embedding_layers` to `True` as embedding layers found in `target_modules`.\")\n",
      "  3%|▎         | 3/100 [08:53<4:47:49, 178.04s/it]c:\\ProgramData\\Anaconda3\\envs\\llm_final\\Lib\\site-packages\\peft\\utils\\save_and_load.py:230: UserWarning: Setting `save_embedding_layers` to `True` as embedding layers found in `target_modules`.\n",
      "  warnings.warn(\"Setting `save_embedding_layers` to `True` as embedding layers found in `target_modules`.\")\n",
      "  4%|▍         | 4/100 [12:04<4:53:29, 183.43s/it]c:\\ProgramData\\Anaconda3\\envs\\llm_final\\Lib\\site-packages\\peft\\utils\\save_and_load.py:230: UserWarning: Setting `save_embedding_layers` to `True` as embedding layers found in `target_modules`.\n",
      "  warnings.warn(\"Setting `save_embedding_layers` to `True` as embedding layers found in `target_modules`.\")\n",
      "  5%|▌         | 5/100 [15:02<4:47:05, 181.32s/it]c:\\ProgramData\\Anaconda3\\envs\\llm_final\\Lib\\site-packages\\peft\\utils\\save_and_load.py:230: UserWarning: Setting `save_embedding_layers` to `True` as embedding layers found in `target_modules`.\n",
      "  warnings.warn(\"Setting `save_embedding_layers` to `True` as embedding layers found in `target_modules`.\")\n",
      "  6%|▌         | 6/100 [18:15<4:50:17, 185.29s/it]c:\\ProgramData\\Anaconda3\\envs\\llm_final\\Lib\\site-packages\\peft\\utils\\save_and_load.py:230: UserWarning: Setting `save_embedding_layers` to `True` as embedding layers found in `target_modules`.\n",
      "  warnings.warn(\"Setting `save_embedding_layers` to `True` as embedding layers found in `target_modules`.\")\n",
      "  7%|▋         | 7/100 [21:27<4:50:46, 187.60s/it]c:\\ProgramData\\Anaconda3\\envs\\llm_final\\Lib\\site-packages\\peft\\utils\\save_and_load.py:230: UserWarning: Setting `save_embedding_layers` to `True` as embedding layers found in `target_modules`.\n",
      "  warnings.warn(\"Setting `save_embedding_layers` to `True` as embedding layers found in `target_modules`.\")\n",
      "  8%|▊         | 8/100 [24:36<4:48:10, 187.94s/it]c:\\ProgramData\\Anaconda3\\envs\\llm_final\\Lib\\site-packages\\peft\\utils\\save_and_load.py:230: UserWarning: Setting `save_embedding_layers` to `True` as embedding layers found in `target_modules`.\n",
      "  warnings.warn(\"Setting `save_embedding_layers` to `True` as embedding layers found in `target_modules`.\")\n",
      "  9%|▉         | 9/100 [27:28<4:37:38, 183.07s/it]c:\\ProgramData\\Anaconda3\\envs\\llm_final\\Lib\\site-packages\\peft\\utils\\save_and_load.py:230: UserWarning: Setting `save_embedding_layers` to `True` as embedding layers found in `target_modules`.\n",
      "  warnings.warn(\"Setting `save_embedding_layers` to `True` as embedding layers found in `target_modules`.\")\n",
      " 10%|█         | 10/100 [30:25<4:31:34, 181.06s/it]c:\\ProgramData\\Anaconda3\\envs\\llm_final\\Lib\\site-packages\\peft\\utils\\save_and_load.py:230: UserWarning: Setting `save_embedding_layers` to `True` as embedding layers found in `target_modules`.\n",
      "  warnings.warn(\"Setting `save_embedding_layers` to `True` as embedding layers found in `target_modules`.\")\n"
     ]
    },
    {
     "name": "stdout",
     "output_type": "stream",
     "text": [
      "{'loss': 11.245, 'grad_norm': 5.821979522705078, 'learning_rate': 0.00019510565162951537, 'epoch': 10.0}\n"
     ]
    },
    {
     "name": "stderr",
     "output_type": "stream",
     "text": [
      " 11%|█         | 11/100 [33:38<4:34:01, 184.74s/it]c:\\ProgramData\\Anaconda3\\envs\\llm_final\\Lib\\site-packages\\peft\\utils\\save_and_load.py:230: UserWarning: Setting `save_embedding_layers` to `True` as embedding layers found in `target_modules`.\n",
      "  warnings.warn(\"Setting `save_embedding_layers` to `True` as embedding layers found in `target_modules`.\")\n",
      " 12%|█▏        | 12/100 [36:54<4:36:11, 188.32s/it]c:\\ProgramData\\Anaconda3\\envs\\llm_final\\Lib\\site-packages\\peft\\utils\\save_and_load.py:230: UserWarning: Setting `save_embedding_layers` to `True` as embedding layers found in `target_modules`.\n",
      "  warnings.warn(\"Setting `save_embedding_layers` to `True` as embedding layers found in `target_modules`.\")\n",
      " 13%|█▎        | 13/100 [39:54<4:29:16, 185.71s/it]c:\\ProgramData\\Anaconda3\\envs\\llm_final\\Lib\\site-packages\\peft\\utils\\save_and_load.py:230: UserWarning: Setting `save_embedding_layers` to `True` as embedding layers found in `target_modules`.\n",
      "  warnings.warn(\"Setting `save_embedding_layers` to `True` as embedding layers found in `target_modules`.\")\n",
      " 14%|█▍        | 14/100 [42:47<4:20:42, 181.89s/it]c:\\ProgramData\\Anaconda3\\envs\\llm_final\\Lib\\site-packages\\peft\\utils\\save_and_load.py:230: UserWarning: Setting `save_embedding_layers` to `True` as embedding layers found in `target_modules`.\n",
      "  warnings.warn(\"Setting `save_embedding_layers` to `True` as embedding layers found in `target_modules`.\")\n",
      " 15%|█▌        | 15/100 [45:51<4:18:29, 182.47s/it]c:\\ProgramData\\Anaconda3\\envs\\llm_final\\Lib\\site-packages\\peft\\utils\\save_and_load.py:230: UserWarning: Setting `save_embedding_layers` to `True` as embedding layers found in `target_modules`.\n",
      "  warnings.warn(\"Setting `save_embedding_layers` to `True` as embedding layers found in `target_modules`.\")\n",
      " 16%|█▌        | 16/100 [49:03<4:19:36, 185.43s/it]c:\\ProgramData\\Anaconda3\\envs\\llm_final\\Lib\\site-packages\\peft\\utils\\save_and_load.py:230: UserWarning: Setting `save_embedding_layers` to `True` as embedding layers found in `target_modules`.\n",
      "  warnings.warn(\"Setting `save_embedding_layers` to `True` as embedding layers found in `target_modules`.\")\n",
      " 17%|█▋        | 17/100 [51:42<4:05:29, 177.47s/it]c:\\ProgramData\\Anaconda3\\envs\\llm_final\\Lib\\site-packages\\peft\\utils\\save_and_load.py:230: UserWarning: Setting `save_embedding_layers` to `True` as embedding layers found in `target_modules`.\n",
      "  warnings.warn(\"Setting `save_embedding_layers` to `True` as embedding layers found in `target_modules`.\")\n",
      " 18%|█▊        | 18/100 [54:32<3:59:13, 175.05s/it]c:\\ProgramData\\Anaconda3\\envs\\llm_final\\Lib\\site-packages\\peft\\utils\\save_and_load.py:230: UserWarning: Setting `save_embedding_layers` to `True` as embedding layers found in `target_modules`.\n",
      "  warnings.warn(\"Setting `save_embedding_layers` to `True` as embedding layers found in `target_modules`.\")\n",
      " 19%|█▉        | 19/100 [57:33<3:58:49, 176.91s/it]c:\\ProgramData\\Anaconda3\\envs\\llm_final\\Lib\\site-packages\\peft\\utils\\save_and_load.py:230: UserWarning: Setting `save_embedding_layers` to `True` as embedding layers found in `target_modules`.\n",
      "  warnings.warn(\"Setting `save_embedding_layers` to `True` as embedding layers found in `target_modules`.\")\n",
      " 20%|██        | 20/100 [1:00:39<3:59:43, 179.79s/it]c:\\ProgramData\\Anaconda3\\envs\\llm_final\\Lib\\site-packages\\peft\\utils\\save_and_load.py:230: UserWarning: Setting `save_embedding_layers` to `True` as embedding layers found in `target_modules`.\n",
      "  warnings.warn(\"Setting `save_embedding_layers` to `True` as embedding layers found in `target_modules`.\")\n"
     ]
    },
    {
     "name": "stdout",
     "output_type": "stream",
     "text": [
      "{'loss': 6.4042, 'grad_norm': 4.1300129890441895, 'learning_rate': 0.00018090169943749476, 'epoch': 20.0}\n"
     ]
    },
    {
     "name": "stderr",
     "output_type": "stream",
     "text": [
      " 21%|██        | 21/100 [1:03:51<4:01:29, 183.42s/it]c:\\ProgramData\\Anaconda3\\envs\\llm_final\\Lib\\site-packages\\peft\\utils\\save_and_load.py:230: UserWarning: Setting `save_embedding_layers` to `True` as embedding layers found in `target_modules`.\n",
      "  warnings.warn(\"Setting `save_embedding_layers` to `True` as embedding layers found in `target_modules`.\")\n",
      " 22%|██▏       | 22/100 [1:07:05<4:02:23, 186.45s/it]c:\\ProgramData\\Anaconda3\\envs\\llm_final\\Lib\\site-packages\\peft\\utils\\save_and_load.py:230: UserWarning: Setting `save_embedding_layers` to `True` as embedding layers found in `target_modules`.\n",
      "  warnings.warn(\"Setting `save_embedding_layers` to `True` as embedding layers found in `target_modules`.\")\n",
      " 23%|██▎       | 23/100 [1:10:14<4:00:24, 187.33s/it]c:\\ProgramData\\Anaconda3\\envs\\llm_final\\Lib\\site-packages\\peft\\utils\\save_and_load.py:230: UserWarning: Setting `save_embedding_layers` to `True` as embedding layers found in `target_modules`.\n",
      "  warnings.warn(\"Setting `save_embedding_layers` to `True` as embedding layers found in `target_modules`.\")\n",
      " 24%|██▍       | 24/100 [1:13:16<3:54:59, 185.52s/it]c:\\ProgramData\\Anaconda3\\envs\\llm_final\\Lib\\site-packages\\peft\\utils\\save_and_load.py:230: UserWarning: Setting `save_embedding_layers` to `True` as embedding layers found in `target_modules`.\n",
      "  warnings.warn(\"Setting `save_embedding_layers` to `True` as embedding layers found in `target_modules`.\")\n",
      " 25%|██▌       | 25/100 [1:16:29<3:54:58, 187.98s/it]c:\\ProgramData\\Anaconda3\\envs\\llm_final\\Lib\\site-packages\\peft\\utils\\save_and_load.py:230: UserWarning: Setting `save_embedding_layers` to `True` as embedding layers found in `target_modules`.\n",
      "  warnings.warn(\"Setting `save_embedding_layers` to `True` as embedding layers found in `target_modules`.\")\n",
      " 26%|██▌       | 26/100 [1:19:28<3:48:31, 185.29s/it]c:\\ProgramData\\Anaconda3\\envs\\llm_final\\Lib\\site-packages\\peft\\utils\\save_and_load.py:230: UserWarning: Setting `save_embedding_layers` to `True` as embedding layers found in `target_modules`.\n",
      "  warnings.warn(\"Setting `save_embedding_layers` to `True` as embedding layers found in `target_modules`.\")\n",
      " 27%|██▋       | 27/100 [1:22:31<3:44:24, 184.44s/it]c:\\ProgramData\\Anaconda3\\envs\\llm_final\\Lib\\site-packages\\peft\\utils\\save_and_load.py:230: UserWarning: Setting `save_embedding_layers` to `True` as embedding layers found in `target_modules`.\n",
      "  warnings.warn(\"Setting `save_embedding_layers` to `True` as embedding layers found in `target_modules`.\")\n",
      " 28%|██▊       | 28/100 [1:25:27<3:38:25, 182.02s/it]c:\\ProgramData\\Anaconda3\\envs\\llm_final\\Lib\\site-packages\\peft\\utils\\save_and_load.py:230: UserWarning: Setting `save_embedding_layers` to `True` as embedding layers found in `target_modules`.\n",
      "  warnings.warn(\"Setting `save_embedding_layers` to `True` as embedding layers found in `target_modules`.\")\n",
      " 29%|██▉       | 29/100 [1:28:40<3:39:23, 185.40s/it]c:\\ProgramData\\Anaconda3\\envs\\llm_final\\Lib\\site-packages\\peft\\utils\\save_and_load.py:230: UserWarning: Setting `save_embedding_layers` to `True` as embedding layers found in `target_modules`.\n",
      "  warnings.warn(\"Setting `save_embedding_layers` to `True` as embedding layers found in `target_modules`.\")\n",
      " 30%|███       | 30/100 [1:31:45<3:36:10, 185.29s/it]c:\\ProgramData\\Anaconda3\\envs\\llm_final\\Lib\\site-packages\\peft\\utils\\save_and_load.py:230: UserWarning: Setting `save_embedding_layers` to `True` as embedding layers found in `target_modules`.\n",
      "  warnings.warn(\"Setting `save_embedding_layers` to `True` as embedding layers found in `target_modules`.\")\n"
     ]
    },
    {
     "name": "stdout",
     "output_type": "stream",
     "text": [
      "{'loss': 4.3542, 'grad_norm': 4.039931297302246, 'learning_rate': 0.00015877852522924732, 'epoch': 30.0}\n"
     ]
    },
    {
     "name": "stderr",
     "output_type": "stream",
     "text": [
      " 31%|███       | 31/100 [1:34:46<3:31:31, 183.94s/it]c:\\ProgramData\\Anaconda3\\envs\\llm_final\\Lib\\site-packages\\peft\\utils\\save_and_load.py:230: UserWarning: Setting `save_embedding_layers` to `True` as embedding layers found in `target_modules`.\n",
      "  warnings.warn(\"Setting `save_embedding_layers` to `True` as embedding layers found in `target_modules`.\")\n",
      " 32%|███▏      | 32/100 [1:37:25<3:19:57, 176.44s/it]c:\\ProgramData\\Anaconda3\\envs\\llm_final\\Lib\\site-packages\\peft\\utils\\save_and_load.py:230: UserWarning: Setting `save_embedding_layers` to `True` as embedding layers found in `target_modules`.\n",
      "  warnings.warn(\"Setting `save_embedding_layers` to `True` as embedding layers found in `target_modules`.\")\n",
      " 33%|███▎      | 33/100 [1:40:21<3:16:49, 176.26s/it]c:\\ProgramData\\Anaconda3\\envs\\llm_final\\Lib\\site-packages\\peft\\utils\\save_and_load.py:230: UserWarning: Setting `save_embedding_layers` to `True` as embedding layers found in `target_modules`.\n",
      "  warnings.warn(\"Setting `save_embedding_layers` to `True` as embedding layers found in `target_modules`.\")\n"
     ]
    }
   ],
   "source": [
    "train_llm(script_args, training_args, model_args)\n",
    "\n",
    "##if train continue\n",
    "# traner.train(resume_from_checkpoint = True)"
   ]
  }
 ],
 "metadata": {
  "kernelspec": {
   "display_name": "llm_final",
   "language": "python",
   "name": "python3"
  },
  "language_info": {
   "codemirror_mode": {
    "name": "ipython",
    "version": 3
   },
   "file_extension": ".py",
   "mimetype": "text/x-python",
   "name": "python",
   "nbconvert_exporter": "python",
   "pygments_lexer": "ipython3",
   "version": "3.11.11 | packaged by Anaconda, Inc. | (main, Dec 11 2024, 16:34:19) [MSC v.1929 64 bit (AMD64)]"
  },
  "orig_nbformat": 4,
  "vscode": {
   "interpreter": {
    "hash": "90253832980c3c6cd087a3988e49febde8d09110ec0c14b52b616cb44c591269"
   }
  }
 },
 "nbformat": 4,
 "nbformat_minor": 2
}

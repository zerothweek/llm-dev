{
 "cells": [
  {
   "attachments": {},
   "cell_type": "markdown",
   "metadata": {},
   "source": [
    "### GPU 초기화"
   ]
  },
  {
   "cell_type": "code",
   "execution_count": 1,
   "metadata": {},
   "outputs": [],
   "source": [
    "import gc\n",
    "import torch\n",
    "gc.collect()\n",
    "torch.cuda.empty_cache()"
   ]
  },
  {
   "attachments": {},
   "cell_type": "markdown",
   "metadata": {},
   "source": [
    "### 라이브러리  import"
   ]
  },
  {
   "cell_type": "code",
   "execution_count": 2,
   "metadata": {},
   "outputs": [
    {
     "name": "stderr",
     "output_type": "stream",
     "text": [
      "c:\\ProgramData\\Anaconda3\\envs\\env_mark2\\Lib\\site-packages\\tqdm\\auto.py:21: TqdmWarning: IProgress not found. Please update jupyter and ipywidgets. See https://ipywidgets.readthedocs.io/en/stable/user_install.html\n",
      "  from .autonotebook import tqdm as notebook_tqdm\n"
     ]
    }
   ],
   "source": [
    "import argparse\n",
    "\n",
    "from datasets import load_dataset, load_from_disk\n",
    "from transformers import AutoTokenizer\n",
    "\n",
    "from trl import (\n",
    "    ModelConfig,\n",
    "    ScriptArguments,\n",
    "    SFTConfig,\n",
    "    SFTTrainer,\n",
    "    TrlParser,\n",
    "    get_kbit_device_map,\n",
    "    get_peft_config,\n",
    "    get_quantization_config\n",
    ")"
   ]
  },
  {
   "attachments": {},
   "cell_type": "markdown",
   "metadata": {},
   "source": [
    "### 훈련 Argument 정의"
   ]
  },
  {
   "cell_type": "code",
   "execution_count": 3,
   "metadata": {},
   "outputs": [],
   "source": [
    "model_args = ModelConfig(\n",
    "    model_name_or_path='../models/EXAONE-3.5-2.4B-Instruct/',\n",
    "    torch_dtype=\"bfloat16\",\n",
    "    trust_remote_code=True,\n",
    "    \n",
    "    \n",
    "    ####################\n",
    "    # lora \n",
    "    ####################\n",
    "    use_peft= True,\n",
    "    lora_r=8,\n",
    "    lora_alpha=16,\n",
    "    lora_dropout=0.05,\n",
    "    lora_target_modules=[\n",
    "        \"q_proj\",\n",
    "        \"k_proj\",\n",
    "        \"v_proj\",\n",
    "        \"o_proj\",\n",
    "        \"gate_proj\",\n",
    "        \"up_proj\",\n",
    "        \"down_proj\",\n",
    "        \"lm_head\"\n",
    "    ],\n",
    "    lora_task_type=\"CAUSAL_LM\",\n",
    "    \n",
    "    ####################\n",
    "    # quantization\n",
    "    ####################\n",
    "    load_in_4bit=True,\n",
    "    bnb_4bit_quant_type=\"nf4\",\n",
    "    use_bnb_nested_quant= False    \n",
    ")"
   ]
  },
  {
   "cell_type": "code",
   "execution_count": null,
   "metadata": {},
   "outputs": [],
   "source": []
  },
  {
   "cell_type": "code",
   "execution_count": 4,
   "metadata": {},
   "outputs": [],
   "source": [
    "training_args = SFTConfig(\n",
    "    output_dir = '../models/EXAONE-3.5-2.4B-Instruct-SFT/',\n",
    "    eval_strategy='no',\n",
    "    push_to_hub=False,\n",
    "    per_device_train_batch_size=16,\n",
    "    gradient_accumulation_steps=16,\n",
    "    optim=\"paged_adamw_32bit\",\n",
    "    learning_rate=2e-4,\n",
    "    lr_scheduler_type=\"cosine\",\n",
    "    save_strategy=\"epoch\",\n",
    "    logging_steps=10,\n",
    "    num_train_epochs=300,\n",
    "    # max_steps=,\n",
    "    fp16=True,\n",
    "    packing = False,\n",
    "    max_seq_length = 1024,\n",
    "    # packing=True\n",
    ")"
   ]
  },
  {
   "cell_type": "code",
   "execution_count": 5,
   "metadata": {},
   "outputs": [],
   "source": [
    "script_args = ScriptArguments(\n",
    "    dataset_name='../datasets/train_data/train_data_v2',\n",
    "    dataset_config = None,\n",
    "    dataset_train_split='train'\n",
    ")"
   ]
  },
  {
   "attachments": {},
   "cell_type": "markdown",
   "metadata": {},
   "source": [
    "### 훈련 함수"
   ]
  },
  {
   "cell_type": "code",
   "execution_count": 6,
   "metadata": {},
   "outputs": [],
   "source": [
    "def train_llm(script_args, training_args, model_args):\n",
    "    quantization_config = get_quantization_config(model_args)\n",
    "    \n",
    "    model_kwargs = dict(\n",
    "        revision = model_args.model_revision,\n",
    "        trust_remote_code = model_args.trust_remote_code,\n",
    "        attn_implementation = model_args.attn_implementation,\n",
    "        torch_dtype = model_args.torch_dtype,\n",
    "        use_cache=False if training_args.gradient_checkpointing else True,\n",
    "        device_map = get_kbit_device_map() if quantization_config is not None else None,\n",
    "        quantization_config = quantization_config,\n",
    "    )\n",
    "    \n",
    "    training_args.model_init_kwargs = model_kwargs\n",
    "    tokenizer = AutoTokenizer.from_pretrained(\n",
    "        model_args.model_name_or_path, trust_remote_code=model_args.trust_remote_code, use_fast=True\n",
    "    )\n",
    "    tokenizer.pad_token = tokenizer.eos_token\n",
    "    \n",
    "    dataset = load_from_disk(script_args.dataset_name)\n",
    "    # formatting_func 예시\n",
    "    def formatting_prompt_func(example):\n",
    "        output_texts = []\n",
    "        system_message = \"너는 병역이행법 상담을 도와주는 챗봇이야.\"\n",
    "        for i in range(len(example['question'])):\n",
    "            text = f\"[|system|]{system_message}[|endofturn|]\\n[|user|]{example['question'][i]}[|endofturn|]\\n[|assistant|]{example['answer'][i]}[|endofturn|]\"\n",
    "            output_texts.append(text)\n",
    "        return output_texts\n",
    "    trainer = SFTTrainer(\n",
    "        model = model_args.model_name_or_path,\n",
    "        args = training_args,\n",
    "        train_dataset = dataset[script_args.dataset_train_split],\n",
    "        processing_class = tokenizer,\n",
    "        peft_config = get_peft_config(model_args),\n",
    "        formatting_func = formatting_prompt_func,\n",
    "    )\n",
    "    \n",
    "    trainer.train()\n",
    "    \n",
    "    trainer.save_model(training_args.output_dir)\n",
    "    if training_args.push_to_hub:\n",
    "        trainer.push_to_hub(dataset_name=script_args.dataset_name)"
   ]
  },
  {
   "attachments": {},
   "cell_type": "markdown",
   "metadata": {},
   "source": [
    "### 훈련"
   ]
  },
  {
   "cell_type": "code",
   "execution_count": 7,
   "metadata": {},
   "outputs": [
    {
     "name": "stderr",
     "output_type": "stream",
     "text": [
      "Loading checkpoint shards: 100%|██████████| 2/2 [00:02<00:00,  1.25s/it]\n",
      "c:\\ProgramData\\Anaconda3\\envs\\env_mark2\\Lib\\site-packages\\peft\\tuners\\tuners_utils.py:543: UserWarning: Model with `tie_word_embeddings=True` and the tied_target_modules=['lm_head'] are part of the adapter. This can lead to complications, for example when merging the adapter or converting your model to formats other than safetensors. See for example https://github.com/huggingface/peft/issues/2018.\n",
      "  warnings.warn(\n",
      "  1%|          | 2/300 [06:21<14:21:48, 173.52s/it]c:\\ProgramData\\Anaconda3\\envs\\env_mark2\\Lib\\site-packages\\peft\\utils\\save_and_load.py:230: UserWarning: Setting `save_embedding_layers` to `True` as embedding layers found in `target_modules`.\n",
      "  warnings.warn(\"Setting `save_embedding_layers` to `True` as embedding layers found in `target_modules`.\")\n",
      "  1%|▏         | 4/300 [13:09<14:34:41, 177.30s/it]c:\\ProgramData\\Anaconda3\\envs\\env_mark2\\Lib\\site-packages\\peft\\utils\\save_and_load.py:230: UserWarning: Setting `save_embedding_layers` to `True` as embedding layers found in `target_modules`.\n",
      "  warnings.warn(\"Setting `save_embedding_layers` to `True` as embedding layers found in `target_modules`.\")\n",
      "  2%|▏         | 6/300 [20:29<15:26:28, 189.08s/it]c:\\ProgramData\\Anaconda3\\envs\\env_mark2\\Lib\\site-packages\\peft\\utils\\save_and_load.py:230: UserWarning: Setting `save_embedding_layers` to `True` as embedding layers found in `target_modules`.\n",
      "  warnings.warn(\"Setting `save_embedding_layers` to `True` as embedding layers found in `target_modules`.\")\n",
      "  3%|▎         | 8/300 [26:39<14:10:15, 174.71s/it]c:\\ProgramData\\Anaconda3\\envs\\env_mark2\\Lib\\site-packages\\peft\\utils\\save_and_load.py:230: UserWarning: Setting `save_embedding_layers` to `True` as embedding layers found in `target_modules`.\n",
      "  warnings.warn(\"Setting `save_embedding_layers` to `True` as embedding layers found in `target_modules`.\")\n",
      "  3%|▎         | 10/300 [33:32<14:25:16, 179.02s/it]c:\\ProgramData\\Anaconda3\\envs\\env_mark2\\Lib\\site-packages\\peft\\utils\\save_and_load.py:230: UserWarning: Setting `save_embedding_layers` to `True` as embedding layers found in `target_modules`.\n",
      "  warnings.warn(\"Setting `save_embedding_layers` to `True` as embedding layers found in `target_modules`.\")\n"
     ]
    },
    {
     "name": "stdout",
     "output_type": "stream",
     "text": [
      "{'loss': 34.1785, 'grad_norm': 9.935717582702637, 'learning_rate': 0.00019945218953682734, 'epoch': 5.0}\n"
     ]
    },
    {
     "name": "stderr",
     "output_type": "stream",
     "text": [
      "  4%|▍         | 12/300 [40:46<14:51:40, 185.77s/it]c:\\ProgramData\\Anaconda3\\envs\\env_mark2\\Lib\\site-packages\\peft\\utils\\save_and_load.py:230: UserWarning: Setting `save_embedding_layers` to `True` as embedding layers found in `target_modules`.\n",
      "  warnings.warn(\"Setting `save_embedding_layers` to `True` as embedding layers found in `target_modules`.\")\n",
      "  5%|▍         | 14/300 [47:56<15:00:34, 188.93s/it]c:\\ProgramData\\Anaconda3\\envs\\env_mark2\\Lib\\site-packages\\peft\\utils\\save_and_load.py:230: UserWarning: Setting `save_embedding_layers` to `True` as embedding layers found in `target_modules`.\n",
      "  warnings.warn(\"Setting `save_embedding_layers` to `True` as embedding layers found in `target_modules`.\")\n",
      "  5%|▌         | 16/300 [55:00<15:04:33, 191.11s/it]c:\\ProgramData\\Anaconda3\\envs\\env_mark2\\Lib\\site-packages\\peft\\utils\\save_and_load.py:230: UserWarning: Setting `save_embedding_layers` to `True` as embedding layers found in `target_modules`.\n",
      "  warnings.warn(\"Setting `save_embedding_layers` to `True` as embedding layers found in `target_modules`.\")\n",
      "  6%|▌         | 18/300 [1:01:48<14:38:17, 186.87s/it]c:\\ProgramData\\Anaconda3\\envs\\env_mark2\\Lib\\site-packages\\peft\\utils\\save_and_load.py:230: UserWarning: Setting `save_embedding_layers` to `True` as embedding layers found in `target_modules`.\n",
      "  warnings.warn(\"Setting `save_embedding_layers` to `True` as embedding layers found in `target_modules`.\")\n",
      "  7%|▋         | 20/300 [1:08:45<14:39:25, 188.45s/it]c:\\ProgramData\\Anaconda3\\envs\\env_mark2\\Lib\\site-packages\\peft\\utils\\save_and_load.py:230: UserWarning: Setting `save_embedding_layers` to `True` as embedding layers found in `target_modules`.\n",
      "  warnings.warn(\"Setting `save_embedding_layers` to `True` as embedding layers found in `target_modules`.\")\n"
     ]
    },
    {
     "name": "stdout",
     "output_type": "stream",
     "text": [
      "{'loss': 20.7715, 'grad_norm': 7.12577486038208, 'learning_rate': 0.00019781476007338058, 'epoch': 10.0}\n"
     ]
    },
    {
     "name": "stderr",
     "output_type": "stream",
     "text": [
      "  7%|▋         | 22/300 [1:15:43<14:34:54, 188.83s/it]c:\\ProgramData\\Anaconda3\\envs\\env_mark2\\Lib\\site-packages\\peft\\utils\\save_and_load.py:230: UserWarning: Setting `save_embedding_layers` to `True` as embedding layers found in `target_modules`.\n",
      "  warnings.warn(\"Setting `save_embedding_layers` to `True` as embedding layers found in `target_modules`.\")\n",
      "  8%|▊         | 24/300 [1:22:45<14:29:59, 189.13s/it]c:\\ProgramData\\Anaconda3\\envs\\env_mark2\\Lib\\site-packages\\peft\\utils\\save_and_load.py:230: UserWarning: Setting `save_embedding_layers` to `True` as embedding layers found in `target_modules`.\n",
      "  warnings.warn(\"Setting `save_embedding_layers` to `True` as embedding layers found in `target_modules`.\")\n",
      "  9%|▊         | 26/300 [1:30:09<14:42:55, 193.34s/it]c:\\ProgramData\\Anaconda3\\envs\\env_mark2\\Lib\\site-packages\\peft\\utils\\save_and_load.py:230: UserWarning: Setting `save_embedding_layers` to `True` as embedding layers found in `target_modules`.\n",
      "  warnings.warn(\"Setting `save_embedding_layers` to `True` as embedding layers found in `target_modules`.\")\n",
      "  9%|▉         | 28/300 [1:36:45<14:01:25, 185.61s/it]c:\\ProgramData\\Anaconda3\\envs\\env_mark2\\Lib\\site-packages\\peft\\utils\\save_and_load.py:230: UserWarning: Setting `save_embedding_layers` to `True` as embedding layers found in `target_modules`.\n",
      "  warnings.warn(\"Setting `save_embedding_layers` to `True` as embedding layers found in `target_modules`.\")\n",
      " 10%|█         | 30/300 [1:43:38<13:56:52, 185.97s/it]c:\\ProgramData\\Anaconda3\\envs\\env_mark2\\Lib\\site-packages\\peft\\utils\\save_and_load.py:230: UserWarning: Setting `save_embedding_layers` to `True` as embedding layers found in `target_modules`.\n",
      "  warnings.warn(\"Setting `save_embedding_layers` to `True` as embedding layers found in `target_modules`.\")\n"
     ]
    },
    {
     "name": "stdout",
     "output_type": "stream",
     "text": [
      "{'loss': 14.4567, 'grad_norm': 5.240175247192383, 'learning_rate': 0.00019510565162951537, 'epoch': 15.0}\n"
     ]
    },
    {
     "name": "stderr",
     "output_type": "stream",
     "text": [
      " 11%|█         | 32/300 [1:51:07<14:27:40, 194.26s/it]c:\\ProgramData\\Anaconda3\\envs\\env_mark2\\Lib\\site-packages\\peft\\utils\\save_and_load.py:230: UserWarning: Setting `save_embedding_layers` to `True` as embedding layers found in `target_modules`.\n",
      "  warnings.warn(\"Setting `save_embedding_layers` to `True` as embedding layers found in `target_modules`.\")\n",
      " 11%|█▏        | 34/300 [1:58:07<14:09:38, 191.65s/it]c:\\ProgramData\\Anaconda3\\envs\\env_mark2\\Lib\\site-packages\\peft\\utils\\save_and_load.py:230: UserWarning: Setting `save_embedding_layers` to `True` as embedding layers found in `target_modules`.\n",
      "  warnings.warn(\"Setting `save_embedding_layers` to `True` as embedding layers found in `target_modules`.\")\n",
      " 12%|█▏        | 36/300 [2:05:00<13:40:42, 186.53s/it]c:\\ProgramData\\Anaconda3\\envs\\env_mark2\\Lib\\site-packages\\peft\\utils\\save_and_load.py:230: UserWarning: Setting `save_embedding_layers` to `True` as embedding layers found in `target_modules`.\n",
      "  warnings.warn(\"Setting `save_embedding_layers` to `True` as embedding layers found in `target_modules`.\")\n",
      " 13%|█▎        | 38/300 [2:12:35<14:07:48, 194.16s/it]c:\\ProgramData\\Anaconda3\\envs\\env_mark2\\Lib\\site-packages\\peft\\utils\\save_and_load.py:230: UserWarning: Setting `save_embedding_layers` to `True` as embedding layers found in `target_modules`.\n",
      "  warnings.warn(\"Setting `save_embedding_layers` to `True` as embedding layers found in `target_modules`.\")\n",
      " 13%|█▎        | 40/300 [2:19:39<13:50:29, 191.65s/it]c:\\ProgramData\\Anaconda3\\envs\\env_mark2\\Lib\\site-packages\\peft\\utils\\save_and_load.py:230: UserWarning: Setting `save_embedding_layers` to `True` as embedding layers found in `target_modules`.\n",
      "  warnings.warn(\"Setting `save_embedding_layers` to `True` as embedding layers found in `target_modules`.\")\n"
     ]
    },
    {
     "name": "stdout",
     "output_type": "stream",
     "text": [
      "{'loss': 11.3841, 'grad_norm': 3.8306822776794434, 'learning_rate': 0.0001913545457642601, 'epoch': 20.0}\n"
     ]
    },
    {
     "name": "stderr",
     "output_type": "stream",
     "text": [
      " 14%|█▍        | 42/300 [2:27:17<14:12:54, 198.35s/it]c:\\ProgramData\\Anaconda3\\envs\\env_mark2\\Lib\\site-packages\\peft\\utils\\save_and_load.py:230: UserWarning: Setting `save_embedding_layers` to `True` as embedding layers found in `target_modules`.\n",
      "  warnings.warn(\"Setting `save_embedding_layers` to `True` as embedding layers found in `target_modules`.\")\n",
      " 15%|█▍        | 44/300 [2:34:09<13:36:26, 191.35s/it]c:\\ProgramData\\Anaconda3\\envs\\env_mark2\\Lib\\site-packages\\peft\\utils\\save_and_load.py:230: UserWarning: Setting `save_embedding_layers` to `True` as embedding layers found in `target_modules`.\n",
      "  warnings.warn(\"Setting `save_embedding_layers` to `True` as embedding layers found in `target_modules`.\")\n",
      " 15%|█▌        | 46/300 [2:41:40<13:54:16, 197.07s/it]c:\\ProgramData\\Anaconda3\\envs\\env_mark2\\Lib\\site-packages\\peft\\utils\\save_and_load.py:230: UserWarning: Setting `save_embedding_layers` to `True` as embedding layers found in `target_modules`.\n",
      "  warnings.warn(\"Setting `save_embedding_layers` to `True` as embedding layers found in `target_modules`.\")\n",
      " 16%|█▌        | 48/300 [2:48:01<12:45:49, 182.34s/it]c:\\ProgramData\\Anaconda3\\envs\\env_mark2\\Lib\\site-packages\\peft\\utils\\save_and_load.py:230: UserWarning: Setting `save_embedding_layers` to `True` as embedding layers found in `target_modules`.\n",
      "  warnings.warn(\"Setting `save_embedding_layers` to `True` as embedding layers found in `target_modules`.\")\n",
      " 17%|█▋        | 50/300 [2:55:07<12:55:13, 186.06s/it]c:\\ProgramData\\Anaconda3\\envs\\env_mark2\\Lib\\site-packages\\peft\\utils\\save_and_load.py:230: UserWarning: Setting `save_embedding_layers` to `True` as embedding layers found in `target_modules`.\n",
      "  warnings.warn(\"Setting `save_embedding_layers` to `True` as embedding layers found in `target_modules`.\")\n"
     ]
    },
    {
     "name": "stdout",
     "output_type": "stream",
     "text": [
      "{'loss': 9.4934, 'grad_norm': 3.815941572189331, 'learning_rate': 0.00018660254037844388, 'epoch': 25.0}\n"
     ]
    },
    {
     "name": "stderr",
     "output_type": "stream",
     "text": [
      " 17%|█▋        | 52/300 [3:01:41<12:35:32, 182.79s/it]c:\\ProgramData\\Anaconda3\\envs\\env_mark2\\Lib\\site-packages\\peft\\utils\\save_and_load.py:230: UserWarning: Setting `save_embedding_layers` to `True` as embedding layers found in `target_modules`.\n",
      "  warnings.warn(\"Setting `save_embedding_layers` to `True` as embedding layers found in `target_modules`.\")\n",
      " 18%|█▊        | 54/300 [3:08:52<12:49:46, 187.75s/it]c:\\ProgramData\\Anaconda3\\envs\\env_mark2\\Lib\\site-packages\\peft\\utils\\save_and_load.py:230: UserWarning: Setting `save_embedding_layers` to `True` as embedding layers found in `target_modules`.\n",
      "  warnings.warn(\"Setting `save_embedding_layers` to `True` as embedding layers found in `target_modules`.\")\n",
      " 19%|█▊        | 56/300 [3:16:06<12:58:00, 191.31s/it]c:\\ProgramData\\Anaconda3\\envs\\env_mark2\\Lib\\site-packages\\peft\\utils\\save_and_load.py:230: UserWarning: Setting `save_embedding_layers` to `True` as embedding layers found in `target_modules`.\n",
      "  warnings.warn(\"Setting `save_embedding_layers` to `True` as embedding layers found in `target_modules`.\")\n",
      " 19%|█▉        | 58/300 [3:22:40<12:16:14, 182.54s/it]c:\\ProgramData\\Anaconda3\\envs\\env_mark2\\Lib\\site-packages\\peft\\utils\\save_and_load.py:230: UserWarning: Setting `save_embedding_layers` to `True` as embedding layers found in `target_modules`.\n",
      "  warnings.warn(\"Setting `save_embedding_layers` to `True` as embedding layers found in `target_modules`.\")\n",
      " 20%|██        | 60/300 [3:29:23<12:15:13, 183.81s/it]c:\\ProgramData\\Anaconda3\\envs\\env_mark2\\Lib\\site-packages\\peft\\utils\\save_and_load.py:230: UserWarning: Setting `save_embedding_layers` to `True` as embedding layers found in `target_modules`.\n",
      "  warnings.warn(\"Setting `save_embedding_layers` to `True` as embedding layers found in `target_modules`.\")\n"
     ]
    },
    {
     "name": "stdout",
     "output_type": "stream",
     "text": [
      "{'loss': 7.9073, 'grad_norm': 5.515296936035156, 'learning_rate': 0.00018090169943749476, 'epoch': 30.0}\n"
     ]
    },
    {
     "name": "stderr",
     "output_type": "stream",
     "text": [
      " 21%|██        | 62/300 [3:35:59<11:57:56, 181.00s/it]c:\\ProgramData\\Anaconda3\\envs\\env_mark2\\Lib\\site-packages\\peft\\utils\\save_and_load.py:230: UserWarning: Setting `save_embedding_layers` to `True` as embedding layers found in `target_modules`.\n",
      "  warnings.warn(\"Setting `save_embedding_layers` to `True` as embedding layers found in `target_modules`.\")\n",
      " 21%|██▏       | 64/300 [3:42:17<11:33:32, 176.32s/it]c:\\ProgramData\\Anaconda3\\envs\\env_mark2\\Lib\\site-packages\\peft\\utils\\save_and_load.py:230: UserWarning: Setting `save_embedding_layers` to `True` as embedding layers found in `target_modules`.\n",
      "  warnings.warn(\"Setting `save_embedding_layers` to `True` as embedding layers found in `target_modules`.\")\n",
      " 22%|██▏       | 66/300 [3:49:39<12:03:08, 185.42s/it]c:\\ProgramData\\Anaconda3\\envs\\env_mark2\\Lib\\site-packages\\peft\\utils\\save_and_load.py:230: UserWarning: Setting `save_embedding_layers` to `True` as embedding layers found in `target_modules`.\n",
      "  warnings.warn(\"Setting `save_embedding_layers` to `True` as embedding layers found in `target_modules`.\")\n",
      " 23%|██▎       | 68/300 [3:56:57<12:19:16, 191.19s/it]c:\\ProgramData\\Anaconda3\\envs\\env_mark2\\Lib\\site-packages\\peft\\utils\\save_and_load.py:230: UserWarning: Setting `save_embedding_layers` to `True` as embedding layers found in `target_modules`.\n",
      "  warnings.warn(\"Setting `save_embedding_layers` to `True` as embedding layers found in `target_modules`.\")\n",
      " 23%|██▎       | 70/300 [4:03:56<12:07:53, 189.89s/it]c:\\ProgramData\\Anaconda3\\envs\\env_mark2\\Lib\\site-packages\\peft\\utils\\save_and_load.py:230: UserWarning: Setting `save_embedding_layers` to `True` as embedding layers found in `target_modules`.\n",
      "  warnings.warn(\"Setting `save_embedding_layers` to `True` as embedding layers found in `target_modules`.\")\n"
     ]
    },
    {
     "name": "stdout",
     "output_type": "stream",
     "text": [
      "{'loss': 6.5738, 'grad_norm': 4.281012535095215, 'learning_rate': 0.00017431448254773944, 'epoch': 35.0}\n"
     ]
    },
    {
     "name": "stderr",
     "output_type": "stream",
     "text": [
      " 24%|██▍       | 72/300 [4:10:41<11:46:52, 186.02s/it]c:\\ProgramData\\Anaconda3\\envs\\env_mark2\\Lib\\site-packages\\peft\\utils\\save_and_load.py:230: UserWarning: Setting `save_embedding_layers` to `True` as embedding layers found in `target_modules`.\n",
      "  warnings.warn(\"Setting `save_embedding_layers` to `True` as embedding layers found in `target_modules`.\")\n",
      " 25%|██▍       | 74/300 [4:18:10<12:03:20, 192.04s/it]c:\\ProgramData\\Anaconda3\\envs\\env_mark2\\Lib\\site-packages\\peft\\utils\\save_and_load.py:230: UserWarning: Setting `save_embedding_layers` to `True` as embedding layers found in `target_modules`.\n",
      "  warnings.warn(\"Setting `save_embedding_layers` to `True` as embedding layers found in `target_modules`.\")\n",
      " 25%|██▌       | 76/300 [4:25:13<11:54:55, 191.50s/it]c:\\ProgramData\\Anaconda3\\envs\\env_mark2\\Lib\\site-packages\\peft\\utils\\save_and_load.py:230: UserWarning: Setting `save_embedding_layers` to `True` as embedding layers found in `target_modules`.\n",
      "  warnings.warn(\"Setting `save_embedding_layers` to `True` as embedding layers found in `target_modules`.\")\n",
      " 26%|██▌       | 78/300 [4:32:16<11:43:52, 190.24s/it]c:\\ProgramData\\Anaconda3\\envs\\env_mark2\\Lib\\site-packages\\peft\\utils\\save_and_load.py:230: UserWarning: Setting `save_embedding_layers` to `True` as embedding layers found in `target_modules`.\n",
      "  warnings.warn(\"Setting `save_embedding_layers` to `True` as embedding layers found in `target_modules`.\")\n",
      " 27%|██▋       | 80/300 [4:39:04<11:24:02, 186.56s/it]c:\\ProgramData\\Anaconda3\\envs\\env_mark2\\Lib\\site-packages\\peft\\utils\\save_and_load.py:230: UserWarning: Setting `save_embedding_layers` to `True` as embedding layers found in `target_modules`.\n",
      "  warnings.warn(\"Setting `save_embedding_layers` to `True` as embedding layers found in `target_modules`.\")\n"
     ]
    },
    {
     "name": "stdout",
     "output_type": "stream",
     "text": [
      "{'loss': 5.2414, 'grad_norm': 5.9789299964904785, 'learning_rate': 0.00016691306063588583, 'epoch': 40.0}\n"
     ]
    },
    {
     "name": "stderr",
     "output_type": "stream",
     "text": [
      " 27%|██▋       | 82/300 [4:46:00<11:18:34, 186.76s/it]c:\\ProgramData\\Anaconda3\\envs\\env_mark2\\Lib\\site-packages\\peft\\utils\\save_and_load.py:230: UserWarning: Setting `save_embedding_layers` to `True` as embedding layers found in `target_modules`.\n",
      "  warnings.warn(\"Setting `save_embedding_layers` to `True` as embedding layers found in `target_modules`.\")\n",
      " 28%|██▊       | 84/300 [4:52:57<11:16:02, 187.79s/it]c:\\ProgramData\\Anaconda3\\envs\\env_mark2\\Lib\\site-packages\\peft\\utils\\save_and_load.py:230: UserWarning: Setting `save_embedding_layers` to `True` as embedding layers found in `target_modules`.\n",
      "  warnings.warn(\"Setting `save_embedding_layers` to `True` as embedding layers found in `target_modules`.\")\n",
      " 29%|██▊       | 86/300 [5:00:20<11:29:53, 193.43s/it]c:\\ProgramData\\Anaconda3\\envs\\env_mark2\\Lib\\site-packages\\peft\\utils\\save_and_load.py:230: UserWarning: Setting `save_embedding_layers` to `True` as embedding layers found in `target_modules`.\n",
      "  warnings.warn(\"Setting `save_embedding_layers` to `True` as embedding layers found in `target_modules`.\")\n",
      " 29%|██▉       | 88/300 [5:07:01<10:47:37, 183.29s/it]c:\\ProgramData\\Anaconda3\\envs\\env_mark2\\Lib\\site-packages\\peft\\utils\\save_and_load.py:230: UserWarning: Setting `save_embedding_layers` to `True` as embedding layers found in `target_modules`.\n",
      "  warnings.warn(\"Setting `save_embedding_layers` to `True` as embedding layers found in `target_modules`.\")\n",
      " 30%|███       | 90/300 [5:14:09<10:53:49, 186.81s/it]c:\\ProgramData\\Anaconda3\\envs\\env_mark2\\Lib\\site-packages\\peft\\utils\\save_and_load.py:230: UserWarning: Setting `save_embedding_layers` to `True` as embedding layers found in `target_modules`.\n",
      "  warnings.warn(\"Setting `save_embedding_layers` to `True` as embedding layers found in `target_modules`.\")\n"
     ]
    },
    {
     "name": "stdout",
     "output_type": "stream",
     "text": [
      "{'loss': 4.332, 'grad_norm': 5.6618266105651855, 'learning_rate': 0.00015877852522924732, 'epoch': 45.0}\n"
     ]
    },
    {
     "name": "stderr",
     "output_type": "stream",
     "text": [
      " 31%|███       | 92/300 [5:21:12<10:54:47, 188.88s/it]c:\\ProgramData\\Anaconda3\\envs\\env_mark2\\Lib\\site-packages\\peft\\utils\\save_and_load.py:230: UserWarning: Setting `save_embedding_layers` to `True` as embedding layers found in `target_modules`.\n",
      "  warnings.warn(\"Setting `save_embedding_layers` to `True` as embedding layers found in `target_modules`.\")\n",
      " 31%|███▏      | 94/300 [5:28:25<11:02:25, 192.94s/it]c:\\ProgramData\\Anaconda3\\envs\\env_mark2\\Lib\\site-packages\\peft\\utils\\save_and_load.py:230: UserWarning: Setting `save_embedding_layers` to `True` as embedding layers found in `target_modules`.\n",
      "  warnings.warn(\"Setting `save_embedding_layers` to `True` as embedding layers found in `target_modules`.\")\n",
      " 32%|███▏      | 96/300 [5:35:05<10:35:19, 186.86s/it]c:\\ProgramData\\Anaconda3\\envs\\env_mark2\\Lib\\site-packages\\peft\\utils\\save_and_load.py:230: UserWarning: Setting `save_embedding_layers` to `True` as embedding layers found in `target_modules`.\n",
      "  warnings.warn(\"Setting `save_embedding_layers` to `True` as embedding layers found in `target_modules`.\")\n",
      " 33%|███▎      | 98/300 [5:42:08<10:40:00, 190.10s/it]c:\\ProgramData\\Anaconda3\\envs\\env_mark2\\Lib\\site-packages\\peft\\utils\\save_and_load.py:230: UserWarning: Setting `save_embedding_layers` to `True` as embedding layers found in `target_modules`.\n",
      "  warnings.warn(\"Setting `save_embedding_layers` to `True` as embedding layers found in `target_modules`.\")\n",
      " 33%|███▎      | 100/300 [5:49:15<10:38:33, 191.57s/it]c:\\ProgramData\\Anaconda3\\envs\\env_mark2\\Lib\\site-packages\\peft\\utils\\save_and_load.py:230: UserWarning: Setting `save_embedding_layers` to `True` as embedding layers found in `target_modules`.\n",
      "  warnings.warn(\"Setting `save_embedding_layers` to `True` as embedding layers found in `target_modules`.\")\n"
     ]
    },
    {
     "name": "stdout",
     "output_type": "stream",
     "text": [
      "{'loss': 3.688, 'grad_norm': 7.096960067749023, 'learning_rate': 0.00015000000000000001, 'epoch': 50.0}\n"
     ]
    },
    {
     "name": "stderr",
     "output_type": "stream",
     "text": [
      " 34%|███▍      | 102/300 [5:56:11<10:23:54, 189.06s/it]c:\\ProgramData\\Anaconda3\\envs\\env_mark2\\Lib\\site-packages\\peft\\utils\\save_and_load.py:230: UserWarning: Setting `save_embedding_layers` to `True` as embedding layers found in `target_modules`.\n",
      "  warnings.warn(\"Setting `save_embedding_layers` to `True` as embedding layers found in `target_modules`.\")\n",
      " 35%|███▍      | 104/300 [6:03:00<10:06:50, 185.77s/it]c:\\ProgramData\\Anaconda3\\envs\\env_mark2\\Lib\\site-packages\\peft\\utils\\save_and_load.py:230: UserWarning: Setting `save_embedding_layers` to `True` as embedding layers found in `target_modules`.\n",
      "  warnings.warn(\"Setting `save_embedding_layers` to `True` as embedding layers found in `target_modules`.\")\n",
      " 35%|███▌      | 106/300 [6:10:38<10:29:54, 194.82s/it]c:\\ProgramData\\Anaconda3\\envs\\env_mark2\\Lib\\site-packages\\peft\\utils\\save_and_load.py:230: UserWarning: Setting `save_embedding_layers` to `True` as embedding layers found in `target_modules`.\n",
      "  warnings.warn(\"Setting `save_embedding_layers` to `True` as embedding layers found in `target_modules`.\")\n",
      " 36%|███▌      | 108/300 [6:17:40<10:11:59, 191.25s/it]c:\\ProgramData\\Anaconda3\\envs\\env_mark2\\Lib\\site-packages\\peft\\utils\\save_and_load.py:230: UserWarning: Setting `save_embedding_layers` to `True` as embedding layers found in `target_modules`.\n",
      "  warnings.warn(\"Setting `save_embedding_layers` to `True` as embedding layers found in `target_modules`.\")\n",
      " 37%|███▋      | 110/300 [6:24:45<10:04:15, 190.82s/it]c:\\ProgramData\\Anaconda3\\envs\\env_mark2\\Lib\\site-packages\\peft\\utils\\save_and_load.py:230: UserWarning: Setting `save_embedding_layers` to `True` as embedding layers found in `target_modules`.\n",
      "  warnings.warn(\"Setting `save_embedding_layers` to `True` as embedding layers found in `target_modules`.\")\n"
     ]
    },
    {
     "name": "stdout",
     "output_type": "stream",
     "text": [
      "{'loss': 3.1189, 'grad_norm': 6.010748863220215, 'learning_rate': 0.00014067366430758004, 'epoch': 55.0}\n"
     ]
    },
    {
     "name": "stderr",
     "output_type": "stream",
     "text": [
      " 37%|███▋      | 112/300 [6:31:52<9:59:46, 191.42s/it] c:\\ProgramData\\Anaconda3\\envs\\env_mark2\\Lib\\site-packages\\peft\\utils\\save_and_load.py:230: UserWarning: Setting `save_embedding_layers` to `True` as embedding layers found in `target_modules`.\n",
      "  warnings.warn(\"Setting `save_embedding_layers` to `True` as embedding layers found in `target_modules`.\")\n",
      " 38%|███▊      | 114/300 [6:38:14<9:20:40, 180.86s/it] c:\\ProgramData\\Anaconda3\\envs\\env_mark2\\Lib\\site-packages\\peft\\utils\\save_and_load.py:230: UserWarning: Setting `save_embedding_layers` to `True` as embedding layers found in `target_modules`.\n",
      "  warnings.warn(\"Setting `save_embedding_layers` to `True` as embedding layers found in `target_modules`.\")\n",
      " 39%|███▊      | 116/300 [6:45:41<9:46:36, 191.29s/it] c:\\ProgramData\\Anaconda3\\envs\\env_mark2\\Lib\\site-packages\\peft\\utils\\save_and_load.py:230: UserWarning: Setting `save_embedding_layers` to `True` as embedding layers found in `target_modules`.\n",
      "  warnings.warn(\"Setting `save_embedding_layers` to `True` as embedding layers found in `target_modules`.\")\n",
      " 39%|███▉      | 118/300 [6:52:24<9:24:08, 185.98s/it] c:\\ProgramData\\Anaconda3\\envs\\env_mark2\\Lib\\site-packages\\peft\\utils\\save_and_load.py:230: UserWarning: Setting `save_embedding_layers` to `True` as embedding layers found in `target_modules`.\n",
      "  warnings.warn(\"Setting `save_embedding_layers` to `True` as embedding layers found in `target_modules`.\")\n",
      " 40%|████      | 120/300 [6:59:35<9:24:44, 188.25s/it] c:\\ProgramData\\Anaconda3\\envs\\env_mark2\\Lib\\site-packages\\peft\\utils\\save_and_load.py:230: UserWarning: Setting `save_embedding_layers` to `True` as embedding layers found in `target_modules`.\n",
      "  warnings.warn(\"Setting `save_embedding_layers` to `True` as embedding layers found in `target_modules`.\")\n"
     ]
    },
    {
     "name": "stdout",
     "output_type": "stream",
     "text": [
      "{'loss': 2.6091, 'grad_norm': 5.626856327056885, 'learning_rate': 0.00013090169943749476, 'epoch': 60.0}\n"
     ]
    },
    {
     "name": "stderr",
     "output_type": "stream",
     "text": [
      " 41%|████      | 122/300 [7:07:17<9:46:52, 197.82s/it] c:\\ProgramData\\Anaconda3\\envs\\env_mark2\\Lib\\site-packages\\peft\\utils\\save_and_load.py:230: UserWarning: Setting `save_embedding_layers` to `True` as embedding layers found in `target_modules`.\n",
      "  warnings.warn(\"Setting `save_embedding_layers` to `True` as embedding layers found in `target_modules`.\")\n",
      " 41%|████▏     | 124/300 [7:14:52<9:50:36, 201.34s/it] c:\\ProgramData\\Anaconda3\\envs\\env_mark2\\Lib\\site-packages\\peft\\utils\\save_and_load.py:230: UserWarning: Setting `save_embedding_layers` to `True` as embedding layers found in `target_modules`.\n",
      "  warnings.warn(\"Setting `save_embedding_layers` to `True` as embedding layers found in `target_modules`.\")\n",
      " 42%|████▏     | 126/300 [7:22:02<9:31:07, 196.94s/it] c:\\ProgramData\\Anaconda3\\envs\\env_mark2\\Lib\\site-packages\\peft\\utils\\save_and_load.py:230: UserWarning: Setting `save_embedding_layers` to `True` as embedding layers found in `target_modules`.\n",
      "  warnings.warn(\"Setting `save_embedding_layers` to `True` as embedding layers found in `target_modules`.\")\n",
      " 43%|████▎     | 128/300 [7:29:02<9:13:49, 193.19s/it] c:\\ProgramData\\Anaconda3\\envs\\env_mark2\\Lib\\site-packages\\peft\\utils\\save_and_load.py:230: UserWarning: Setting `save_embedding_layers` to `True` as embedding layers found in `target_modules`.\n",
      "  warnings.warn(\"Setting `save_embedding_layers` to `True` as embedding layers found in `target_modules`.\")\n",
      " 43%|████▎     | 130/300 [7:36:20<9:14:40, 195.77s/it] c:\\ProgramData\\Anaconda3\\envs\\env_mark2\\Lib\\site-packages\\peft\\utils\\save_and_load.py:230: UserWarning: Setting `save_embedding_layers` to `True` as embedding layers found in `target_modules`.\n",
      "  warnings.warn(\"Setting `save_embedding_layers` to `True` as embedding layers found in `target_modules`.\")\n"
     ]
    },
    {
     "name": "stdout",
     "output_type": "stream",
     "text": [
      "{'loss': 2.1953, 'grad_norm': 6.859731674194336, 'learning_rate': 0.00012079116908177593, 'epoch': 65.0}\n"
     ]
    },
    {
     "name": "stderr",
     "output_type": "stream",
     "text": [
      " 44%|████▍     | 132/300 [7:43:34<9:05:41, 194.89s/it] c:\\ProgramData\\Anaconda3\\envs\\env_mark2\\Lib\\site-packages\\peft\\utils\\save_and_load.py:230: UserWarning: Setting `save_embedding_layers` to `True` as embedding layers found in `target_modules`.\n",
      "  warnings.warn(\"Setting `save_embedding_layers` to `True` as embedding layers found in `target_modules`.\")\n",
      " 45%|████▍     | 134/300 [7:51:20<9:18:50, 201.99s/it] c:\\ProgramData\\Anaconda3\\envs\\env_mark2\\Lib\\site-packages\\peft\\utils\\save_and_load.py:230: UserWarning: Setting `save_embedding_layers` to `True` as embedding layers found in `target_modules`.\n",
      "  warnings.warn(\"Setting `save_embedding_layers` to `True` as embedding layers found in `target_modules`.\")\n",
      " 45%|████▌     | 136/300 [7:58:23<8:56:37, 196.33s/it] c:\\ProgramData\\Anaconda3\\envs\\env_mark2\\Lib\\site-packages\\peft\\utils\\save_and_load.py:230: UserWarning: Setting `save_embedding_layers` to `True` as embedding layers found in `target_modules`.\n",
      "  warnings.warn(\"Setting `save_embedding_layers` to `True` as embedding layers found in `target_modules`.\")\n",
      " 46%|████▌     | 138/300 [8:05:15<8:37:37, 191.71s/it] c:\\ProgramData\\Anaconda3\\envs\\env_mark2\\Lib\\site-packages\\peft\\utils\\save_and_load.py:230: UserWarning: Setting `save_embedding_layers` to `True` as embedding layers found in `target_modules`.\n",
      "  warnings.warn(\"Setting `save_embedding_layers` to `True` as embedding layers found in `target_modules`.\")\n",
      " 47%|████▋     | 140/300 [8:12:04<8:20:41, 187.76s/it] c:\\ProgramData\\Anaconda3\\envs\\env_mark2\\Lib\\site-packages\\peft\\utils\\save_and_load.py:230: UserWarning: Setting `save_embedding_layers` to `True` as embedding layers found in `target_modules`.\n",
      "  warnings.warn(\"Setting `save_embedding_layers` to `True` as embedding layers found in `target_modules`.\")\n"
     ]
    },
    {
     "name": "stdout",
     "output_type": "stream",
     "text": [
      "{'loss': 1.8227, 'grad_norm': 6.231405258178711, 'learning_rate': 0.00011045284632676536, 'epoch': 70.0}\n"
     ]
    },
    {
     "name": "stderr",
     "output_type": "stream",
     "text": [
      " 47%|████▋     | 142/300 [8:19:10<8:22:10, 190.70s/it] c:\\ProgramData\\Anaconda3\\envs\\env_mark2\\Lib\\site-packages\\peft\\utils\\save_and_load.py:230: UserWarning: Setting `save_embedding_layers` to `True` as embedding layers found in `target_modules`.\n",
      "  warnings.warn(\"Setting `save_embedding_layers` to `True` as embedding layers found in `target_modules`.\")\n",
      " 48%|████▊     | 144/300 [8:26:53<8:33:43, 197.59s/it] c:\\ProgramData\\Anaconda3\\envs\\env_mark2\\Lib\\site-packages\\peft\\utils\\save_and_load.py:230: UserWarning: Setting `save_embedding_layers` to `True` as embedding layers found in `target_modules`.\n",
      "  warnings.warn(\"Setting `save_embedding_layers` to `True` as embedding layers found in `target_modules`.\")\n",
      " 49%|████▊     | 146/300 [8:33:46<8:10:31, 191.11s/it] c:\\ProgramData\\Anaconda3\\envs\\env_mark2\\Lib\\site-packages\\peft\\utils\\save_and_load.py:230: UserWarning: Setting `save_embedding_layers` to `True` as embedding layers found in `target_modules`.\n",
      "  warnings.warn(\"Setting `save_embedding_layers` to `True` as embedding layers found in `target_modules`.\")\n",
      " 49%|████▉     | 148/300 [8:41:55<8:40:18, 205.38s/it] c:\\ProgramData\\Anaconda3\\envs\\env_mark2\\Lib\\site-packages\\peft\\utils\\save_and_load.py:230: UserWarning: Setting `save_embedding_layers` to `True` as embedding layers found in `target_modules`.\n",
      "  warnings.warn(\"Setting `save_embedding_layers` to `True` as embedding layers found in `target_modules`.\")\n",
      " 50%|█████     | 150/300 [8:49:12<8:26:00, 202.40s/it] c:\\ProgramData\\Anaconda3\\envs\\env_mark2\\Lib\\site-packages\\peft\\utils\\save_and_load.py:230: UserWarning: Setting `save_embedding_layers` to `True` as embedding layers found in `target_modules`.\n",
      "  warnings.warn(\"Setting `save_embedding_layers` to `True` as embedding layers found in `target_modules`.\")\n"
     ]
    },
    {
     "name": "stdout",
     "output_type": "stream",
     "text": [
      "{'loss': 1.5237, 'grad_norm': 5.587397575378418, 'learning_rate': 0.0001, 'epoch': 75.0}\n"
     ]
    },
    {
     "name": "stderr",
     "output_type": "stream",
     "text": [
      " 51%|█████     | 152/300 [8:56:43<8:18:34, 202.13s/it] c:\\ProgramData\\Anaconda3\\envs\\env_mark2\\Lib\\site-packages\\peft\\utils\\save_and_load.py:230: UserWarning: Setting `save_embedding_layers` to `True` as embedding layers found in `target_modules`.\n",
      "  warnings.warn(\"Setting `save_embedding_layers` to `True` as embedding layers found in `target_modules`.\")\n",
      " 51%|█████▏    | 154/300 [9:03:37<7:46:59, 191.92s/it] c:\\ProgramData\\Anaconda3\\envs\\env_mark2\\Lib\\site-packages\\peft\\utils\\save_and_load.py:230: UserWarning: Setting `save_embedding_layers` to `True` as embedding layers found in `target_modules`.\n",
      "  warnings.warn(\"Setting `save_embedding_layers` to `True` as embedding layers found in `target_modules`.\")\n",
      " 52%|█████▏    | 156/300 [9:10:11<7:21:28, 183.95s/it]c:\\ProgramData\\Anaconda3\\envs\\env_mark2\\Lib\\site-packages\\peft\\utils\\save_and_load.py:230: UserWarning: Setting `save_embedding_layers` to `True` as embedding layers found in `target_modules`.\n",
      "  warnings.warn(\"Setting `save_embedding_layers` to `True` as embedding layers found in `target_modules`.\")\n",
      " 53%|█████▎    | 158/300 [9:18:15<7:53:47, 200.19s/it]c:\\ProgramData\\Anaconda3\\envs\\env_mark2\\Lib\\site-packages\\peft\\utils\\save_and_load.py:230: UserWarning: Setting `save_embedding_layers` to `True` as embedding layers found in `target_modules`.\n",
      "  warnings.warn(\"Setting `save_embedding_layers` to `True` as embedding layers found in `target_modules`.\")\n",
      " 53%|█████▎    | 160/300 [9:24:48<7:19:20, 188.29s/it]c:\\ProgramData\\Anaconda3\\envs\\env_mark2\\Lib\\site-packages\\peft\\utils\\save_and_load.py:230: UserWarning: Setting `save_embedding_layers` to `True` as embedding layers found in `target_modules`.\n",
      "  warnings.warn(\"Setting `save_embedding_layers` to `True` as embedding layers found in `target_modules`.\")\n"
     ]
    },
    {
     "name": "stdout",
     "output_type": "stream",
     "text": [
      "{'loss': 1.2991, 'grad_norm': 6.430514335632324, 'learning_rate': 8.954715367323468e-05, 'epoch': 80.0}\n"
     ]
    },
    {
     "name": "stderr",
     "output_type": "stream",
     "text": [
      " 54%|█████▍    | 162/300 [9:32:11<7:27:29, 194.56s/it]c:\\ProgramData\\Anaconda3\\envs\\env_mark2\\Lib\\site-packages\\peft\\utils\\save_and_load.py:230: UserWarning: Setting `save_embedding_layers` to `True` as embedding layers found in `target_modules`.\n",
      "  warnings.warn(\"Setting `save_embedding_layers` to `True` as embedding layers found in `target_modules`.\")\n",
      " 55%|█████▍    | 164/300 [9:38:45<7:01:43, 186.05s/it]c:\\ProgramData\\Anaconda3\\envs\\env_mark2\\Lib\\site-packages\\peft\\utils\\save_and_load.py:230: UserWarning: Setting `save_embedding_layers` to `True` as embedding layers found in `target_modules`.\n",
      "  warnings.warn(\"Setting `save_embedding_layers` to `True` as embedding layers found in `target_modules`.\")\n",
      " 55%|█████▌    | 166/300 [9:45:38<6:58:20, 187.32s/it]c:\\ProgramData\\Anaconda3\\envs\\env_mark2\\Lib\\site-packages\\peft\\utils\\save_and_load.py:230: UserWarning: Setting `save_embedding_layers` to `True` as embedding layers found in `target_modules`.\n",
      "  warnings.warn(\"Setting `save_embedding_layers` to `True` as embedding layers found in `target_modules`.\")\n",
      " 56%|█████▌    | 168/300 [9:52:43<6:51:17, 186.95s/it]c:\\ProgramData\\Anaconda3\\envs\\env_mark2\\Lib\\site-packages\\peft\\utils\\save_and_load.py:230: UserWarning: Setting `save_embedding_layers` to `True` as embedding layers found in `target_modules`.\n",
      "  warnings.warn(\"Setting `save_embedding_layers` to `True` as embedding layers found in `target_modules`.\")\n",
      " 57%|█████▋    | 170/300 [10:00:02<6:58:19, 193.07s/it]c:\\ProgramData\\Anaconda3\\envs\\env_mark2\\Lib\\site-packages\\peft\\utils\\save_and_load.py:230: UserWarning: Setting `save_embedding_layers` to `True` as embedding layers found in `target_modules`.\n",
      "  warnings.warn(\"Setting `save_embedding_layers` to `True` as embedding layers found in `target_modules`.\")\n"
     ]
    },
    {
     "name": "stdout",
     "output_type": "stream",
     "text": [
      "{'loss': 1.1344, 'grad_norm': 6.370896816253662, 'learning_rate': 7.920883091822408e-05, 'epoch': 85.0}\n"
     ]
    },
    {
     "name": "stderr",
     "output_type": "stream",
     "text": [
      " 57%|█████▋    | 172/300 [10:07:37<7:02:58, 198.27s/it]c:\\ProgramData\\Anaconda3\\envs\\env_mark2\\Lib\\site-packages\\peft\\utils\\save_and_load.py:230: UserWarning: Setting `save_embedding_layers` to `True` as embedding layers found in `target_modules`.\n",
      "  warnings.warn(\"Setting `save_embedding_layers` to `True` as embedding layers found in `target_modules`.\")\n",
      " 58%|█████▊    | 174/300 [10:14:11<6:28:32, 185.02s/it]c:\\ProgramData\\Anaconda3\\envs\\env_mark2\\Lib\\site-packages\\peft\\utils\\save_and_load.py:230: UserWarning: Setting `save_embedding_layers` to `True` as embedding layers found in `target_modules`.\n",
      "  warnings.warn(\"Setting `save_embedding_layers` to `True` as embedding layers found in `target_modules`.\")\n",
      " 59%|█████▊    | 176/300 [10:21:20<6:26:25, 186.98s/it]c:\\ProgramData\\Anaconda3\\envs\\env_mark2\\Lib\\site-packages\\peft\\utils\\save_and_load.py:230: UserWarning: Setting `save_embedding_layers` to `True` as embedding layers found in `target_modules`.\n",
      "  warnings.warn(\"Setting `save_embedding_layers` to `True` as embedding layers found in `target_modules`.\")\n",
      " 59%|█████▉    | 178/300 [10:28:41<6:26:50, 190.25s/it]c:\\ProgramData\\Anaconda3\\envs\\env_mark2\\Lib\\site-packages\\peft\\utils\\save_and_load.py:230: UserWarning: Setting `save_embedding_layers` to `True` as embedding layers found in `target_modules`.\n",
      "  warnings.warn(\"Setting `save_embedding_layers` to `True` as embedding layers found in `target_modules`.\")\n",
      " 60%|██████    | 180/300 [10:35:13<6:04:41, 182.35s/it]c:\\ProgramData\\Anaconda3\\envs\\env_mark2\\Lib\\site-packages\\peft\\utils\\save_and_load.py:230: UserWarning: Setting `save_embedding_layers` to `True` as embedding layers found in `target_modules`.\n",
      "  warnings.warn(\"Setting `save_embedding_layers` to `True` as embedding layers found in `target_modules`.\")\n"
     ]
    },
    {
     "name": "stdout",
     "output_type": "stream",
     "text": [
      "{'loss': 1.0037, 'grad_norm': 5.768457889556885, 'learning_rate': 6.909830056250527e-05, 'epoch': 90.0}\n"
     ]
    },
    {
     "name": "stderr",
     "output_type": "stream",
     "text": [
      " 61%|██████    | 182/300 [10:42:23<6:11:52, 189.09s/it]c:\\ProgramData\\Anaconda3\\envs\\env_mark2\\Lib\\site-packages\\peft\\utils\\save_and_load.py:230: UserWarning: Setting `save_embedding_layers` to `True` as embedding layers found in `target_modules`.\n",
      "  warnings.warn(\"Setting `save_embedding_layers` to `True` as embedding layers found in `target_modules`.\")\n",
      " 61%|██████▏   | 184/300 [10:49:47<6:17:56, 195.48s/it]c:\\ProgramData\\Anaconda3\\envs\\env_mark2\\Lib\\site-packages\\peft\\utils\\save_and_load.py:230: UserWarning: Setting `save_embedding_layers` to `True` as embedding layers found in `target_modules`.\n",
      "  warnings.warn(\"Setting `save_embedding_layers` to `True` as embedding layers found in `target_modules`.\")\n",
      " 62%|██████▏   | 186/300 [10:56:32<5:54:52, 186.78s/it]c:\\ProgramData\\Anaconda3\\envs\\env_mark2\\Lib\\site-packages\\peft\\utils\\save_and_load.py:230: UserWarning: Setting `save_embedding_layers` to `True` as embedding layers found in `target_modules`.\n",
      "  warnings.warn(\"Setting `save_embedding_layers` to `True` as embedding layers found in `target_modules`.\")\n",
      " 63%|██████▎   | 188/300 [11:04:08<6:07:41, 196.98s/it]c:\\ProgramData\\Anaconda3\\envs\\env_mark2\\Lib\\site-packages\\peft\\utils\\save_and_load.py:230: UserWarning: Setting `save_embedding_layers` to `True` as embedding layers found in `target_modules`.\n",
      "  warnings.warn(\"Setting `save_embedding_layers` to `True` as embedding layers found in `target_modules`.\")\n",
      " 63%|██████▎   | 190/300 [11:11:52<6:12:45, 203.32s/it]c:\\ProgramData\\Anaconda3\\envs\\env_mark2\\Lib\\site-packages\\peft\\utils\\save_and_load.py:230: UserWarning: Setting `save_embedding_layers` to `True` as embedding layers found in `target_modules`.\n",
      "  warnings.warn(\"Setting `save_embedding_layers` to `True` as embedding layers found in `target_modules`.\")\n"
     ]
    },
    {
     "name": "stdout",
     "output_type": "stream",
     "text": [
      "{'loss': 0.9137, 'grad_norm': 6.007272243499756, 'learning_rate': 5.932633569241999e-05, 'epoch': 95.0}\n"
     ]
    },
    {
     "name": "stderr",
     "output_type": "stream",
     "text": [
      " 64%|██████▍   | 192/300 [11:19:02<5:56:19, 197.96s/it]c:\\ProgramData\\Anaconda3\\envs\\env_mark2\\Lib\\site-packages\\peft\\utils\\save_and_load.py:230: UserWarning: Setting `save_embedding_layers` to `True` as embedding layers found in `target_modules`.\n",
      "  warnings.warn(\"Setting `save_embedding_layers` to `True` as embedding layers found in `target_modules`.\")\n",
      " 65%|██████▍   | 194/300 [11:25:46<5:35:07, 189.69s/it]c:\\ProgramData\\Anaconda3\\envs\\env_mark2\\Lib\\site-packages\\peft\\utils\\save_and_load.py:230: UserWarning: Setting `save_embedding_layers` to `True` as embedding layers found in `target_modules`.\n",
      "  warnings.warn(\"Setting `save_embedding_layers` to `True` as embedding layers found in `target_modules`.\")\n",
      " 65%|██████▌   | 196/300 [11:32:40<5:21:37, 185.55s/it]c:\\ProgramData\\Anaconda3\\envs\\env_mark2\\Lib\\site-packages\\peft\\utils\\save_and_load.py:230: UserWarning: Setting `save_embedding_layers` to `True` as embedding layers found in `target_modules`.\n",
      "  warnings.warn(\"Setting `save_embedding_layers` to `True` as embedding layers found in `target_modules`.\")\n",
      " 66%|██████▌   | 198/300 [11:39:34<5:12:54, 184.07s/it]c:\\ProgramData\\Anaconda3\\envs\\env_mark2\\Lib\\site-packages\\peft\\utils\\save_and_load.py:230: UserWarning: Setting `save_embedding_layers` to `True` as embedding layers found in `target_modules`.\n",
      "  warnings.warn(\"Setting `save_embedding_layers` to `True` as embedding layers found in `target_modules`.\")\n",
      " 67%|██████▋   | 200/300 [11:47:11<5:20:15, 192.15s/it]c:\\ProgramData\\Anaconda3\\envs\\env_mark2\\Lib\\site-packages\\peft\\utils\\save_and_load.py:230: UserWarning: Setting `save_embedding_layers` to `True` as embedding layers found in `target_modules`.\n",
      "  warnings.warn(\"Setting `save_embedding_layers` to `True` as embedding layers found in `target_modules`.\")\n"
     ]
    },
    {
     "name": "stdout",
     "output_type": "stream",
     "text": [
      "{'loss': 0.8484, 'grad_norm': 6.069665431976318, 'learning_rate': 5.000000000000002e-05, 'epoch': 100.0}\n"
     ]
    },
    {
     "name": "stderr",
     "output_type": "stream",
     "text": [
      " 67%|██████▋   | 202/300 [11:54:13<5:14:23, 192.48s/it]c:\\ProgramData\\Anaconda3\\envs\\env_mark2\\Lib\\site-packages\\peft\\utils\\save_and_load.py:230: UserWarning: Setting `save_embedding_layers` to `True` as embedding layers found in `target_modules`.\n",
      "  warnings.warn(\"Setting `save_embedding_layers` to `True` as embedding layers found in `target_modules`.\")\n",
      " 68%|██████▊   | 204/300 [12:01:53<5:18:46, 199.24s/it]c:\\ProgramData\\Anaconda3\\envs\\env_mark2\\Lib\\site-packages\\peft\\utils\\save_and_load.py:230: UserWarning: Setting `save_embedding_layers` to `True` as embedding layers found in `target_modules`.\n",
      "  warnings.warn(\"Setting `save_embedding_layers` to `True` as embedding layers found in `target_modules`.\")\n",
      " 69%|██████▊   | 206/300 [12:09:04<5:08:10, 196.71s/it]c:\\ProgramData\\Anaconda3\\envs\\env_mark2\\Lib\\site-packages\\peft\\utils\\save_and_load.py:230: UserWarning: Setting `save_embedding_layers` to `True` as embedding layers found in `target_modules`.\n",
      "  warnings.warn(\"Setting `save_embedding_layers` to `True` as embedding layers found in `target_modules`.\")\n",
      " 69%|██████▉   | 208/300 [12:15:55<4:52:02, 190.46s/it]c:\\ProgramData\\Anaconda3\\envs\\env_mark2\\Lib\\site-packages\\peft\\utils\\save_and_load.py:230: UserWarning: Setting `save_embedding_layers` to `True` as embedding layers found in `target_modules`.\n",
      "  warnings.warn(\"Setting `save_embedding_layers` to `True` as embedding layers found in `target_modules`.\")\n",
      " 70%|███████   | 210/300 [12:22:45<4:41:44, 187.83s/it]c:\\ProgramData\\Anaconda3\\envs\\env_mark2\\Lib\\site-packages\\peft\\utils\\save_and_load.py:230: UserWarning: Setting `save_embedding_layers` to `True` as embedding layers found in `target_modules`.\n",
      "  warnings.warn(\"Setting `save_embedding_layers` to `True` as embedding layers found in `target_modules`.\")\n"
     ]
    },
    {
     "name": "stdout",
     "output_type": "stream",
     "text": [
      "{'loss': 0.8029, 'grad_norm': 4.618069171905518, 'learning_rate': 4.12214747707527e-05, 'epoch': 105.0}\n"
     ]
    },
    {
     "name": "stderr",
     "output_type": "stream",
     "text": [
      " 71%|███████   | 212/300 [12:29:25<4:32:07, 185.54s/it]c:\\ProgramData\\Anaconda3\\envs\\env_mark2\\Lib\\site-packages\\peft\\utils\\save_and_load.py:230: UserWarning: Setting `save_embedding_layers` to `True` as embedding layers found in `target_modules`.\n",
      "  warnings.warn(\"Setting `save_embedding_layers` to `True` as embedding layers found in `target_modules`.\")\n",
      " 71%|███████▏  | 214/300 [12:37:19<4:44:11, 198.28s/it]c:\\ProgramData\\Anaconda3\\envs\\env_mark2\\Lib\\site-packages\\peft\\utils\\save_and_load.py:230: UserWarning: Setting `save_embedding_layers` to `True` as embedding layers found in `target_modules`.\n",
      "  warnings.warn(\"Setting `save_embedding_layers` to `True` as embedding layers found in `target_modules`.\")\n",
      " 72%|███████▏  | 216/300 [12:45:22<4:49:18, 206.65s/it]c:\\ProgramData\\Anaconda3\\envs\\env_mark2\\Lib\\site-packages\\peft\\utils\\save_and_load.py:230: UserWarning: Setting `save_embedding_layers` to `True` as embedding layers found in `target_modules`.\n",
      "  warnings.warn(\"Setting `save_embedding_layers` to `True` as embedding layers found in `target_modules`.\")\n",
      " 73%|███████▎  | 218/300 [12:53:16<4:48:33, 211.14s/it]c:\\ProgramData\\Anaconda3\\envs\\env_mark2\\Lib\\site-packages\\peft\\utils\\save_and_load.py:230: UserWarning: Setting `save_embedding_layers` to `True` as embedding layers found in `target_modules`.\n",
      "  warnings.warn(\"Setting `save_embedding_layers` to `True` as embedding layers found in `target_modules`.\")\n",
      " 73%|███████▎  | 220/300 [13:00:58<4:37:38, 208.23s/it]c:\\ProgramData\\Anaconda3\\envs\\env_mark2\\Lib\\site-packages\\peft\\utils\\save_and_load.py:230: UserWarning: Setting `save_embedding_layers` to `True` as embedding layers found in `target_modules`.\n",
      "  warnings.warn(\"Setting `save_embedding_layers` to `True` as embedding layers found in `target_modules`.\")\n"
     ]
    },
    {
     "name": "stdout",
     "output_type": "stream",
     "text": [
      "{'loss': 0.7687, 'grad_norm': 6.521856784820557, 'learning_rate': 3.308693936411421e-05, 'epoch': 110.0}\n"
     ]
    },
    {
     "name": "stderr",
     "output_type": "stream",
     "text": [
      " 74%|███████▍  | 222/300 [13:08:33<4:25:47, 204.45s/it]c:\\ProgramData\\Anaconda3\\envs\\env_mark2\\Lib\\site-packages\\peft\\utils\\save_and_load.py:230: UserWarning: Setting `save_embedding_layers` to `True` as embedding layers found in `target_modules`.\n",
      "  warnings.warn(\"Setting `save_embedding_layers` to `True` as embedding layers found in `target_modules`.\")\n",
      " 75%|███████▍  | 224/300 [13:15:15<4:02:17, 191.28s/it]c:\\ProgramData\\Anaconda3\\envs\\env_mark2\\Lib\\site-packages\\peft\\utils\\save_and_load.py:230: UserWarning: Setting `save_embedding_layers` to `True` as embedding layers found in `target_modules`.\n",
      "  warnings.warn(\"Setting `save_embedding_layers` to `True` as embedding layers found in `target_modules`.\")\n",
      " 75%|███████▌  | 226/300 [13:22:33<3:58:36, 193.46s/it]c:\\ProgramData\\Anaconda3\\envs\\env_mark2\\Lib\\site-packages\\peft\\utils\\save_and_load.py:230: UserWarning: Setting `save_embedding_layers` to `True` as embedding layers found in `target_modules`.\n",
      "  warnings.warn(\"Setting `save_embedding_layers` to `True` as embedding layers found in `target_modules`.\")\n",
      " 76%|███████▌  | 228/300 [13:29:30<3:48:25, 190.35s/it]c:\\ProgramData\\Anaconda3\\envs\\env_mark2\\Lib\\site-packages\\peft\\utils\\save_and_load.py:230: UserWarning: Setting `save_embedding_layers` to `True` as embedding layers found in `target_modules`.\n",
      "  warnings.warn(\"Setting `save_embedding_layers` to `True` as embedding layers found in `target_modules`.\")\n",
      " 77%|███████▋  | 230/300 [13:36:50<3:46:23, 194.05s/it]c:\\ProgramData\\Anaconda3\\envs\\env_mark2\\Lib\\site-packages\\peft\\utils\\save_and_load.py:230: UserWarning: Setting `save_embedding_layers` to `True` as embedding layers found in `target_modules`.\n",
      "  warnings.warn(\"Setting `save_embedding_layers` to `True` as embedding layers found in `target_modules`.\")\n"
     ]
    },
    {
     "name": "stdout",
     "output_type": "stream",
     "text": [
      "{'loss': 0.7413, 'grad_norm': 5.235042572021484, 'learning_rate': 2.5685517452260567e-05, 'epoch': 115.0}\n"
     ]
    },
    {
     "name": "stderr",
     "output_type": "stream",
     "text": [
      " 77%|███████▋  | 232/300 [13:44:07<3:40:34, 194.62s/it]c:\\ProgramData\\Anaconda3\\envs\\env_mark2\\Lib\\site-packages\\peft\\utils\\save_and_load.py:230: UserWarning: Setting `save_embedding_layers` to `True` as embedding layers found in `target_modules`.\n",
      "  warnings.warn(\"Setting `save_embedding_layers` to `True` as embedding layers found in `target_modules`.\")\n",
      " 78%|███████▊  | 234/300 [13:51:31<3:37:48, 198.01s/it]c:\\ProgramData\\Anaconda3\\envs\\env_mark2\\Lib\\site-packages\\peft\\utils\\save_and_load.py:230: UserWarning: Setting `save_embedding_layers` to `True` as embedding layers found in `target_modules`.\n",
      "  warnings.warn(\"Setting `save_embedding_layers` to `True` as embedding layers found in `target_modules`.\")\n",
      " 79%|███████▊  | 236/300 [13:59:33<3:42:48, 208.88s/it]c:\\ProgramData\\Anaconda3\\envs\\env_mark2\\Lib\\site-packages\\peft\\utils\\save_and_load.py:230: UserWarning: Setting `save_embedding_layers` to `True` as embedding layers found in `target_modules`.\n",
      "  warnings.warn(\"Setting `save_embedding_layers` to `True` as embedding layers found in `target_modules`.\")\n",
      " 79%|███████▉  | 238/300 [14:06:49<3:28:23, 201.67s/it]c:\\ProgramData\\Anaconda3\\envs\\env_mark2\\Lib\\site-packages\\peft\\utils\\save_and_load.py:230: UserWarning: Setting `save_embedding_layers` to `True` as embedding layers found in `target_modules`.\n",
      "  warnings.warn(\"Setting `save_embedding_layers` to `True` as embedding layers found in `target_modules`.\")\n",
      " 80%|████████  | 240/300 [14:13:47<3:16:14, 196.24s/it]c:\\ProgramData\\Anaconda3\\envs\\env_mark2\\Lib\\site-packages\\peft\\utils\\save_and_load.py:230: UserWarning: Setting `save_embedding_layers` to `True` as embedding layers found in `target_modules`.\n",
      "  warnings.warn(\"Setting `save_embedding_layers` to `True` as embedding layers found in `target_modules`.\")\n"
     ]
    },
    {
     "name": "stdout",
     "output_type": "stream",
     "text": [
      "{'loss': 0.7189, 'grad_norm': 6.197702407836914, 'learning_rate': 1.9098300562505266e-05, 'epoch': 120.0}\n"
     ]
    },
    {
     "name": "stderr",
     "output_type": "stream",
     "text": [
      " 81%|████████  | 242/300 [14:20:22<3:00:32, 186.77s/it]c:\\ProgramData\\Anaconda3\\envs\\env_mark2\\Lib\\site-packages\\peft\\utils\\save_and_load.py:230: UserWarning: Setting `save_embedding_layers` to `True` as embedding layers found in `target_modules`.\n",
      "  warnings.warn(\"Setting `save_embedding_layers` to `True` as embedding layers found in `target_modules`.\")\n",
      " 81%|████████▏ | 244/300 [14:28:19<3:07:21, 200.75s/it]c:\\ProgramData\\Anaconda3\\envs\\env_mark2\\Lib\\site-packages\\peft\\utils\\save_and_load.py:230: UserWarning: Setting `save_embedding_layers` to `True` as embedding layers found in `target_modules`.\n",
      "  warnings.warn(\"Setting `save_embedding_layers` to `True` as embedding layers found in `target_modules`.\")\n",
      " 82%|████████▏ | 246/300 [14:36:16<3:07:16, 208.08s/it]c:\\ProgramData\\Anaconda3\\envs\\env_mark2\\Lib\\site-packages\\peft\\utils\\save_and_load.py:230: UserWarning: Setting `save_embedding_layers` to `True` as embedding layers found in `target_modules`.\n",
      "  warnings.warn(\"Setting `save_embedding_layers` to `True` as embedding layers found in `target_modules`.\")\n",
      " 83%|████████▎ | 248/300 [14:43:53<2:57:31, 204.85s/it]c:\\ProgramData\\Anaconda3\\envs\\env_mark2\\Lib\\site-packages\\peft\\utils\\save_and_load.py:230: UserWarning: Setting `save_embedding_layers` to `True` as embedding layers found in `target_modules`.\n",
      "  warnings.warn(\"Setting `save_embedding_layers` to `True` as embedding layers found in `target_modules`.\")\n",
      " 83%|████████▎ | 250/300 [14:51:25<2:49:19, 203.20s/it]c:\\ProgramData\\Anaconda3\\envs\\env_mark2\\Lib\\site-packages\\peft\\utils\\save_and_load.py:230: UserWarning: Setting `save_embedding_layers` to `True` as embedding layers found in `target_modules`.\n",
      "  warnings.warn(\"Setting `save_embedding_layers` to `True` as embedding layers found in `target_modules`.\")\n"
     ]
    },
    {
     "name": "stdout",
     "output_type": "stream",
     "text": [
      "{'loss': 0.7089, 'grad_norm': 5.881902694702148, 'learning_rate': 1.339745962155613e-05, 'epoch': 125.0}\n"
     ]
    },
    {
     "name": "stderr",
     "output_type": "stream",
     "text": [
      " 84%|████████▍ | 252/300 [14:57:59<2:32:32, 190.68s/it]c:\\ProgramData\\Anaconda3\\envs\\env_mark2\\Lib\\site-packages\\peft\\utils\\save_and_load.py:230: UserWarning: Setting `save_embedding_layers` to `True` as embedding layers found in `target_modules`.\n",
      "  warnings.warn(\"Setting `save_embedding_layers` to `True` as embedding layers found in `target_modules`.\")\n",
      " 85%|████████▍ | 254/300 [15:04:44<2:22:27, 185.81s/it]c:\\ProgramData\\Anaconda3\\envs\\env_mark2\\Lib\\site-packages\\peft\\utils\\save_and_load.py:230: UserWarning: Setting `save_embedding_layers` to `True` as embedding layers found in `target_modules`.\n",
      "  warnings.warn(\"Setting `save_embedding_layers` to `True` as embedding layers found in `target_modules`.\")\n",
      " 85%|████████▌ | 256/300 [15:11:51<2:19:45, 190.59s/it]c:\\ProgramData\\Anaconda3\\envs\\env_mark2\\Lib\\site-packages\\peft\\utils\\save_and_load.py:230: UserWarning: Setting `save_embedding_layers` to `True` as embedding layers found in `target_modules`.\n",
      "  warnings.warn(\"Setting `save_embedding_layers` to `True` as embedding layers found in `target_modules`.\")\n",
      " 86%|████████▌ | 258/300 [15:18:15<2:06:30, 180.72s/it]c:\\ProgramData\\Anaconda3\\envs\\env_mark2\\Lib\\site-packages\\peft\\utils\\save_and_load.py:230: UserWarning: Setting `save_embedding_layers` to `True` as embedding layers found in `target_modules`.\n",
      "  warnings.warn(\"Setting `save_embedding_layers` to `True` as embedding layers found in `target_modules`.\")\n",
      " 87%|████████▋ | 260/300 [15:24:41<1:57:23, 176.09s/it]c:\\ProgramData\\Anaconda3\\envs\\env_mark2\\Lib\\site-packages\\peft\\utils\\save_and_load.py:230: UserWarning: Setting `save_embedding_layers` to `True` as embedding layers found in `target_modules`.\n",
      "  warnings.warn(\"Setting `save_embedding_layers` to `True` as embedding layers found in `target_modules`.\")\n"
     ]
    },
    {
     "name": "stdout",
     "output_type": "stream",
     "text": [
      "{'loss': 0.6951, 'grad_norm': 5.797318458557129, 'learning_rate': 8.645454235739903e-06, 'epoch': 130.0}\n"
     ]
    },
    {
     "name": "stderr",
     "output_type": "stream",
     "text": [
      " 87%|████████▋ | 262/300 [15:31:02<1:49:41, 173.21s/it]c:\\ProgramData\\Anaconda3\\envs\\env_mark2\\Lib\\site-packages\\peft\\utils\\save_and_load.py:230: UserWarning: Setting `save_embedding_layers` to `True` as embedding layers found in `target_modules`.\n",
      "  warnings.warn(\"Setting `save_embedding_layers` to `True` as embedding layers found in `target_modules`.\")\n",
      " 88%|████████▊ | 264/300 [15:38:38<1:51:44, 186.23s/it]c:\\ProgramData\\Anaconda3\\envs\\env_mark2\\Lib\\site-packages\\peft\\utils\\save_and_load.py:230: UserWarning: Setting `save_embedding_layers` to `True` as embedding layers found in `target_modules`.\n",
      "  warnings.warn(\"Setting `save_embedding_layers` to `True` as embedding layers found in `target_modules`.\")\n",
      " 89%|████████▊ | 266/300 [15:45:57<1:49:17, 192.86s/it]c:\\ProgramData\\Anaconda3\\envs\\env_mark2\\Lib\\site-packages\\peft\\utils\\save_and_load.py:230: UserWarning: Setting `save_embedding_layers` to `True` as embedding layers found in `target_modules`.\n",
      "  warnings.warn(\"Setting `save_embedding_layers` to `True` as embedding layers found in `target_modules`.\")\n",
      " 89%|████████▉ | 268/300 [15:53:24<1:44:51, 196.61s/it]c:\\ProgramData\\Anaconda3\\envs\\env_mark2\\Lib\\site-packages\\peft\\utils\\save_and_load.py:230: UserWarning: Setting `save_embedding_layers` to `True` as embedding layers found in `target_modules`.\n",
      "  warnings.warn(\"Setting `save_embedding_layers` to `True` as embedding layers found in `target_modules`.\")\n",
      " 90%|█████████ | 270/300 [16:00:34<1:37:31, 195.04s/it]c:\\ProgramData\\Anaconda3\\envs\\env_mark2\\Lib\\site-packages\\peft\\utils\\save_and_load.py:230: UserWarning: Setting `save_embedding_layers` to `True` as embedding layers found in `target_modules`.\n",
      "  warnings.warn(\"Setting `save_embedding_layers` to `True` as embedding layers found in `target_modules`.\")\n"
     ]
    },
    {
     "name": "stdout",
     "output_type": "stream",
     "text": [
      "{'loss': 0.6876, 'grad_norm': 4.403503894805908, 'learning_rate': 4.8943483704846475e-06, 'epoch': 135.0}\n"
     ]
    },
    {
     "name": "stderr",
     "output_type": "stream",
     "text": [
      " 91%|█████████ | 272/300 [16:07:16<1:27:03, 186.54s/it]c:\\ProgramData\\Anaconda3\\envs\\env_mark2\\Lib\\site-packages\\peft\\utils\\save_and_load.py:230: UserWarning: Setting `save_embedding_layers` to `True` as embedding layers found in `target_modules`.\n",
      "  warnings.warn(\"Setting `save_embedding_layers` to `True` as embedding layers found in `target_modules`.\")\n",
      " 91%|█████████▏| 274/300 [16:14:25<1:21:59, 189.21s/it]c:\\ProgramData\\Anaconda3\\envs\\env_mark2\\Lib\\site-packages\\peft\\utils\\save_and_load.py:230: UserWarning: Setting `save_embedding_layers` to `True` as embedding layers found in `target_modules`.\n",
      "  warnings.warn(\"Setting `save_embedding_layers` to `True` as embedding layers found in `target_modules`.\")\n",
      " 92%|█████████▏| 276/300 [16:21:34<1:15:43, 189.32s/it]c:\\ProgramData\\Anaconda3\\envs\\env_mark2\\Lib\\site-packages\\peft\\utils\\save_and_load.py:230: UserWarning: Setting `save_embedding_layers` to `True` as embedding layers found in `target_modules`.\n",
      "  warnings.warn(\"Setting `save_embedding_layers` to `True` as embedding layers found in `target_modules`.\")\n",
      " 93%|█████████▎| 278/300 [16:29:00<1:11:38, 195.36s/it]c:\\ProgramData\\Anaconda3\\envs\\env_mark2\\Lib\\site-packages\\peft\\utils\\save_and_load.py:230: UserWarning: Setting `save_embedding_layers` to `True` as embedding layers found in `target_modules`.\n",
      "  warnings.warn(\"Setting `save_embedding_layers` to `True` as embedding layers found in `target_modules`.\")\n",
      " 93%|█████████▎| 280/300 [16:35:37<1:02:48, 188.44s/it]c:\\ProgramData\\Anaconda3\\envs\\env_mark2\\Lib\\site-packages\\peft\\utils\\save_and_load.py:230: UserWarning: Setting `save_embedding_layers` to `True` as embedding layers found in `target_modules`.\n",
      "  warnings.warn(\"Setting `save_embedding_layers` to `True` as embedding layers found in `target_modules`.\")\n"
     ]
    },
    {
     "name": "stdout",
     "output_type": "stream",
     "text": [
      "{'loss': 0.6843, 'grad_norm': 4.8043317794799805, 'learning_rate': 2.1852399266194314e-06, 'epoch': 140.0}\n"
     ]
    },
    {
     "name": "stderr",
     "output_type": "stream",
     "text": [
      " 94%|█████████▍| 282/300 [16:43:12<58:37, 195.39s/it]  c:\\ProgramData\\Anaconda3\\envs\\env_mark2\\Lib\\site-packages\\peft\\utils\\save_and_load.py:230: UserWarning: Setting `save_embedding_layers` to `True` as embedding layers found in `target_modules`.\n",
      "  warnings.warn(\"Setting `save_embedding_layers` to `True` as embedding layers found in `target_modules`.\")\n",
      " 95%|█████████▍| 284/300 [16:50:04<50:39, 189.94s/it]  c:\\ProgramData\\Anaconda3\\envs\\env_mark2\\Lib\\site-packages\\peft\\utils\\save_and_load.py:230: UserWarning: Setting `save_embedding_layers` to `True` as embedding layers found in `target_modules`.\n",
      "  warnings.warn(\"Setting `save_embedding_layers` to `True` as embedding layers found in `target_modules`.\")\n",
      " 95%|█████████▌| 286/300 [16:57:30<45:59, 197.13s/it]c:\\ProgramData\\Anaconda3\\envs\\env_mark2\\Lib\\site-packages\\peft\\utils\\save_and_load.py:230: UserWarning: Setting `save_embedding_layers` to `True` as embedding layers found in `target_modules`.\n",
      "  warnings.warn(\"Setting `save_embedding_layers` to `True` as embedding layers found in `target_modules`.\")\n",
      " 96%|█████████▌| 288/300 [17:04:24<38:22, 191.84s/it]c:\\ProgramData\\Anaconda3\\envs\\env_mark2\\Lib\\site-packages\\peft\\utils\\save_and_load.py:230: UserWarning: Setting `save_embedding_layers` to `True` as embedding layers found in `target_modules`.\n",
      "  warnings.warn(\"Setting `save_embedding_layers` to `True` as embedding layers found in `target_modules`.\")\n",
      " 97%|█████████▋| 290/300 [17:11:19<30:55, 185.59s/it]c:\\ProgramData\\Anaconda3\\envs\\env_mark2\\Lib\\site-packages\\peft\\utils\\save_and_load.py:230: UserWarning: Setting `save_embedding_layers` to `True` as embedding layers found in `target_modules`.\n",
      "  warnings.warn(\"Setting `save_embedding_layers` to `True` as embedding layers found in `target_modules`.\")\n"
     ]
    },
    {
     "name": "stdout",
     "output_type": "stream",
     "text": [
      "{'loss': 0.6836, 'grad_norm': 5.980234146118164, 'learning_rate': 5.478104631726711e-07, 'epoch': 145.0}\n"
     ]
    },
    {
     "name": "stderr",
     "output_type": "stream",
     "text": [
      " 97%|█████████▋| 292/300 [17:17:40<23:44, 178.03s/it]c:\\ProgramData\\Anaconda3\\envs\\env_mark2\\Lib\\site-packages\\peft\\utils\\save_and_load.py:230: UserWarning: Setting `save_embedding_layers` to `True` as embedding layers found in `target_modules`.\n",
      "  warnings.warn(\"Setting `save_embedding_layers` to `True` as embedding layers found in `target_modules`.\")\n",
      " 98%|█████████▊| 294/300 [17:24:37<18:11, 181.98s/it]c:\\ProgramData\\Anaconda3\\envs\\env_mark2\\Lib\\site-packages\\peft\\utils\\save_and_load.py:230: UserWarning: Setting `save_embedding_layers` to `True` as embedding layers found in `target_modules`.\n",
      "  warnings.warn(\"Setting `save_embedding_layers` to `True` as embedding layers found in `target_modules`.\")\n",
      " 99%|█████████▊| 296/300 [17:31:03<11:52, 178.20s/it]c:\\ProgramData\\Anaconda3\\envs\\env_mark2\\Lib\\site-packages\\peft\\utils\\save_and_load.py:230: UserWarning: Setting `save_embedding_layers` to `True` as embedding layers found in `target_modules`.\n",
      "  warnings.warn(\"Setting `save_embedding_layers` to `True` as embedding layers found in `target_modules`.\")\n",
      " 99%|█████████▉| 298/300 [17:38:37<06:20, 190.49s/it]c:\\ProgramData\\Anaconda3\\envs\\env_mark2\\Lib\\site-packages\\peft\\utils\\save_and_load.py:230: UserWarning: Setting `save_embedding_layers` to `True` as embedding layers found in `target_modules`.\n",
      "  warnings.warn(\"Setting `save_embedding_layers` to `True` as embedding layers found in `target_modules`.\")\n",
      "100%|██████████| 300/300 [17:45:19<00:00, 184.48s/it]c:\\ProgramData\\Anaconda3\\envs\\env_mark2\\Lib\\site-packages\\peft\\utils\\save_and_load.py:230: UserWarning: Setting `save_embedding_layers` to `True` as embedding layers found in `target_modules`.\n",
      "  warnings.warn(\"Setting `save_embedding_layers` to `True` as embedding layers found in `target_modules`.\")\n"
     ]
    },
    {
     "name": "stdout",
     "output_type": "stream",
     "text": [
      "{'loss': 0.6815, 'grad_norm': 5.510958194732666, 'learning_rate': 0.0, 'epoch': 150.0}\n"
     ]
    },
    {
     "name": "stderr",
     "output_type": "stream",
     "text": [
      "c:\\ProgramData\\Anaconda3\\envs\\env_mark2\\Lib\\site-packages\\peft\\utils\\save_and_load.py:230: UserWarning: Setting `save_embedding_layers` to `True` as embedding layers found in `target_modules`.\n",
      "  warnings.warn(\"Setting `save_embedding_layers` to `True` as embedding layers found in `target_modules`.\")\n",
      "100%|██████████| 300/300 [17:45:22<00:00, 213.07s/it]\n",
      "c:\\ProgramData\\Anaconda3\\envs\\env_mark2\\Lib\\site-packages\\peft\\utils\\save_and_load.py:230: UserWarning: Setting `save_embedding_layers` to `True` as embedding layers found in `target_modules`.\n",
      "  warnings.warn(\"Setting `save_embedding_layers` to `True` as embedding layers found in `target_modules`.\")\n"
     ]
    },
    {
     "name": "stdout",
     "output_type": "stream",
     "text": [
      "{'train_runtime': 63922.2707, 'train_samples_per_second': 1.535, 'train_steps_per_second': 0.005, 'train_loss': 4.722296509742737, 'epoch': 150.0}\n"
     ]
    }
   ],
   "source": [
    "train_llm(script_args, training_args, model_args)\n",
    "\n"
   ]
  },
  {
   "cell_type": "code",
   "execution_count": null,
   "metadata": {},
   "outputs": [],
   "source": []
  }
 ],
 "metadata": {
  "kernelspec": {
   "display_name": "env_mark2",
   "language": "python",
   "name": "python3"
  },
  "language_info": {
   "codemirror_mode": {
    "name": "ipython",
    "version": 3
   },
   "file_extension": ".py",
   "mimetype": "text/x-python",
   "name": "python",
   "nbconvert_exporter": "python",
   "pygments_lexer": "ipython3",
   "version": "3.11.11 | packaged by Anaconda, Inc. | (main, Dec 11 2024, 16:34:19) [MSC v.1929 64 bit (AMD64)]"
  },
  "orig_nbformat": 4,
  "vscode": {
   "interpreter": {
    "hash": "f87182359ad1e1717f75183bd527c24c8e1860a12743fa9b61673a555a9da06f"
   }
  }
 },
 "nbformat": 4,
 "nbformat_minor": 2
}

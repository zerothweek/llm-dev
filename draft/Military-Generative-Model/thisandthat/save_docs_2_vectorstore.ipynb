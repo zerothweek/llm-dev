{
 "cells": [
  {
   "cell_type": "code",
   "execution_count": 1,
   "metadata": {},
   "outputs": [],
   "source": [
    "from langchain_community.document_loaders import DirectoryLoader\n",
    "from langchain_community.document_loaders import UnstructuredMarkdownLoader, TextLoader\n",
    "from langchain.text_splitter import MarkdownHeaderTextSplitter"
   ]
  },
  {
   "cell_type": "code",
   "execution_count": 2,
   "metadata": {},
   "outputs": [],
   "source": [
    "from langchain_community.embeddings import GPT4AllEmbeddings, HuggingFaceEmbeddings\n",
    "from langchain_community.vectorstores import Chroma"
   ]
  },
  {
   "attachments": {},
   "cell_type": "markdown",
   "metadata": {},
   "source": [
    "### `DocumnetManager` & `EmbeddingManager`"
   ]
  },
  {
   "cell_type": "code",
   "execution_count": 3,
   "metadata": {},
   "outputs": [],
   "source": [
    "class DocumentManager:\n",
    "    def __init__(self, file_path):\n",
    "        self.file_path = file_path\n",
    "        self.document = None\n",
    "        self.all_sections = []\n",
    "    def load_documents(self):\n",
    "        with open(self.file_path, \"r\", encoding='utf-8') as file:\n",
    "            self.document=file.read()\n",
    "\n",
    "    def split_documents(self):\n",
    "        headers_to_split_on = [(\"#\", \"Header 1\"), (\"##\", \"Header 2\"), (\"###\", \"Header 3\"), (\"####\", \"Header 4\")]\n",
    "        header_dict = {\"Header 1\": \"#\", \"Header 2\": \"##\", \"Header 3\": \"###\", \"Header 4\": \"####\"}\n",
    "        text_splitter = MarkdownHeaderTextSplitter(headers_to_split_on=headers_to_split_on, strip_headers=True)\n",
    "        sections = text_splitter.split_text(self.document)\n",
    "        for section in sections:\n",
    "            add_header = \"\"\n",
    "            for k, v in section.metadata.items():\n",
    "                add_header += (header_dict[k] + v + '\\n')\n",
    "            section.page_content = add_header + section.page_content\n",
    "                \n",
    "        self.all_sections.extend(sections)\n",
    "\n",
    "        "
   ]
  },
  {
   "cell_type": "code",
   "execution_count": 4,
   "metadata": {},
   "outputs": [],
   "source": [
    "class EmbeddingManager:\n",
    "    def __init__(self, all_sections, persist_directory='./vectordb'):\n",
    "        self.all_sections = all_sections\n",
    "        self.persist_directory = persist_directory\n",
    "        self.vectordb = None\n",
    "    \n",
    "    def create_and_persist_embeddings(self):\n",
    "        embedding = HuggingFaceEmbeddings(model_name='C://Users//AFOC//Desktop//llm_mark2//models//multilingual-e5-large-instruct')\n",
    "        self.vectordb = Chroma.from_documents(documents=self.all_sections, embedding=embedding, persist_directory=self.persist_directory)"
   ]
  },
  {
   "attachments": {},
   "cell_type": "markdown",
   "metadata": {},
   "source": [
    "### `.md` -> `vector db`(변환)"
   ]
  },
  {
   "cell_type": "code",
   "execution_count": 5,
   "metadata": {},
   "outputs": [
    {
     "ename": "FileNotFoundError",
     "evalue": "[Errno 2] No such file or directory: 'C://Users//AFOC//Desktop//llm_mark2//langchain-streamlit//md_files//document1.md'",
     "output_type": "error",
     "traceback": [
      "\u001b[1;31m---------------------------------------------------------------------------\u001b[0m",
      "\u001b[1;31mFileNotFoundError\u001b[0m                         Traceback (most recent call last)",
      "Cell \u001b[1;32mIn[5], line 2\u001b[0m\n\u001b[0;32m      1\u001b[0m doc_manager \u001b[39m=\u001b[39m DocumentManager(\u001b[39m'\u001b[39m\u001b[39mC://Users//AFOC//Desktop//llm_mark2//langchain-streamlit//md_files//document1.md\u001b[39m\u001b[39m'\u001b[39m)\n\u001b[1;32m----> 2\u001b[0m doc_manager\u001b[39m.\u001b[39;49mload_documents()\n\u001b[0;32m      3\u001b[0m doc_manager\u001b[39m.\u001b[39msplit_documents()\n",
      "Cell \u001b[1;32mIn[3], line 7\u001b[0m, in \u001b[0;36mDocumentManager.load_documents\u001b[1;34m(self)\u001b[0m\n\u001b[0;32m      6\u001b[0m \u001b[39mdef\u001b[39;00m \u001b[39mload_documents\u001b[39m(\u001b[39mself\u001b[39m):\n\u001b[1;32m----> 7\u001b[0m     \u001b[39mwith\u001b[39;00m \u001b[39mopen\u001b[39;49m(\u001b[39mself\u001b[39;49m\u001b[39m.\u001b[39;49mfile_path, \u001b[39m\"\u001b[39;49m\u001b[39mr\u001b[39;49m\u001b[39m\"\u001b[39;49m, encoding\u001b[39m=\u001b[39;49m\u001b[39m'\u001b[39;49m\u001b[39mutf-8\u001b[39;49m\u001b[39m'\u001b[39;49m) \u001b[39mas\u001b[39;00m file:\n\u001b[0;32m      8\u001b[0m         \u001b[39mself\u001b[39m\u001b[39m.\u001b[39mdocument\u001b[39m=\u001b[39mfile\u001b[39m.\u001b[39mread()\n",
      "File \u001b[1;32mc:\\ProgramData\\Anaconda3\\envs\\env_mark2\\Lib\\site-packages\\IPython\\core\\interactiveshell.py:324\u001b[0m, in \u001b[0;36m_modified_open\u001b[1;34m(file, *args, **kwargs)\u001b[0m\n\u001b[0;32m    317\u001b[0m \u001b[39mif\u001b[39;00m file \u001b[39min\u001b[39;00m {\u001b[39m0\u001b[39m, \u001b[39m1\u001b[39m, \u001b[39m2\u001b[39m}:\n\u001b[0;32m    318\u001b[0m     \u001b[39mraise\u001b[39;00m \u001b[39mValueError\u001b[39;00m(\n\u001b[0;32m    319\u001b[0m         \u001b[39mf\u001b[39m\u001b[39m\"\u001b[39m\u001b[39mIPython won\u001b[39m\u001b[39m'\u001b[39m\u001b[39mt let you open fd=\u001b[39m\u001b[39m{\u001b[39;00mfile\u001b[39m}\u001b[39;00m\u001b[39m by default \u001b[39m\u001b[39m\"\u001b[39m\n\u001b[0;32m    320\u001b[0m         \u001b[39m\"\u001b[39m\u001b[39mas it is likely to crash IPython. If you know what you are doing, \u001b[39m\u001b[39m\"\u001b[39m\n\u001b[0;32m    321\u001b[0m         \u001b[39m\"\u001b[39m\u001b[39myou can use builtins\u001b[39m\u001b[39m'\u001b[39m\u001b[39m open.\u001b[39m\u001b[39m\"\u001b[39m\n\u001b[0;32m    322\u001b[0m     )\n\u001b[1;32m--> 324\u001b[0m \u001b[39mreturn\u001b[39;00m io_open(file, \u001b[39m*\u001b[39;49margs, \u001b[39m*\u001b[39;49m\u001b[39m*\u001b[39;49mkwargs)\n",
      "\u001b[1;31mFileNotFoundError\u001b[0m: [Errno 2] No such file or directory: 'C://Users//AFOC//Desktop//llm_mark2//langchain-streamlit//md_files//document1.md'"
     ]
    }
   ],
   "source": [
    "doc_manager = DocumentManager('C://Users//AFOC//Desktop//llm_mark2//langchain-streamlit//md_files//document1.md')\n",
    "doc_manager.load_documents()\n",
    "doc_manager.split_documents()"
   ]
  },
  {
   "cell_type": "code",
   "execution_count": null,
   "metadata": {},
   "outputs": [],
   "source": [
    "embed_manager = EmbeddingManager(doc_manager.all_sections)\n",
    "embed_manager.create_and_persist_embeddings()"
   ]
  },
  {
   "attachments": {},
   "cell_type": "markdown",
   "metadata": {},
   "source": [
    "### `vectordb` 불러오기 & `retriever` 테스트"
   ]
  },
  {
   "cell_type": "code",
   "execution_count": 11,
   "metadata": {},
   "outputs": [],
   "source": [
    "persist_directory = 'C://Users//AFOC//Desktop//llm_mark2//langchain-streamlit//vectordb'\n",
    "vectordb = Chroma(persist_directory=persist_directory, embedding_function=HuggingFaceEmbeddings(model_name='C://Users//AFOC//Desktop//llm_mark2//models//multilingual-e5-large-instruct'))"
   ]
  },
  {
   "cell_type": "code",
   "execution_count": 12,
   "metadata": {},
   "outputs": [],
   "source": [
    "retriever = vectordb.as_retriever(search_kwargs={\"k\": 4})"
   ]
  },
  {
   "cell_type": "code",
   "execution_count": 15,
   "metadata": {},
   "outputs": [],
   "source": [
    "docs = retriever.invoke(\"대학 졸업예정으로 군대연기하려면?\")"
   ]
  },
  {
   "cell_type": "code",
   "execution_count": 16,
   "metadata": {},
   "outputs": [
    {
     "data": {
      "text/plain": [
       "[Document(metadata={'Header 1': '현역병 입영일자 연기', 'Header 2': '입영일자 연기사유, 연기기간 및 구비서류', 'Header 3': '현역병 입영일자 연기사유별 연기기간 및 첨부서류', 'Header 4': '연기사유 7. **각급학교 입학시험 응시-3**'}, page_content='#현역병 입영일자 연기\\n##입영일자 연기사유, 연기기간 및 구비서류\\n###현역병 입영일자 연기사유별 연기기간 및 첨부서류\\n####연기사유 7. **각급학교 입학시험 응시-3**\\n- 연기기간:\\n- 대학 편입학 예정자는 대학 수료 또는 졸업 다음 해 5월 말일까지의 범위에서 기간을 정하여 연기.\\n- 구비서류\\n- 신청인 제출서류: 졸업·수료(예정) 증명서, 수학능력시험 접수증 등.\\n- 담당자 확인사항: 없음.'),\n",
       " Document(metadata={'Header 1': '현역병 입영일자 연기', 'Header 2': '입영일자 연기사유, 연기기간 및 구비서류', 'Header 3': '현역병 입영일자 연기사유별 연기기간 및 첨부서류', 'Header 4': '연기사유 18. **졸업예정자**'}, page_content='#현역병 입영일자 연기\\n##입영일자 연기사유, 연기기간 및 구비서류\\n###현역병 입영일자 연기사유별 연기기간 및 첨부서류\\n####연기사유 18. **졸업예정자**\\n- 연기기간:\\n- 각급학교(2년제 대학 이상) 졸업 예정자로서 학업을 계속 희망하는 사람은 각급 학교별 제한 연령 초과 1년의 범위에서 졸업 시까지 연기(휴학자 제외).\\n- 제한 연령 기준:\\n- 2년제 대학: 23세.\\n- 3년제 대학: 24세.\\n- 4년제 대학: 25세.\\n- 5년제 대학: 26세.\\n- 6년제 대학: 27세.\\n- 의과·약학 대학: 28세.\\n- 석사학위 2년제 과정: 27세.\\n- 석사학위 2년 초과 과정: 28세.\\n- 의과·약학 대학원: 29세.\\n- 박사학위 과정: 29세.\\n- 연수기관: 27세.\\n- 구비서류\\n- 신청인 제출서류: 재학(수료)증명서, 졸업예정증명서 등.\\n- 담당자 확인사항: 없음.'),\n",
       " Document(metadata={'Header 1': '현역병 입영일자 연기', 'Header 2': '신청시기'}, page_content='#현역병 입영일자 연기\\n##신청시기\\n- 입영일 5일전까지 신청이 가능'),\n",
       " Document(metadata={'Header 1': '현역병 입영일자 연기', 'Header 2': '입영일자 연기사유, 연기기간 및 구비서류', 'Header 3': '현역병 입영일자 연기사유별 연기기간 및 첨부서류', 'Header 4': '연기사유 7. **각급학교 입학시험 응시**'}, page_content='#현역병 입영일자 연기\\n##입영일자 연기사유, 연기기간 및 구비서류\\n###현역병 입영일자 연기사유별 연기기간 및 첨부서류\\n####연기사유 7. **각급학교 입학시험 응시**\\n- 연기기간:\\n- 대학진학(중·고교 진학·복학예정자 포함) 예정자는 21세가 되는 해의 5월 말까지 연기.\\n- 이에 더하여 연기를 희망하는 사람은 대학수학능력시험 접수증 등 증빙서류를 제출하는 경우 22세가 되는 해의 5월 말까지 연기.\\n- 구비서류\\n- 신청인 제출서류: 졸업·수료(예정) 증명서, 수학능력시험 접수증 등.\\n- 담당자 확인사항: 없음.')]"
      ]
     },
     "execution_count": 16,
     "metadata": {},
     "output_type": "execute_result"
    }
   ],
   "source": [
    "docs"
   ]
  }
 ],
 "metadata": {
  "kernelspec": {
   "display_name": "env_mark2",
   "language": "python",
   "name": "python3"
  },
  "language_info": {
   "codemirror_mode": {
    "name": "ipython",
    "version": 3
   },
   "file_extension": ".py",
   "mimetype": "text/x-python",
   "name": "python",
   "nbconvert_exporter": "python",
   "pygments_lexer": "ipython3",
   "version": "3.11.11"
  },
  "orig_nbformat": 4,
  "vscode": {
   "interpreter": {
    "hash": "f87182359ad1e1717f75183bd527c24c8e1860a12743fa9b61673a555a9da06f"
   }
  }
 },
 "nbformat": 4,
 "nbformat_minor": 2
}

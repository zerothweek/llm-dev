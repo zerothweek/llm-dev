{
 "cells": [
  {
   "cell_type": "code",
   "execution_count": 1,
   "metadata": {},
   "outputs": [
    {
     "name": "stderr",
     "output_type": "stream",
     "text": [
      "c:\\ProgramData\\Anaconda3\\envs\\llm_final\\Lib\\site-packages\\tqdm\\auto.py:21: TqdmWarning: IProgress not found. Please update jupyter and ipywidgets. See https://ipywidgets.readthedocs.io/en/stable/user_install.html\n",
      "  from .autonotebook import tqdm as notebook_tqdm\n"
     ]
    }
   ],
   "source": [
    "from datasets import Dataset, DatasetDict\n",
    "import json"
   ]
  },
  {
   "attachments": {},
   "cell_type": "markdown",
   "metadata": {},
   "source": [
    "#### `json` data"
   ]
  },
  {
   "cell_type": "code",
   "execution_count": 12,
   "metadata": {},
   "outputs": [
    {
     "data": {
      "text/plain": [
       "[{'question': '입영일자 연기 제도란 무엇인가요?',\n",
       "  'answer': '현역병 입영 대상자로서 질병 등 부득이한 사유로 지정된 입영일자에 입영할 수 없는 사람이 병역이행일 연기신청서를 제출하면, 이를 심사하여 입영일자를 연기하는 제도입니다.'},\n",
       " {'question': '입영일자 연기 신청 대상자는 누구인가요?',\n",
       "  'answer': '현역병입영 대상자로서 아래 연기사유에 해당되는 사람입니다. 단, 입영일자나 입영부대를 본인이 선택한 사람은 연기 처리 제한이 있으며, 예외적으로 질병, 직계 존·비속 간호, 천재·지변, 행방불명, 각군 지원 사유자는 연기가 가능합니다.'},\n",
       " {'question': '입영일자 연기 신청은 언제까지 가능한가요?', 'answer': '입영일 5일 전까지 신청이 가능합니다.'},\n",
       " {'question': '입영일자 연기 신청은 어디에서 하나요?',\n",
       "  'answer': '지방병무청 현역입영 부서(현역입영과, 병역판정입영과, 병역관리과)에서 신청할 수 있습니다. 우편 제출 시, 병무청 「병무민원포털」에서 병역이행일 연기신청서를 다운받아 작성 후, 입영통지서를 받은 지방병무청(지청)으로 송부하면 됩니다.'}]"
      ]
     },
     "execution_count": 12,
     "metadata": {},
     "output_type": "execute_result"
    }
   ],
   "source": [
    "with open(\"../datasets/json_data/example_data.json\", \"r\", encoding='utf-8') as f:\n",
    "    data = json.load(f)\n",
    "    \n",
    "\n",
    "data"
   ]
  },
  {
   "attachments": {},
   "cell_type": "markdown",
   "metadata": {},
   "source": [
    "#### `json` -> `dataset dict` 로 변환 및 저장"
   ]
  },
  {
   "cell_type": "code",
   "execution_count": 13,
   "metadata": {},
   "outputs": [],
   "source": [
    "# 변환\n",
    "dataset = Dataset.from_list(data)\n",
    "\n",
    "dataset_dict = DatasetDict({\n",
    "    \"train\": dataset\n",
    "})"
   ]
  },
  {
   "cell_type": "code",
   "execution_count": 14,
   "metadata": {},
   "outputs": [
    {
     "name": "stderr",
     "output_type": "stream",
     "text": [
      "Saving the dataset (1/1 shards): 100%|██████████| 4/4 [00:00<00:00, 573.36 examples/s]\n"
     ]
    }
   ],
   "source": [
    "# 저장\n",
    "dataset_dict.save_to_disk('../datasets/dataset_dict_data/example_data')"
   ]
  },
  {
   "cell_type": "code",
   "execution_count": null,
   "metadata": {},
   "outputs": [],
   "source": [
    "# rf. dataset_dict  column 이름 변경하는 법\n",
    "#dataset_dict = dataset_dict.rename_column(\"response\", \"completion\")"
   ]
  },
  {
   "attachments": {},
   "cell_type": "markdown",
   "metadata": {},
   "source": [
    "#### `dataset dict` data"
   ]
  },
  {
   "cell_type": "code",
   "execution_count": 15,
   "metadata": {},
   "outputs": [
    {
     "data": {
      "text/plain": [
       "DatasetDict({\n",
       "    train: Dataset({\n",
       "        features: ['question', 'answer'],\n",
       "        num_rows: 4\n",
       "    })\n",
       "})"
      ]
     },
     "execution_count": 15,
     "metadata": {},
     "output_type": "execute_result"
    }
   ],
   "source": [
    "dataset_dict"
   ]
  },
  {
   "cell_type": "code",
   "execution_count": 20,
   "metadata": {},
   "outputs": [
    {
     "data": {
      "text/plain": [
       "Dataset({\n",
       "    features: ['question', 'answer'],\n",
       "    num_rows: 4\n",
       "})"
      ]
     },
     "execution_count": 20,
     "metadata": {},
     "output_type": "execute_result"
    }
   ],
   "source": [
    "train = dataset_dict['train']\n",
    "train"
   ]
  },
  {
   "cell_type": "code",
   "execution_count": 19,
   "metadata": {},
   "outputs": [
    {
     "data": {
      "text/plain": [
       "{'question': '입영일자 연기 제도란 무엇인가요?',\n",
       " 'answer': '현역병 입영 대상자로서 질병 등 부득이한 사유로 지정된 입영일자에 입영할 수 없는 사람이 병역이행일 연기신청서를 제출하면, 이를 심사하여 입영일자를 연기하는 제도입니다.'}"
      ]
     },
     "execution_count": 19,
     "metadata": {},
     "output_type": "execute_result"
    }
   ],
   "source": [
    "train[0]"
   ]
  },
  {
   "attachments": {},
   "cell_type": "markdown",
   "metadata": {},
   "source": [
    "### `train_data` 만들기\n"
   ]
  },
  {
   "attachments": {},
   "cell_type": "markdown",
   "metadata": {},
   "source": [
    "#### 방법1\n",
    "- SFTTrainer는 특정 데이터셋 딕셔너리 형식을 전처리 없이 바로 사용할 수 있는 (자동변환을) 지원한다.\n",
    "- 문제는 몇몇 모델 중 이 자동변환에 오류가 있는 경우가 있다.(EXAONE이 그러하다..)\n",
    "- 대부분의 모델들에서는 잘 작동한다. 방법은 아래와 같다."
   ]
  },
  {
   "cell_type": "code",
   "execution_count": 30,
   "metadata": {},
   "outputs": [],
   "source": [
    "from datasets import load_from_disk\n",
    "dataset_dict = load_from_disk('../datasets/dataset_dict_data/example_data')"
   ]
  },
  {
   "cell_type": "code",
   "execution_count": 31,
   "metadata": {},
   "outputs": [
    {
     "data": {
      "text/plain": [
       "DatasetDict({\n",
       "    train: Dataset({\n",
       "        features: ['question', 'answer'],\n",
       "        num_rows: 4\n",
       "    })\n",
       "})"
      ]
     },
     "execution_count": 31,
     "metadata": {},
     "output_type": "execute_result"
    }
   ],
   "source": [
    "dataset_dict"
   ]
  },
  {
   "cell_type": "code",
   "execution_count": 34,
   "metadata": {},
   "outputs": [
    {
     "data": {
      "text/plain": [
       "{'question': '입영일자 연기 제도란 무엇인가요?',\n",
       " 'answer': '현역병 입영 대상자로서 질병 등 부득이한 사유로 지정된 입영일자에 입영할 수 없는 사람이 병역이행일 연기신청서를 제출하면, 이를 심사하여 입영일자를 연기하는 제도입니다.'}"
      ]
     },
     "execution_count": 34,
     "metadata": {},
     "output_type": "execute_result"
    }
   ],
   "source": [
    "dataset_dict['train'][0]"
   ]
  },
  {
   "cell_type": "code",
   "execution_count": 32,
   "metadata": {},
   "outputs": [],
   "source": [
    "from datasets import DatasetDict, Dataset\n",
    "\n",
    "system_prompt = (\n",
    "    \"You are a helpful assistant.\"\n",
    ")\n",
    "\n",
    "def transform_row(example):\n",
    "    prompt = example['question']\n",
    "    response = example['answer']\n",
    "    messages = [\n",
    "        {\"role\": \"system\", \"content\": system_prompt},\n",
    "        {\"role\": \"user\", \"content\": prompt},\n",
    "        {\"role\": \"assistant\", \"content\": response},\n",
    "        \n",
    "    ]\n",
    "    return {\"messages\": messages}\n",
    "\n",
    "new_train_dataset = dataset_dict['train'].map(transform_row, remove_columns=['question', 'answer'])\n",
    "\n",
    "new_dataset_dict = DatasetDict({\n",
    "    'train': new_train_dataset\n",
    "})"
   ]
  },
  {
   "cell_type": "code",
   "execution_count": 33,
   "metadata": {},
   "outputs": [
    {
     "data": {
      "text/plain": [
       "DatasetDict({\n",
       "    train: Dataset({\n",
       "        features: ['messages'],\n",
       "        num_rows: 4\n",
       "    })\n",
       "})"
      ]
     },
     "execution_count": 33,
     "metadata": {},
     "output_type": "execute_result"
    }
   ],
   "source": [
    "new_dataset_dict"
   ]
  },
  {
   "cell_type": "code",
   "execution_count": 29,
   "metadata": {},
   "outputs": [
    {
     "data": {
      "text/plain": [
       "{'messages': [{'content': 'You are a helpful assistant.', 'role': 'system'},\n",
       "  {'content': '입영일자 연기 제도란 무엇인가요?', 'role': 'user'},\n",
       "  {'content': '현역병 입영 대상자로서 질병 등 부득이한 사유로 지정된 입영일자에 입영할 수 없는 사람이 병역이행일 연기신청서를 제출하면, 이를 심사하여 입영일자를 연기하는 제도입니다.',\n",
       "   'role': 'assistant'}]}"
      ]
     },
     "execution_count": 29,
     "metadata": {},
     "output_type": "execute_result"
    }
   ],
   "source": [
    "new_dataset_dict['train'][0]"
   ]
  },
  {
   "cell_type": "code",
   "execution_count": 35,
   "metadata": {},
   "outputs": [
    {
     "name": "stderr",
     "output_type": "stream",
     "text": [
      "Saving the dataset (1/1 shards): 100%|██████████| 4/4 [00:00<00:00, 950.50 examples/s] \n"
     ]
    }
   ],
   "source": [
    "new_dataset_dict.save_to_disk('../datasets/train_data/example_data')"
   ]
  },
  {
   "attachments": {},
   "cell_type": "markdown",
   "metadata": {},
   "source": [
    "#### 방법 2\n",
    "- SFTTrainer 에 직접 formatting_func 설정\n",
    "- 아래는 예시코드이다. "
   ]
  },
  {
   "cell_type": "code",
   "execution_count": null,
   "metadata": {},
   "outputs": [],
   "source": [
    "# trainer = SFTTrainer(\n",
    "#     .....\n",
    "#     train_dataset= dataset,\n",
    "#     formatting_func = formatting_prompt_func, \n",
    "#     ....\n",
    "# )\n",
    "# trainer.train()"
   ]
  },
  {
   "cell_type": "code",
   "execution_count": null,
   "metadata": {},
   "outputs": [],
   "source": [
    "# train_dataset 예시\n",
    "from datasets import load_from_disk\n",
    "dataset_dict = load_from_disk('../datasets/dataset_dict_data/example_data')\n",
    "dataset = dataset_dict['train']"
   ]
  },
  {
   "cell_type": "code",
   "execution_count": null,
   "metadata": {},
   "outputs": [],
   "source": [
    "# formatting_func 예시\n",
    "def formatting_prompt_func(example):\n",
    "    output_texts = []\n",
    "    system_message = \"너는 병역이행법 상담을 도와주는 챗봇이야.\"\n",
    "    for i in range(len(example['question'])):\n",
    "        text = f\"[|system|]{system_message}[|endofturn|]\\n[|user|]{example['question'][i]}[|endofturn|]\\n[|assistant|]{example['answer'][i]}[|endofturn|]\"\n",
    "        output_texts.append(text)\n",
    "    return output_texts"
   ]
  }
 ],
 "metadata": {
  "kernelspec": {
   "display_name": "llm_final",
   "language": "python",
   "name": "python3"
  },
  "language_info": {
   "codemirror_mode": {
    "name": "ipython",
    "version": 3
   },
   "file_extension": ".py",
   "mimetype": "text/x-python",
   "name": "python",
   "nbconvert_exporter": "python",
   "pygments_lexer": "ipython3",
   "version": "3.11.11 | packaged by Anaconda, Inc. | (main, Dec 11 2024, 16:34:19) [MSC v.1929 64 bit (AMD64)]"
  },
  "orig_nbformat": 4,
  "vscode": {
   "interpreter": {
    "hash": "90253832980c3c6cd087a3988e49febde8d09110ec0c14b52b616cb44c591269"
   }
  }
 },
 "nbformat": 4,
 "nbformat_minor": 2
}

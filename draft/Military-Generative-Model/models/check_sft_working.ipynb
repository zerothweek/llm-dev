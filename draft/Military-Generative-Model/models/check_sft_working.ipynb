{
 "cells": [
  {
   "cell_type": "code",
   "execution_count": null,
   "metadata": {},
   "outputs": [],
   "source": []
  }
 ],
 "metadata": {
  "kernelspec": {
   "display_name": "iislab",
   "language": "python",
   "name": "python3"
  },
  "language_info": {
   "name": "python",
   "version": "3.9.16 (main, Jan 11 2023, 16:16:36) [MSC v.1916 64 bit (AMD64)]"
  },
  "orig_nbformat": 4,
  "vscode": {
   "interpreter": {
    "hash": "4c15f37f947291669b0901139f1c500aceae2af0fe46402cc65bf7b48a4c2811"
   }
  }
 },
 "nbformat": 4,
 "nbformat_minor": 2
}
